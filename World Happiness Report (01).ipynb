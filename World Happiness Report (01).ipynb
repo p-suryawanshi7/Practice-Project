{
 "cells": [
  {
   "cell_type": "markdown",
   "id": "502df24e",
   "metadata": {},
   "source": [
    "# World Happiness Report"
   ]
  },
  {
   "cell_type": "code",
   "execution_count": 5,
   "id": "aff2e035",
   "metadata": {},
   "outputs": [],
   "source": [
    "import pandas as pd\n",
    "import numpy as np\n",
    "import seaborn as sns\n",
    "import matplotlib.pyplot as plt\n",
    "%matplotlib inline\n",
    "import warnings\n",
    "warnings.filterwarnings('ignore')\n",
    "\n",
    "import statsmodels.api as sm\n",
    "from scipy import stats\n",
    "from statsmodels.stats.outliers_influence import variance_inflation_factor\n",
    "from sklearn.preprocessing  import power_transform\n",
    "from sklearn.preprocessing import StandardScaler"
   ]
  },
  {
   "cell_type": "markdown",
   "id": "f7dbccc9",
   "metadata": {},
   "source": [
    "# Importing the dataset"
   ]
  },
  {
   "cell_type": "code",
   "execution_count": 6,
   "id": "cf314c9b",
   "metadata": {},
   "outputs": [
    {
     "data": {
      "text/html": [
       "<div>\n",
       "<style scoped>\n",
       "    .dataframe tbody tr th:only-of-type {\n",
       "        vertical-align: middle;\n",
       "    }\n",
       "\n",
       "    .dataframe tbody tr th {\n",
       "        vertical-align: top;\n",
       "    }\n",
       "\n",
       "    .dataframe thead th {\n",
       "        text-align: right;\n",
       "    }\n",
       "</style>\n",
       "<table border=\"1\" class=\"dataframe\">\n",
       "  <thead>\n",
       "    <tr style=\"text-align: right;\">\n",
       "      <th></th>\n",
       "      <th>Country</th>\n",
       "      <th>Region</th>\n",
       "      <th>Happiness Rank</th>\n",
       "      <th>Happiness Score</th>\n",
       "      <th>Standard Error</th>\n",
       "      <th>Economy (GDP per Capita)</th>\n",
       "      <th>Family</th>\n",
       "      <th>Health (Life Expectancy)</th>\n",
       "      <th>Freedom</th>\n",
       "      <th>Trust (Government Corruption)</th>\n",
       "      <th>Generosity</th>\n",
       "      <th>Dystopia Residual</th>\n",
       "    </tr>\n",
       "  </thead>\n",
       "  <tbody>\n",
       "    <tr>\n",
       "      <th>0</th>\n",
       "      <td>Switzerland</td>\n",
       "      <td>Western Europe</td>\n",
       "      <td>1</td>\n",
       "      <td>7.587</td>\n",
       "      <td>0.03411</td>\n",
       "      <td>1.39651</td>\n",
       "      <td>1.34951</td>\n",
       "      <td>0.94143</td>\n",
       "      <td>0.66557</td>\n",
       "      <td>0.41978</td>\n",
       "      <td>0.29678</td>\n",
       "      <td>2.51738</td>\n",
       "    </tr>\n",
       "    <tr>\n",
       "      <th>1</th>\n",
       "      <td>Iceland</td>\n",
       "      <td>Western Europe</td>\n",
       "      <td>2</td>\n",
       "      <td>7.561</td>\n",
       "      <td>0.04884</td>\n",
       "      <td>1.30232</td>\n",
       "      <td>1.40223</td>\n",
       "      <td>0.94784</td>\n",
       "      <td>0.62877</td>\n",
       "      <td>0.14145</td>\n",
       "      <td>0.43630</td>\n",
       "      <td>2.70201</td>\n",
       "    </tr>\n",
       "    <tr>\n",
       "      <th>2</th>\n",
       "      <td>Denmark</td>\n",
       "      <td>Western Europe</td>\n",
       "      <td>3</td>\n",
       "      <td>7.527</td>\n",
       "      <td>0.03328</td>\n",
       "      <td>1.32548</td>\n",
       "      <td>1.36058</td>\n",
       "      <td>0.87464</td>\n",
       "      <td>0.64938</td>\n",
       "      <td>0.48357</td>\n",
       "      <td>0.34139</td>\n",
       "      <td>2.49204</td>\n",
       "    </tr>\n",
       "    <tr>\n",
       "      <th>3</th>\n",
       "      <td>Norway</td>\n",
       "      <td>Western Europe</td>\n",
       "      <td>4</td>\n",
       "      <td>7.522</td>\n",
       "      <td>0.03880</td>\n",
       "      <td>1.45900</td>\n",
       "      <td>1.33095</td>\n",
       "      <td>0.88521</td>\n",
       "      <td>0.66973</td>\n",
       "      <td>0.36503</td>\n",
       "      <td>0.34699</td>\n",
       "      <td>2.46531</td>\n",
       "    </tr>\n",
       "    <tr>\n",
       "      <th>4</th>\n",
       "      <td>Canada</td>\n",
       "      <td>North America</td>\n",
       "      <td>5</td>\n",
       "      <td>7.427</td>\n",
       "      <td>0.03553</td>\n",
       "      <td>1.32629</td>\n",
       "      <td>1.32261</td>\n",
       "      <td>0.90563</td>\n",
       "      <td>0.63297</td>\n",
       "      <td>0.32957</td>\n",
       "      <td>0.45811</td>\n",
       "      <td>2.45176</td>\n",
       "    </tr>\n",
       "    <tr>\n",
       "      <th>...</th>\n",
       "      <td>...</td>\n",
       "      <td>...</td>\n",
       "      <td>...</td>\n",
       "      <td>...</td>\n",
       "      <td>...</td>\n",
       "      <td>...</td>\n",
       "      <td>...</td>\n",
       "      <td>...</td>\n",
       "      <td>...</td>\n",
       "      <td>...</td>\n",
       "      <td>...</td>\n",
       "      <td>...</td>\n",
       "    </tr>\n",
       "    <tr>\n",
       "      <th>153</th>\n",
       "      <td>Rwanda</td>\n",
       "      <td>Sub-Saharan Africa</td>\n",
       "      <td>154</td>\n",
       "      <td>3.465</td>\n",
       "      <td>0.03464</td>\n",
       "      <td>0.22208</td>\n",
       "      <td>0.77370</td>\n",
       "      <td>0.42864</td>\n",
       "      <td>0.59201</td>\n",
       "      <td>0.55191</td>\n",
       "      <td>0.22628</td>\n",
       "      <td>0.67042</td>\n",
       "    </tr>\n",
       "    <tr>\n",
       "      <th>154</th>\n",
       "      <td>Benin</td>\n",
       "      <td>Sub-Saharan Africa</td>\n",
       "      <td>155</td>\n",
       "      <td>3.340</td>\n",
       "      <td>0.03656</td>\n",
       "      <td>0.28665</td>\n",
       "      <td>0.35386</td>\n",
       "      <td>0.31910</td>\n",
       "      <td>0.48450</td>\n",
       "      <td>0.08010</td>\n",
       "      <td>0.18260</td>\n",
       "      <td>1.63328</td>\n",
       "    </tr>\n",
       "    <tr>\n",
       "      <th>155</th>\n",
       "      <td>Syria</td>\n",
       "      <td>Middle East and Northern Africa</td>\n",
       "      <td>156</td>\n",
       "      <td>3.006</td>\n",
       "      <td>0.05015</td>\n",
       "      <td>0.66320</td>\n",
       "      <td>0.47489</td>\n",
       "      <td>0.72193</td>\n",
       "      <td>0.15684</td>\n",
       "      <td>0.18906</td>\n",
       "      <td>0.47179</td>\n",
       "      <td>0.32858</td>\n",
       "    </tr>\n",
       "    <tr>\n",
       "      <th>156</th>\n",
       "      <td>Burundi</td>\n",
       "      <td>Sub-Saharan Africa</td>\n",
       "      <td>157</td>\n",
       "      <td>2.905</td>\n",
       "      <td>0.08658</td>\n",
       "      <td>0.01530</td>\n",
       "      <td>0.41587</td>\n",
       "      <td>0.22396</td>\n",
       "      <td>0.11850</td>\n",
       "      <td>0.10062</td>\n",
       "      <td>0.19727</td>\n",
       "      <td>1.83302</td>\n",
       "    </tr>\n",
       "    <tr>\n",
       "      <th>157</th>\n",
       "      <td>Togo</td>\n",
       "      <td>Sub-Saharan Africa</td>\n",
       "      <td>158</td>\n",
       "      <td>2.839</td>\n",
       "      <td>0.06727</td>\n",
       "      <td>0.20868</td>\n",
       "      <td>0.13995</td>\n",
       "      <td>0.28443</td>\n",
       "      <td>0.36453</td>\n",
       "      <td>0.10731</td>\n",
       "      <td>0.16681</td>\n",
       "      <td>1.56726</td>\n",
       "    </tr>\n",
       "  </tbody>\n",
       "</table>\n",
       "<p>158 rows × 12 columns</p>\n",
       "</div>"
      ],
      "text/plain": [
       "         Country                           Region  Happiness Rank  \\\n",
       "0    Switzerland                   Western Europe               1   \n",
       "1        Iceland                   Western Europe               2   \n",
       "2        Denmark                   Western Europe               3   \n",
       "3         Norway                   Western Europe               4   \n",
       "4         Canada                    North America               5   \n",
       "..           ...                              ...             ...   \n",
       "153       Rwanda               Sub-Saharan Africa             154   \n",
       "154        Benin               Sub-Saharan Africa             155   \n",
       "155        Syria  Middle East and Northern Africa             156   \n",
       "156      Burundi               Sub-Saharan Africa             157   \n",
       "157         Togo               Sub-Saharan Africa             158   \n",
       "\n",
       "     Happiness Score  Standard Error  Economy (GDP per Capita)   Family  \\\n",
       "0              7.587         0.03411                   1.39651  1.34951   \n",
       "1              7.561         0.04884                   1.30232  1.40223   \n",
       "2              7.527         0.03328                   1.32548  1.36058   \n",
       "3              7.522         0.03880                   1.45900  1.33095   \n",
       "4              7.427         0.03553                   1.32629  1.32261   \n",
       "..               ...             ...                       ...      ...   \n",
       "153            3.465         0.03464                   0.22208  0.77370   \n",
       "154            3.340         0.03656                   0.28665  0.35386   \n",
       "155            3.006         0.05015                   0.66320  0.47489   \n",
       "156            2.905         0.08658                   0.01530  0.41587   \n",
       "157            2.839         0.06727                   0.20868  0.13995   \n",
       "\n",
       "     Health (Life Expectancy)  Freedom  Trust (Government Corruption)  \\\n",
       "0                     0.94143  0.66557                        0.41978   \n",
       "1                     0.94784  0.62877                        0.14145   \n",
       "2                     0.87464  0.64938                        0.48357   \n",
       "3                     0.88521  0.66973                        0.36503   \n",
       "4                     0.90563  0.63297                        0.32957   \n",
       "..                        ...      ...                            ...   \n",
       "153                   0.42864  0.59201                        0.55191   \n",
       "154                   0.31910  0.48450                        0.08010   \n",
       "155                   0.72193  0.15684                        0.18906   \n",
       "156                   0.22396  0.11850                        0.10062   \n",
       "157                   0.28443  0.36453                        0.10731   \n",
       "\n",
       "     Generosity  Dystopia Residual  \n",
       "0       0.29678            2.51738  \n",
       "1       0.43630            2.70201  \n",
       "2       0.34139            2.49204  \n",
       "3       0.34699            2.46531  \n",
       "4       0.45811            2.45176  \n",
       "..          ...                ...  \n",
       "153     0.22628            0.67042  \n",
       "154     0.18260            1.63328  \n",
       "155     0.47179            0.32858  \n",
       "156     0.19727            1.83302  \n",
       "157     0.16681            1.56726  \n",
       "\n",
       "[158 rows x 12 columns]"
      ]
     },
     "execution_count": 6,
     "metadata": {},
     "output_type": "execute_result"
    }
   ],
   "source": [
    "happiness=pd.read_csv('https://raw.githubusercontent.com/dsrscientist/DSData/master/happiness_score_dataset.csv')\n",
    "happiness"
   ]
  },
  {
   "cell_type": "code",
   "execution_count": 7,
   "id": "2936fb0d",
   "metadata": {},
   "outputs": [
    {
     "data": {
      "text/plain": [
       "pandas.core.frame.DataFrame"
      ]
     },
     "execution_count": 7,
     "metadata": {},
     "output_type": "execute_result"
    }
   ],
   "source": [
    "type(happiness)"
   ]
  },
  {
   "cell_type": "code",
   "execution_count": 8,
   "id": "7914185a",
   "metadata": {},
   "outputs": [
    {
     "data": {
      "text/html": [
       "<div>\n",
       "<style scoped>\n",
       "    .dataframe tbody tr th:only-of-type {\n",
       "        vertical-align: middle;\n",
       "    }\n",
       "\n",
       "    .dataframe tbody tr th {\n",
       "        vertical-align: top;\n",
       "    }\n",
       "\n",
       "    .dataframe thead th {\n",
       "        text-align: right;\n",
       "    }\n",
       "</style>\n",
       "<table border=\"1\" class=\"dataframe\">\n",
       "  <thead>\n",
       "    <tr style=\"text-align: right;\">\n",
       "      <th></th>\n",
       "      <th>Country</th>\n",
       "      <th>Region</th>\n",
       "      <th>Happiness Rank</th>\n",
       "      <th>Happiness Score</th>\n",
       "      <th>Standard Error</th>\n",
       "      <th>Economy (GDP per Capita)</th>\n",
       "      <th>Family</th>\n",
       "      <th>Health (Life Expectancy)</th>\n",
       "      <th>Freedom</th>\n",
       "      <th>Trust (Government Corruption)</th>\n",
       "      <th>Generosity</th>\n",
       "      <th>Dystopia Residual</th>\n",
       "    </tr>\n",
       "  </thead>\n",
       "  <tbody>\n",
       "    <tr>\n",
       "      <th>0</th>\n",
       "      <td>Switzerland</td>\n",
       "      <td>Western Europe</td>\n",
       "      <td>1</td>\n",
       "      <td>7.587</td>\n",
       "      <td>0.03411</td>\n",
       "      <td>1.39651</td>\n",
       "      <td>1.34951</td>\n",
       "      <td>0.94143</td>\n",
       "      <td>0.66557</td>\n",
       "      <td>0.41978</td>\n",
       "      <td>0.29678</td>\n",
       "      <td>2.51738</td>\n",
       "    </tr>\n",
       "    <tr>\n",
       "      <th>1</th>\n",
       "      <td>Iceland</td>\n",
       "      <td>Western Europe</td>\n",
       "      <td>2</td>\n",
       "      <td>7.561</td>\n",
       "      <td>0.04884</td>\n",
       "      <td>1.30232</td>\n",
       "      <td>1.40223</td>\n",
       "      <td>0.94784</td>\n",
       "      <td>0.62877</td>\n",
       "      <td>0.14145</td>\n",
       "      <td>0.43630</td>\n",
       "      <td>2.70201</td>\n",
       "    </tr>\n",
       "    <tr>\n",
       "      <th>2</th>\n",
       "      <td>Denmark</td>\n",
       "      <td>Western Europe</td>\n",
       "      <td>3</td>\n",
       "      <td>7.527</td>\n",
       "      <td>0.03328</td>\n",
       "      <td>1.32548</td>\n",
       "      <td>1.36058</td>\n",
       "      <td>0.87464</td>\n",
       "      <td>0.64938</td>\n",
       "      <td>0.48357</td>\n",
       "      <td>0.34139</td>\n",
       "      <td>2.49204</td>\n",
       "    </tr>\n",
       "    <tr>\n",
       "      <th>3</th>\n",
       "      <td>Norway</td>\n",
       "      <td>Western Europe</td>\n",
       "      <td>4</td>\n",
       "      <td>7.522</td>\n",
       "      <td>0.03880</td>\n",
       "      <td>1.45900</td>\n",
       "      <td>1.33095</td>\n",
       "      <td>0.88521</td>\n",
       "      <td>0.66973</td>\n",
       "      <td>0.36503</td>\n",
       "      <td>0.34699</td>\n",
       "      <td>2.46531</td>\n",
       "    </tr>\n",
       "    <tr>\n",
       "      <th>4</th>\n",
       "      <td>Canada</td>\n",
       "      <td>North America</td>\n",
       "      <td>5</td>\n",
       "      <td>7.427</td>\n",
       "      <td>0.03553</td>\n",
       "      <td>1.32629</td>\n",
       "      <td>1.32261</td>\n",
       "      <td>0.90563</td>\n",
       "      <td>0.63297</td>\n",
       "      <td>0.32957</td>\n",
       "      <td>0.45811</td>\n",
       "      <td>2.45176</td>\n",
       "    </tr>\n",
       "  </tbody>\n",
       "</table>\n",
       "</div>"
      ],
      "text/plain": [
       "       Country          Region  Happiness Rank  Happiness Score  \\\n",
       "0  Switzerland  Western Europe               1            7.587   \n",
       "1      Iceland  Western Europe               2            7.561   \n",
       "2      Denmark  Western Europe               3            7.527   \n",
       "3       Norway  Western Europe               4            7.522   \n",
       "4       Canada   North America               5            7.427   \n",
       "\n",
       "   Standard Error  Economy (GDP per Capita)   Family  \\\n",
       "0         0.03411                   1.39651  1.34951   \n",
       "1         0.04884                   1.30232  1.40223   \n",
       "2         0.03328                   1.32548  1.36058   \n",
       "3         0.03880                   1.45900  1.33095   \n",
       "4         0.03553                   1.32629  1.32261   \n",
       "\n",
       "   Health (Life Expectancy)  Freedom  Trust (Government Corruption)  \\\n",
       "0                   0.94143  0.66557                        0.41978   \n",
       "1                   0.94784  0.62877                        0.14145   \n",
       "2                   0.87464  0.64938                        0.48357   \n",
       "3                   0.88521  0.66973                        0.36503   \n",
       "4                   0.90563  0.63297                        0.32957   \n",
       "\n",
       "   Generosity  Dystopia Residual  \n",
       "0     0.29678            2.51738  \n",
       "1     0.43630            2.70201  \n",
       "2     0.34139            2.49204  \n",
       "3     0.34699            2.46531  \n",
       "4     0.45811            2.45176  "
      ]
     },
     "execution_count": 8,
     "metadata": {},
     "output_type": "execute_result"
    }
   ],
   "source": [
    "happiness.head()"
   ]
  },
  {
   "cell_type": "markdown",
   "id": "bd9bc5df",
   "metadata": {},
   "source": [
    "# Checking Columns"
   ]
  },
  {
   "cell_type": "code",
   "execution_count": 9,
   "id": "b3e155f7",
   "metadata": {},
   "outputs": [
    {
     "data": {
      "text/plain": [
       "Index(['Country', 'Region', 'Happiness Rank', 'Happiness Score',\n",
       "       'Standard Error', 'Economy (GDP per Capita)', 'Family',\n",
       "       'Health (Life Expectancy)', 'Freedom', 'Trust (Government Corruption)',\n",
       "       'Generosity', 'Dystopia Residual'],\n",
       "      dtype='object')"
      ]
     },
     "execution_count": 9,
     "metadata": {},
     "output_type": "execute_result"
    }
   ],
   "source": [
    "happiness.columns"
   ]
  },
  {
   "cell_type": "markdown",
   "id": "c7ba883a",
   "metadata": {},
   "source": [
    "The following columns: GDP per Capita, Family, Life Expectancy, Freedom, Generosity, Trust Government Corruption describe the extent to which these factors contribute in evaluating the happiness in each country. The Dystopia Residual metric actually is the Dystopia Happiness Score(1.85) + the Residual value or the unexplained value for each country."
   ]
  },
  {
   "cell_type": "markdown",
   "id": "92aa50e6",
   "metadata": {},
   "source": [
    "The Dystopia Residual is already provided in the dataset.\n",
    "\n",
    "If you add all these factors up, you get the happiness score so it might be un-reliable to model them to predict Happiness Scores.\n",
    "\n",
    "You need to predict the happiness score considering all the other factors mentioned in the dataset."
   ]
  },
  {
   "cell_type": "markdown",
   "id": "3f41c21a",
   "metadata": {},
   "source": [
    "# Checking all Null Values"
   ]
  },
  {
   "cell_type": "code",
   "execution_count": 10,
   "id": "7815d6a0",
   "metadata": {},
   "outputs": [
    {
     "data": {
      "text/plain": [
       "Country                          0\n",
       "Region                           0\n",
       "Happiness Rank                   0\n",
       "Happiness Score                  0\n",
       "Standard Error                   0\n",
       "Economy (GDP per Capita)         0\n",
       "Family                           0\n",
       "Health (Life Expectancy)         0\n",
       "Freedom                          0\n",
       "Trust (Government Corruption)    0\n",
       "Generosity                       0\n",
       "Dystopia Residual                0\n",
       "dtype: int64"
      ]
     },
     "execution_count": 10,
     "metadata": {},
     "output_type": "execute_result"
    }
   ],
   "source": [
    "happiness.isnull().sum()"
   ]
  },
  {
   "cell_type": "code",
   "execution_count": 11,
   "id": "bd5b85a8",
   "metadata": {},
   "outputs": [
    {
     "name": "stdout",
     "output_type": "stream",
     "text": [
      "<class 'pandas.core.frame.DataFrame'>\n",
      "RangeIndex: 158 entries, 0 to 157\n",
      "Data columns (total 12 columns):\n",
      " #   Column                         Non-Null Count  Dtype  \n",
      "---  ------                         --------------  -----  \n",
      " 0   Country                        158 non-null    object \n",
      " 1   Region                         158 non-null    object \n",
      " 2   Happiness Rank                 158 non-null    int64  \n",
      " 3   Happiness Score                158 non-null    float64\n",
      " 4   Standard Error                 158 non-null    float64\n",
      " 5   Economy (GDP per Capita)       158 non-null    float64\n",
      " 6   Family                         158 non-null    float64\n",
      " 7   Health (Life Expectancy)       158 non-null    float64\n",
      " 8   Freedom                        158 non-null    float64\n",
      " 9   Trust (Government Corruption)  158 non-null    float64\n",
      " 10  Generosity                     158 non-null    float64\n",
      " 11  Dystopia Residual              158 non-null    float64\n",
      "dtypes: float64(9), int64(1), object(2)\n",
      "memory usage: 14.9+ KB\n"
     ]
    }
   ],
   "source": [
    "happiness.info()"
   ]
  },
  {
   "cell_type": "markdown",
   "id": "2dd21dc5",
   "metadata": {},
   "source": [
    "# Checking Data Type"
   ]
  },
  {
   "cell_type": "code",
   "execution_count": 12,
   "id": "708bc664",
   "metadata": {},
   "outputs": [
    {
     "data": {
      "text/plain": [
       "Country                           object\n",
       "Region                            object\n",
       "Happiness Rank                     int64\n",
       "Happiness Score                  float64\n",
       "Standard Error                   float64\n",
       "Economy (GDP per Capita)         float64\n",
       "Family                           float64\n",
       "Health (Life Expectancy)         float64\n",
       "Freedom                          float64\n",
       "Trust (Government Corruption)    float64\n",
       "Generosity                       float64\n",
       "Dystopia Residual                float64\n",
       "dtype: object"
      ]
     },
     "execution_count": 12,
     "metadata": {},
     "output_type": "execute_result"
    }
   ],
   "source": [
    "happiness.dtypes"
   ]
  },
  {
   "cell_type": "code",
   "execution_count": 13,
   "id": "889507ad",
   "metadata": {},
   "outputs": [
    {
     "data": {
      "text/plain": [
       "<bound method Series.unique of 0      7.587\n",
       "1      7.561\n",
       "2      7.527\n",
       "3      7.522\n",
       "4      7.427\n",
       "       ...  \n",
       "153    3.465\n",
       "154    3.340\n",
       "155    3.006\n",
       "156    2.905\n",
       "157    2.839\n",
       "Name: Happiness Score, Length: 158, dtype: float64>"
      ]
     },
     "execution_count": 13,
     "metadata": {},
     "output_type": "execute_result"
    }
   ],
   "source": [
    "happiness['Happiness Score'].unique"
   ]
  },
  {
   "cell_type": "markdown",
   "id": "b4fe2c0c",
   "metadata": {},
   "source": [
    "# Converting into Float Data Type"
   ]
  },
  {
   "cell_type": "code",
   "execution_count": 14,
   "id": "42bbf9e1",
   "metadata": {},
   "outputs": [],
   "source": [
    "happiness['Happiness Rank']=happiness['Happiness Rank'].astype(float)"
   ]
  },
  {
   "cell_type": "code",
   "execution_count": 15,
   "id": "df3a1bf2",
   "metadata": {},
   "outputs": [
    {
     "data": {
      "text/plain": [
       "Country                           object\n",
       "Region                            object\n",
       "Happiness Rank                   float64\n",
       "Happiness Score                  float64\n",
       "Standard Error                   float64\n",
       "Economy (GDP per Capita)         float64\n",
       "Family                           float64\n",
       "Health (Life Expectancy)         float64\n",
       "Freedom                          float64\n",
       "Trust (Government Corruption)    float64\n",
       "Generosity                       float64\n",
       "Dystopia Residual                float64\n",
       "dtype: object"
      ]
     },
     "execution_count": 15,
     "metadata": {},
     "output_type": "execute_result"
    }
   ],
   "source": [
    "happiness.dtypes"
   ]
  },
  {
   "cell_type": "markdown",
   "id": "7d37384e",
   "metadata": {},
   "source": [
    "# Making DataFrame of Nominal Data"
   ]
  },
  {
   "cell_type": "code",
   "execution_count": 16,
   "id": "e81744fa",
   "metadata": {},
   "outputs": [
    {
     "data": {
      "text/plain": [
       "Index(['Country', 'Region'], dtype='object')"
      ]
     },
     "execution_count": 16,
     "metadata": {},
     "output_type": "execute_result"
    }
   ],
   "source": [
    "happiness_nominal=happiness[['Country', 'Region']].copy()\n",
    "happiness_nominal.columns"
   ]
  },
  {
   "cell_type": "markdown",
   "id": "647259c4",
   "metadata": {},
   "source": [
    "# Making DataFrame of Continuous Data"
   ]
  },
  {
   "cell_type": "code",
   "execution_count": 17,
   "id": "9629e3a3",
   "metadata": {},
   "outputs": [
    {
     "data": {
      "text/plain": [
       "Index(['Happiness Rank', 'Happiness Score', 'Standard Error',\n",
       "       'Economy (GDP per Capita)', 'Family', 'Health (Life Expectancy)',\n",
       "       'Freedom', 'Trust (Government Corruption)', 'Generosity',\n",
       "       'Dystopia Residual'],\n",
       "      dtype='object')"
      ]
     },
     "execution_count": 17,
     "metadata": {},
     "output_type": "execute_result"
    }
   ],
   "source": [
    "happiness_continuous=happiness[['Happiness Rank', 'Happiness Score',\n",
    "       'Standard Error', 'Economy (GDP per Capita)', 'Family',\n",
    "       'Health (Life Expectancy)', 'Freedom', 'Trust (Government Corruption)',\n",
    "       'Generosity', 'Dystopia Residual']].copy()\n",
    "happiness_continuous.columns"
   ]
  },
  {
   "cell_type": "markdown",
   "id": "b840ede3",
   "metadata": {},
   "source": [
    "# Data Visualization"
   ]
  },
  {
   "cell_type": "code",
   "execution_count": 19,
   "id": "5e060a59",
   "metadata": {},
   "outputs": [
    {
     "data": {
      "text/plain": [
       "<AxesSubplot:xlabel='Happiness Rank', ylabel='Density'>"
      ]
     },
     "execution_count": 19,
     "metadata": {},
     "output_type": "execute_result"
    },
    {
     "data": {
      "image/png": "[encoded data removed]",
      "text/plain": [
       "<Figure size 432x288 with 1 Axes>"
      ]
     },
     "metadata": {
      "needs_background": "light"
     },
     "output_type": "display_data"
    }
   ],
   "source": [
    "sns.distplot(happiness_continuous['Happiness Rank'],kde=True)"
   ]
  },
  {
   "cell_type": "code",
   "execution_count": 20,
   "id": "f6ada11f",
   "metadata": {},
   "outputs": [
    {
     "data": {
      "text/plain": [
       "<AxesSubplot:xlabel='Happiness Score', ylabel='Density'>"
      ]
     },
     "execution_count": 20,
     "metadata": {},
     "output_type": "execute_result"
    },
    {
     "data": {
      "image/png": "[encoded data removed]",
      "text/plain": [
       "<Figure size 432x288 with 1 Axes>"
      ]
     },
     "metadata": {
      "needs_background": "light"
     },
     "output_type": "display_data"
    }
   ],
   "source": [
    "sns.distplot(happiness_continuous['Happiness Score'],kde=True)"
   ]
  },
  {
   "cell_type": "code",
   "execution_count": 21,
   "id": "5bf77abb",
   "metadata": {},
   "outputs": [
    {
     "data": {
      "text/plain": [
       "<AxesSubplot:xlabel='Standard Error', ylabel='Density'>"
      ]
     },
     "execution_count": 21,
     "metadata": {},
     "output_type": "execute_result"
    },
    {
     "data": {
      "image/png": "[encoded data removed]",
      "text/plain": [
       "<Figure size 432x288 with 1 Axes>"
      ]
     },
     "metadata": {
      "needs_background": "light"
     },
     "output_type": "display_data"
    }
   ],
   "source": [
    "sns.distplot(happiness_continuous['Standard Error'],kde=True)"
   ]
  },
  {
   "cell_type": "code",
   "execution_count": 22,
   "id": "aa275081",
   "metadata": {},
   "outputs": [
    {
     "data": {
      "text/plain": [
       "<AxesSubplot:xlabel='Economy (GDP per Capita)', ylabel='Density'>"
      ]
     },
     "execution_count": 22,
     "metadata": {},
     "output_type": "execute_result"
    },
    {
     "data": {
      "image/png": "[encoded data removed]",
      "text/plain": [
       "<Figure size 432x288 with 1 Axes>"
      ]
     },
     "metadata": {
      "needs_background": "light"
     },
     "output_type": "display_data"
    }
   ],
   "source": [
    "sns.distplot(happiness_continuous['Economy (GDP per Capita)'],kde=True)"
   ]
  },
  {
   "cell_type": "code",
   "execution_count": 23,
   "id": "babc1363",
   "metadata": {},
   "outputs": [
    {
     "data": {
      "text/plain": [
       "<AxesSubplot:xlabel='Family', ylabel='Density'>"
      ]
     },
     "execution_count": 23,
     "metadata": {},
     "output_type": "execute_result"
    },
    {
     "data": {
      "image/png": "[encoded data removed]",
      "text/plain": [
       "<Figure size 432x288 with 1 Axes>"
      ]
     },
     "metadata": {
      "needs_background": "light"
     },
     "output_type": "display_data"
    }
   ],
   "source": [
    "sns.distplot(happiness_continuous['Family'],kde=True)"
   ]
  },
  {
   "cell_type": "code",
   "execution_count": 24,
   "id": "2e2e4d66",
   "metadata": {},
   "outputs": [
    {
     "data": {
      "text/plain": [
       "<AxesSubplot:xlabel='Health (Life Expectancy)', ylabel='Density'>"
      ]
     },
     "execution_count": 24,
     "metadata": {},
     "output_type": "execute_result"
    },
    {
     "data": {
      "image/png": "[encoded data removed]",
      "text/plain": [
       "<Figure size 432x288 with 1 Axes>"
      ]
     },
     "metadata": {
      "needs_background": "light"
     },
     "output_type": "display_data"
    }
   ],
   "source": [
    "sns.distplot(happiness_continuous['Health (Life Expectancy)'],kde=True)"
   ]
  },
  {
   "cell_type": "code",
   "execution_count": 25,
   "id": "5c0d3716",
   "metadata": {},
   "outputs": [
    {
     "data": {
      "text/plain": [
       "<AxesSubplot:xlabel='Freedom', ylabel='Density'>"
      ]
     },
     "execution_count": 25,
     "metadata": {},
     "output_type": "execute_result"
    },
    {
     "data": {
      "image/png": "[encoded data removed]",
      "text/plain": [
       "<Figure size 432x288 with 1 Axes>"
      ]
     },
     "metadata": {
      "needs_background": "light"
     },
     "output_type": "display_data"
    }
   ],
   "source": [
    "sns.distplot(happiness_continuous['Freedom'],kde=True)"
   ]
  },
  {
   "cell_type": "code",
   "execution_count": 26,
   "id": "fe131375",
   "metadata": {},
   "outputs": [
    {
     "data": {
      "text/plain": [
       "<AxesSubplot:xlabel='Trust (Government Corruption)', ylabel='Density'>"
      ]
     },
     "execution_count": 26,
     "metadata": {},
     "output_type": "execute_result"
    },
    {
     "data": {
      "image/png": "[encoded data removed]",
      "text/plain": [
       "<Figure size 432x288 with 1 Axes>"
      ]
     },
     "metadata": {
      "needs_background": "light"
     },
     "output_type": "display_data"
    }
   ],
   "source": [
    "sns.distplot(happiness_continuous['Trust (Government Corruption)'],kde=True)"
   ]
  },
  {
   "cell_type": "code",
   "execution_count": 27,
   "id": "a2c53c8b",
   "metadata": {},
   "outputs": [
    {
     "data": {
      "text/plain": [
       "<AxesSubplot:xlabel='Generosity', ylabel='Density'>"
      ]
     },
     "execution_count": 27,
     "metadata": {},
     "output_type": "execute_result"
    },
    {
     "data": {
      "image/png": "[encoded data removed]",
      "text/plain": [
       "<Figure size 432x288 with 1 Axes>"
      ]
     },
     "metadata": {
      "needs_background": "light"
     },
     "output_type": "display_data"
    }
   ],
   "source": [
    "sns.distplot(happiness_continuous['Generosity'],kde=True)"
   ]
  },
  {
   "cell_type": "code",
   "execution_count": 28,
   "id": "350c2ab1",
   "metadata": {},
   "outputs": [
    {
     "data": {
      "text/plain": [
       "<AxesSubplot:xlabel='Dystopia Residual', ylabel='Density'>"
      ]
     },
     "execution_count": 28,
     "metadata": {},
     "output_type": "execute_result"
    },
    {
     "data": {
      "image/png": "[encoded data removed]",
      "text/plain": [
       "<Figure size 432x288 with 1 Axes>"
      ]
     },
     "metadata": {
      "needs_background": "light"
     },
     "output_type": "display_data"
    }
   ],
   "source": [
    "sns.distplot(happiness_continuous['Dystopia Residual'],kde=True)"
   ]
  },
  {
   "cell_type": "markdown",
   "id": "ed9420b1",
   "metadata": {},
   "source": [
    "# Encoding of DataFrame"
   ]
  },
  {
   "cell_type": "code",
   "execution_count": 29,
   "id": "2b6992dc",
   "metadata": {},
   "outputs": [],
   "source": [
    "from sklearn.preprocessing import OrdinalEncoder\n",
    "Encoder=OrdinalEncoder()"
   ]
  },
  {
   "cell_type": "code",
   "execution_count": 30,
   "id": "92baf6d3",
   "metadata": {},
   "outputs": [],
   "source": [
    "for i in happiness.columns:\n",
    "    if happiness[i].dtypes==\"object\":\n",
    "        happiness[i]=Encoder.fit_transform(happiness[i].values.reshape(-1,1))"
   ]
  },
  {
   "cell_type": "code",
   "execution_count": 31,
   "id": "bb24c965",
   "metadata": {},
   "outputs": [
    {
     "data": {
      "text/html": [
       "<div>\n",
       "<style scoped>\n",
       "    .dataframe tbody tr th:only-of-type {\n",
       "        vertical-align: middle;\n",
       "    }\n",
       "\n",
       "    .dataframe tbody tr th {\n",
       "        vertical-align: top;\n",
       "    }\n",
       "\n",
       "    .dataframe thead th {\n",
       "        text-align: right;\n",
       "    }\n",
       "</style>\n",
       "<table border=\"1\" class=\"dataframe\">\n",
       "  <thead>\n",
       "    <tr style=\"text-align: right;\">\n",
       "      <th></th>\n",
       "      <th>Country</th>\n",
       "      <th>Region</th>\n",
       "      <th>Happiness Rank</th>\n",
       "      <th>Happiness Score</th>\n",
       "      <th>Standard Error</th>\n",
       "      <th>Economy (GDP per Capita)</th>\n",
       "      <th>Family</th>\n",
       "      <th>Health (Life Expectancy)</th>\n",
       "      <th>Freedom</th>\n",
       "      <th>Trust (Government Corruption)</th>\n",
       "      <th>Generosity</th>\n",
       "      <th>Dystopia Residual</th>\n",
       "    </tr>\n",
       "  </thead>\n",
       "  <tbody>\n",
       "    <tr>\n",
       "      <th>0</th>\n",
       "      <td>135.0</td>\n",
       "      <td>9.0</td>\n",
       "      <td>1.0</td>\n",
       "      <td>7.587</td>\n",
       "      <td>0.03411</td>\n",
       "      <td>1.39651</td>\n",
       "      <td>1.34951</td>\n",
       "      <td>0.94143</td>\n",
       "      <td>0.66557</td>\n",
       "      <td>0.41978</td>\n",
       "      <td>0.29678</td>\n",
       "      <td>2.51738</td>\n",
       "    </tr>\n",
       "    <tr>\n",
       "      <th>1</th>\n",
       "      <td>58.0</td>\n",
       "      <td>9.0</td>\n",
       "      <td>2.0</td>\n",
       "      <td>7.561</td>\n",
       "      <td>0.04884</td>\n",
       "      <td>1.30232</td>\n",
       "      <td>1.40223</td>\n",
       "      <td>0.94784</td>\n",
       "      <td>0.62877</td>\n",
       "      <td>0.14145</td>\n",
       "      <td>0.43630</td>\n",
       "      <td>2.70201</td>\n",
       "    </tr>\n",
       "    <tr>\n",
       "      <th>2</th>\n",
       "      <td>37.0</td>\n",
       "      <td>9.0</td>\n",
       "      <td>3.0</td>\n",
       "      <td>7.527</td>\n",
       "      <td>0.03328</td>\n",
       "      <td>1.32548</td>\n",
       "      <td>1.36058</td>\n",
       "      <td>0.87464</td>\n",
       "      <td>0.64938</td>\n",
       "      <td>0.48357</td>\n",
       "      <td>0.34139</td>\n",
       "      <td>2.49204</td>\n",
       "    </tr>\n",
       "    <tr>\n",
       "      <th>3</th>\n",
       "      <td>105.0</td>\n",
       "      <td>9.0</td>\n",
       "      <td>4.0</td>\n",
       "      <td>7.522</td>\n",
       "      <td>0.03880</td>\n",
       "      <td>1.45900</td>\n",
       "      <td>1.33095</td>\n",
       "      <td>0.88521</td>\n",
       "      <td>0.66973</td>\n",
       "      <td>0.36503</td>\n",
       "      <td>0.34699</td>\n",
       "      <td>2.46531</td>\n",
       "    </tr>\n",
       "    <tr>\n",
       "      <th>4</th>\n",
       "      <td>24.0</td>\n",
       "      <td>5.0</td>\n",
       "      <td>5.0</td>\n",
       "      <td>7.427</td>\n",
       "      <td>0.03553</td>\n",
       "      <td>1.32629</td>\n",
       "      <td>1.32261</td>\n",
       "      <td>0.90563</td>\n",
       "      <td>0.63297</td>\n",
       "      <td>0.32957</td>\n",
       "      <td>0.45811</td>\n",
       "      <td>2.45176</td>\n",
       "    </tr>\n",
       "    <tr>\n",
       "      <th>...</th>\n",
       "      <td>...</td>\n",
       "      <td>...</td>\n",
       "      <td>...</td>\n",
       "      <td>...</td>\n",
       "      <td>...</td>\n",
       "      <td>...</td>\n",
       "      <td>...</td>\n",
       "      <td>...</td>\n",
       "      <td>...</td>\n",
       "      <td>...</td>\n",
       "      <td>...</td>\n",
       "      <td>...</td>\n",
       "    </tr>\n",
       "    <tr>\n",
       "      <th>153</th>\n",
       "      <td>118.0</td>\n",
       "      <td>8.0</td>\n",
       "      <td>154.0</td>\n",
       "      <td>3.465</td>\n",
       "      <td>0.03464</td>\n",
       "      <td>0.22208</td>\n",
       "      <td>0.77370</td>\n",
       "      <td>0.42864</td>\n",
       "      <td>0.59201</td>\n",
       "      <td>0.55191</td>\n",
       "      <td>0.22628</td>\n",
       "      <td>0.67042</td>\n",
       "    </tr>\n",
       "    <tr>\n",
       "      <th>154</th>\n",
       "      <td>13.0</td>\n",
       "      <td>8.0</td>\n",
       "      <td>155.0</td>\n",
       "      <td>3.340</td>\n",
       "      <td>0.03656</td>\n",
       "      <td>0.28665</td>\n",
       "      <td>0.35386</td>\n",
       "      <td>0.31910</td>\n",
       "      <td>0.48450</td>\n",
       "      <td>0.08010</td>\n",
       "      <td>0.18260</td>\n",
       "      <td>1.63328</td>\n",
       "    </tr>\n",
       "    <tr>\n",
       "      <th>155</th>\n",
       "      <td>136.0</td>\n",
       "      <td>4.0</td>\n",
       "      <td>156.0</td>\n",
       "      <td>3.006</td>\n",
       "      <td>0.05015</td>\n",
       "      <td>0.66320</td>\n",
       "      <td>0.47489</td>\n",
       "      <td>0.72193</td>\n",
       "      <td>0.15684</td>\n",
       "      <td>0.18906</td>\n",
       "      <td>0.47179</td>\n",
       "      <td>0.32858</td>\n",
       "    </tr>\n",
       "    <tr>\n",
       "      <th>156</th>\n",
       "      <td>21.0</td>\n",
       "      <td>8.0</td>\n",
       "      <td>157.0</td>\n",
       "      <td>2.905</td>\n",
       "      <td>0.08658</td>\n",
       "      <td>0.01530</td>\n",
       "      <td>0.41587</td>\n",
       "      <td>0.22396</td>\n",
       "      <td>0.11850</td>\n",
       "      <td>0.10062</td>\n",
       "      <td>0.19727</td>\n",
       "      <td>1.83302</td>\n",
       "    </tr>\n",
       "    <tr>\n",
       "      <th>157</th>\n",
       "      <td>141.0</td>\n",
       "      <td>8.0</td>\n",
       "      <td>158.0</td>\n",
       "      <td>2.839</td>\n",
       "      <td>0.06727</td>\n",
       "      <td>0.20868</td>\n",
       "      <td>0.13995</td>\n",
       "      <td>0.28443</td>\n",
       "      <td>0.36453</td>\n",
       "      <td>0.10731</td>\n",
       "      <td>0.16681</td>\n",
       "      <td>1.56726</td>\n",
       "    </tr>\n",
       "  </tbody>\n",
       "</table>\n",
       "<p>158 rows × 12 columns</p>\n",
       "</div>"
      ],
      "text/plain": [
       "     Country  Region  Happiness Rank  Happiness Score  Standard Error  \\\n",
       "0      135.0     9.0             1.0            7.587         0.03411   \n",
       "1       58.0     9.0             2.0            7.561         0.04884   \n",
       "2       37.0     9.0             3.0            7.527         0.03328   \n",
       "3      105.0     9.0             4.0            7.522         0.03880   \n",
       "4       24.0     5.0             5.0            7.427         0.03553   \n",
       "..       ...     ...             ...              ...             ...   \n",
       "153    118.0     8.0           154.0            3.465         0.03464   \n",
       "154     13.0     8.0           155.0            3.340         0.03656   \n",
       "155    136.0     4.0           156.0            3.006         0.05015   \n",
       "156     21.0     8.0           157.0            2.905         0.08658   \n",
       "157    141.0     8.0           158.0            2.839         0.06727   \n",
       "\n",
       "     Economy (GDP per Capita)   Family  Health (Life Expectancy)  Freedom  \\\n",
       "0                     1.39651  1.34951                   0.94143  0.66557   \n",
       "1                     1.30232  1.40223                   0.94784  0.62877   \n",
       "2                     1.32548  1.36058                   0.87464  0.64938   \n",
       "3                     1.45900  1.33095                   0.88521  0.66973   \n",
       "4                     1.32629  1.32261                   0.90563  0.63297   \n",
       "..                        ...      ...                       ...      ...   \n",
       "153                   0.22208  0.77370                   0.42864  0.59201   \n",
       "154                   0.28665  0.35386                   0.31910  0.48450   \n",
       "155                   0.66320  0.47489                   0.72193  0.15684   \n",
       "156                   0.01530  0.41587                   0.22396  0.11850   \n",
       "157                   0.20868  0.13995                   0.28443  0.36453   \n",
       "\n",
       "     Trust (Government Corruption)  Generosity  Dystopia Residual  \n",
       "0                          0.41978     0.29678            2.51738  \n",
       "1                          0.14145     0.43630            2.70201  \n",
       "2                          0.48357     0.34139            2.49204  \n",
       "3                          0.36503     0.34699            2.46531  \n",
       "4                          0.32957     0.45811            2.45176  \n",
       "..                             ...         ...                ...  \n",
       "153                        0.55191     0.22628            0.67042  \n",
       "154                        0.08010     0.18260            1.63328  \n",
       "155                        0.18906     0.47179            0.32858  \n",
       "156                        0.10062     0.19727            1.83302  \n",
       "157                        0.10731     0.16681            1.56726  \n",
       "\n",
       "[158 rows x 12 columns]"
      ]
     },
     "execution_count": 31,
     "metadata": {},
     "output_type": "execute_result"
    }
   ],
   "source": [
    "happiness"
   ]
  },
  {
   "cell_type": "markdown",
   "id": "b8c970a9",
   "metadata": {},
   "source": [
    "# Describing Dataset"
   ]
  },
  {
   "cell_type": "code",
   "execution_count": 32,
   "id": "a919dd07",
   "metadata": {},
   "outputs": [
    {
     "data": {
      "text/html": [
       "<div>\n",
       "<style scoped>\n",
       "    .dataframe tbody tr th:only-of-type {\n",
       "        vertical-align: middle;\n",
       "    }\n",
       "\n",
       "    .dataframe tbody tr th {\n",
       "        vertical-align: top;\n",
       "    }\n",
       "\n",
       "    .dataframe thead th {\n",
       "        text-align: right;\n",
       "    }\n",
       "</style>\n",
       "<table border=\"1\" class=\"dataframe\">\n",
       "  <thead>\n",
       "    <tr style=\"text-align: right;\">\n",
       "      <th></th>\n",
       "      <th>Country</th>\n",
       "      <th>Region</th>\n",
       "      <th>Happiness Rank</th>\n",
       "      <th>Happiness Score</th>\n",
       "      <th>Standard Error</th>\n",
       "      <th>Economy (GDP per Capita)</th>\n",
       "      <th>Family</th>\n",
       "      <th>Health (Life Expectancy)</th>\n",
       "      <th>Freedom</th>\n",
       "      <th>Trust (Government Corruption)</th>\n",
       "      <th>Generosity</th>\n",
       "      <th>Dystopia Residual</th>\n",
       "    </tr>\n",
       "  </thead>\n",
       "  <tbody>\n",
       "    <tr>\n",
       "      <th>count</th>\n",
       "      <td>158.000000</td>\n",
       "      <td>158.000000</td>\n",
       "      <td>158.000000</td>\n",
       "      <td>158.000000</td>\n",
       "      <td>158.000000</td>\n",
       "      <td>158.000000</td>\n",
       "      <td>158.000000</td>\n",
       "      <td>158.000000</td>\n",
       "      <td>158.000000</td>\n",
       "      <td>158.000000</td>\n",
       "      <td>158.000000</td>\n",
       "      <td>158.000000</td>\n",
       "    </tr>\n",
       "    <tr>\n",
       "      <th>mean</th>\n",
       "      <td>78.500000</td>\n",
       "      <td>5.120253</td>\n",
       "      <td>79.493671</td>\n",
       "      <td>5.375734</td>\n",
       "      <td>0.047885</td>\n",
       "      <td>0.846137</td>\n",
       "      <td>0.991046</td>\n",
       "      <td>0.630259</td>\n",
       "      <td>0.428615</td>\n",
       "      <td>0.143422</td>\n",
       "      <td>0.237296</td>\n",
       "      <td>2.098977</td>\n",
       "    </tr>\n",
       "    <tr>\n",
       "      <th>std</th>\n",
       "      <td>45.754781</td>\n",
       "      <td>2.993321</td>\n",
       "      <td>45.754363</td>\n",
       "      <td>1.145010</td>\n",
       "      <td>0.017146</td>\n",
       "      <td>0.403121</td>\n",
       "      <td>0.272369</td>\n",
       "      <td>0.247078</td>\n",
       "      <td>0.150693</td>\n",
       "      <td>0.120034</td>\n",
       "      <td>0.126685</td>\n",
       "      <td>0.553550</td>\n",
       "    </tr>\n",
       "    <tr>\n",
       "      <th>min</th>\n",
       "      <td>0.000000</td>\n",
       "      <td>0.000000</td>\n",
       "      <td>1.000000</td>\n",
       "      <td>2.839000</td>\n",
       "      <td>0.018480</td>\n",
       "      <td>0.000000</td>\n",
       "      <td>0.000000</td>\n",
       "      <td>0.000000</td>\n",
       "      <td>0.000000</td>\n",
       "      <td>0.000000</td>\n",
       "      <td>0.000000</td>\n",
       "      <td>0.328580</td>\n",
       "    </tr>\n",
       "    <tr>\n",
       "      <th>25%</th>\n",
       "      <td>39.250000</td>\n",
       "      <td>3.000000</td>\n",
       "      <td>40.250000</td>\n",
       "      <td>4.526000</td>\n",
       "      <td>0.037268</td>\n",
       "      <td>0.545808</td>\n",
       "      <td>0.856823</td>\n",
       "      <td>0.439185</td>\n",
       "      <td>0.328330</td>\n",
       "      <td>0.061675</td>\n",
       "      <td>0.150553</td>\n",
       "      <td>1.759410</td>\n",
       "    </tr>\n",
       "    <tr>\n",
       "      <th>50%</th>\n",
       "      <td>78.500000</td>\n",
       "      <td>4.500000</td>\n",
       "      <td>79.500000</td>\n",
       "      <td>5.232500</td>\n",
       "      <td>0.043940</td>\n",
       "      <td>0.910245</td>\n",
       "      <td>1.029510</td>\n",
       "      <td>0.696705</td>\n",
       "      <td>0.435515</td>\n",
       "      <td>0.107220</td>\n",
       "      <td>0.216130</td>\n",
       "      <td>2.095415</td>\n",
       "    </tr>\n",
       "    <tr>\n",
       "      <th>75%</th>\n",
       "      <td>117.750000</td>\n",
       "      <td>8.000000</td>\n",
       "      <td>118.750000</td>\n",
       "      <td>6.243750</td>\n",
       "      <td>0.052300</td>\n",
       "      <td>1.158448</td>\n",
       "      <td>1.214405</td>\n",
       "      <td>0.811013</td>\n",
       "      <td>0.549092</td>\n",
       "      <td>0.180255</td>\n",
       "      <td>0.309883</td>\n",
       "      <td>2.462415</td>\n",
       "    </tr>\n",
       "    <tr>\n",
       "      <th>max</th>\n",
       "      <td>157.000000</td>\n",
       "      <td>9.000000</td>\n",
       "      <td>158.000000</td>\n",
       "      <td>7.587000</td>\n",
       "      <td>0.136930</td>\n",
       "      <td>1.690420</td>\n",
       "      <td>1.402230</td>\n",
       "      <td>1.025250</td>\n",
       "      <td>0.669730</td>\n",
       "      <td>0.551910</td>\n",
       "      <td>0.795880</td>\n",
       "      <td>3.602140</td>\n",
       "    </tr>\n",
       "  </tbody>\n",
       "</table>\n",
       "</div>"
      ],
      "text/plain": [
       "          Country      Region  Happiness Rank  Happiness Score  \\\n",
       "count  158.000000  158.000000      158.000000       158.000000   \n",
       "mean    78.500000    5.120253       79.493671         5.375734   \n",
       "std     45.754781    2.993321       45.754363         1.145010   \n",
       "min      0.000000    0.000000        1.000000         2.839000   \n",
       "25%     39.250000    3.000000       40.250000         4.526000   \n",
       "50%     78.500000    4.500000       79.500000         5.232500   \n",
       "75%    117.750000    8.000000      118.750000         6.243750   \n",
       "max    157.000000    9.000000      158.000000         7.587000   \n",
       "\n",
       "       Standard Error  Economy (GDP per Capita)      Family  \\\n",
       "count      158.000000                158.000000  158.000000   \n",
       "mean         0.047885                  0.846137    0.991046   \n",
       "std          0.017146                  0.403121    0.272369   \n",
       "min          0.018480                  0.000000    0.000000   \n",
       "25%          0.037268                  0.545808    0.856823   \n",
       "50%          0.043940                  0.910245    1.029510   \n",
       "75%          0.052300                  1.158448    1.214405   \n",
       "max          0.136930                  1.690420    1.402230   \n",
       "\n",
       "       Health (Life Expectancy)     Freedom  Trust (Government Corruption)  \\\n",
       "count                158.000000  158.000000                     158.000000   \n",
       "mean                   0.630259    0.428615                       0.143422   \n",
       "std                    0.247078    0.150693                       0.120034   \n",
       "min                    0.000000    0.000000                       0.000000   \n",
       "25%                    0.439185    0.328330                       0.061675   \n",
       "50%                    0.696705    0.435515                       0.107220   \n",
       "75%                    0.811013    0.549092                       0.180255   \n",
       "max                    1.025250    0.669730                       0.551910   \n",
       "\n",
       "       Generosity  Dystopia Residual  \n",
       "count  158.000000         158.000000  \n",
       "mean     0.237296           2.098977  \n",
       "std      0.126685           0.553550  \n",
       "min      0.000000           0.328580  \n",
       "25%      0.150553           1.759410  \n",
       "50%      0.216130           2.095415  \n",
       "75%      0.309883           2.462415  \n",
       "max      0.795880           3.602140  "
      ]
     },
     "execution_count": 32,
     "metadata": {},
     "output_type": "execute_result"
    }
   ],
   "source": [
    "happiness.describe()"
   ]
  },
  {
   "cell_type": "code",
   "execution_count": 33,
   "id": "e98fb6b8",
   "metadata": {},
   "outputs": [
    {
     "data": {
      "text/plain": [
       "<AxesSubplot:>"
      ]
     },
     "execution_count": 33,
     "metadata": {},
     "output_type": "execute_result"
    },
    {
     "data": {
      "image/png": "[encoded data removed]",
      "text/plain": [
       "<Figure size 1584x504 with 2 Axes>"
      ]
     },
     "metadata": {
      "needs_background": "light"
     },
     "output_type": "display_data"
    }
   ],
   "source": [
    "plt.figure(figsize=(22,7))\n",
    "sns.heatmap(happiness.describe(), annot=True, linewidth=0.1, linecolor=\"white\", fmt=\"0.2f\")"
   ]
  },
  {
   "cell_type": "markdown",
   "id": "2a52dc30",
   "metadata": {},
   "source": [
    "# Checking Correlation with Target Variable"
   ]
  },
  {
   "cell_type": "code",
   "execution_count": 34,
   "id": "5b486242",
   "metadata": {},
   "outputs": [
    {
     "data": {
      "text/html": [
       "<div>\n",
       "<style scoped>\n",
       "    .dataframe tbody tr th:only-of-type {\n",
       "        vertical-align: middle;\n",
       "    }\n",
       "\n",
       "    .dataframe tbody tr th {\n",
       "        vertical-align: top;\n",
       "    }\n",
       "\n",
       "    .dataframe thead th {\n",
       "        text-align: right;\n",
       "    }\n",
       "</style>\n",
       "<table border=\"1\" class=\"dataframe\">\n",
       "  <thead>\n",
       "    <tr style=\"text-align: right;\">\n",
       "      <th></th>\n",
       "      <th>Country</th>\n",
       "      <th>Region</th>\n",
       "      <th>Happiness Rank</th>\n",
       "      <th>Happiness Score</th>\n",
       "      <th>Standard Error</th>\n",
       "      <th>Economy (GDP per Capita)</th>\n",
       "      <th>Family</th>\n",
       "      <th>Health (Life Expectancy)</th>\n",
       "      <th>Freedom</th>\n",
       "      <th>Trust (Government Corruption)</th>\n",
       "      <th>Generosity</th>\n",
       "      <th>Dystopia Residual</th>\n",
       "    </tr>\n",
       "  </thead>\n",
       "  <tbody>\n",
       "    <tr>\n",
       "      <th>Country</th>\n",
       "      <td>1.000000</td>\n",
       "      <td>0.005092</td>\n",
       "      <td>-0.098538</td>\n",
       "      <td>0.083380</td>\n",
       "      <td>0.033879</td>\n",
       "      <td>0.037808</td>\n",
       "      <td>0.159416</td>\n",
       "      <td>0.037829</td>\n",
       "      <td>0.085684</td>\n",
       "      <td>0.088155</td>\n",
       "      <td>0.118085</td>\n",
       "      <td>-0.019778</td>\n",
       "    </tr>\n",
       "    <tr>\n",
       "      <th>Region</th>\n",
       "      <td>0.005092</td>\n",
       "      <td>1.000000</td>\n",
       "      <td>0.213773</td>\n",
       "      <td>-0.176791</td>\n",
       "      <td>-0.022600</td>\n",
       "      <td>-0.260139</td>\n",
       "      <td>-0.168533</td>\n",
       "      <td>-0.357508</td>\n",
       "      <td>0.092567</td>\n",
       "      <td>0.165040</td>\n",
       "      <td>0.273557</td>\n",
       "      <td>-0.057276</td>\n",
       "    </tr>\n",
       "    <tr>\n",
       "      <th>Happiness Rank</th>\n",
       "      <td>-0.098538</td>\n",
       "      <td>0.213773</td>\n",
       "      <td>1.000000</td>\n",
       "      <td>-0.992105</td>\n",
       "      <td>0.158516</td>\n",
       "      <td>-0.785267</td>\n",
       "      <td>-0.733644</td>\n",
       "      <td>-0.735613</td>\n",
       "      <td>-0.556886</td>\n",
       "      <td>-0.372315</td>\n",
       "      <td>-0.160142</td>\n",
       "      <td>-0.521999</td>\n",
       "    </tr>\n",
       "    <tr>\n",
       "      <th>Happiness Score</th>\n",
       "      <td>0.083380</td>\n",
       "      <td>-0.176791</td>\n",
       "      <td>-0.992105</td>\n",
       "      <td>1.000000</td>\n",
       "      <td>-0.177254</td>\n",
       "      <td>0.780966</td>\n",
       "      <td>0.740605</td>\n",
       "      <td>0.724200</td>\n",
       "      <td>0.568211</td>\n",
       "      <td>0.395199</td>\n",
       "      <td>0.180319</td>\n",
       "      <td>0.530474</td>\n",
       "    </tr>\n",
       "    <tr>\n",
       "      <th>Standard Error</th>\n",
       "      <td>0.033879</td>\n",
       "      <td>-0.022600</td>\n",
       "      <td>0.158516</td>\n",
       "      <td>-0.177254</td>\n",
       "      <td>1.000000</td>\n",
       "      <td>-0.217651</td>\n",
       "      <td>-0.120728</td>\n",
       "      <td>-0.310287</td>\n",
       "      <td>-0.129773</td>\n",
       "      <td>-0.178325</td>\n",
       "      <td>-0.088439</td>\n",
       "      <td>0.083981</td>\n",
       "    </tr>\n",
       "    <tr>\n",
       "      <th>Economy (GDP per Capita)</th>\n",
       "      <td>0.037808</td>\n",
       "      <td>-0.260139</td>\n",
       "      <td>-0.785267</td>\n",
       "      <td>0.780966</td>\n",
       "      <td>-0.217651</td>\n",
       "      <td>1.000000</td>\n",
       "      <td>0.645299</td>\n",
       "      <td>0.816478</td>\n",
       "      <td>0.370300</td>\n",
       "      <td>0.307885</td>\n",
       "      <td>-0.010465</td>\n",
       "      <td>0.040059</td>\n",
       "    </tr>\n",
       "    <tr>\n",
       "      <th>Family</th>\n",
       "      <td>0.159416</td>\n",
       "      <td>-0.168533</td>\n",
       "      <td>-0.733644</td>\n",
       "      <td>0.740605</td>\n",
       "      <td>-0.120728</td>\n",
       "      <td>0.645299</td>\n",
       "      <td>1.000000</td>\n",
       "      <td>0.531104</td>\n",
       "      <td>0.441518</td>\n",
       "      <td>0.205605</td>\n",
       "      <td>0.087513</td>\n",
       "      <td>0.148117</td>\n",
       "    </tr>\n",
       "    <tr>\n",
       "      <th>Health (Life Expectancy)</th>\n",
       "      <td>0.037829</td>\n",
       "      <td>-0.357508</td>\n",
       "      <td>-0.735613</td>\n",
       "      <td>0.724200</td>\n",
       "      <td>-0.310287</td>\n",
       "      <td>0.816478</td>\n",
       "      <td>0.531104</td>\n",
       "      <td>1.000000</td>\n",
       "      <td>0.360477</td>\n",
       "      <td>0.248335</td>\n",
       "      <td>0.108335</td>\n",
       "      <td>0.018979</td>\n",
       "    </tr>\n",
       "    <tr>\n",
       "      <th>Freedom</th>\n",
       "      <td>0.085684</td>\n",
       "      <td>0.092567</td>\n",
       "      <td>-0.556886</td>\n",
       "      <td>0.568211</td>\n",
       "      <td>-0.129773</td>\n",
       "      <td>0.370300</td>\n",
       "      <td>0.441518</td>\n",
       "      <td>0.360477</td>\n",
       "      <td>1.000000</td>\n",
       "      <td>0.493524</td>\n",
       "      <td>0.373916</td>\n",
       "      <td>0.062783</td>\n",
       "    </tr>\n",
       "    <tr>\n",
       "      <th>Trust (Government Corruption)</th>\n",
       "      <td>0.088155</td>\n",
       "      <td>0.165040</td>\n",
       "      <td>-0.372315</td>\n",
       "      <td>0.395199</td>\n",
       "      <td>-0.178325</td>\n",
       "      <td>0.307885</td>\n",
       "      <td>0.205605</td>\n",
       "      <td>0.248335</td>\n",
       "      <td>0.493524</td>\n",
       "      <td>1.000000</td>\n",
       "      <td>0.276123</td>\n",
       "      <td>-0.033105</td>\n",
       "    </tr>\n",
       "    <tr>\n",
       "      <th>Generosity</th>\n",
       "      <td>0.118085</td>\n",
       "      <td>0.273557</td>\n",
       "      <td>-0.160142</td>\n",
       "      <td>0.180319</td>\n",
       "      <td>-0.088439</td>\n",
       "      <td>-0.010465</td>\n",
       "      <td>0.087513</td>\n",
       "      <td>0.108335</td>\n",
       "      <td>0.373916</td>\n",
       "      <td>0.276123</td>\n",
       "      <td>1.000000</td>\n",
       "      <td>-0.101301</td>\n",
       "    </tr>\n",
       "    <tr>\n",
       "      <th>Dystopia Residual</th>\n",
       "      <td>-0.019778</td>\n",
       "      <td>-0.057276</td>\n",
       "      <td>-0.521999</td>\n",
       "      <td>0.530474</td>\n",
       "      <td>0.083981</td>\n",
       "      <td>0.040059</td>\n",
       "      <td>0.148117</td>\n",
       "      <td>0.018979</td>\n",
       "      <td>0.062783</td>\n",
       "      <td>-0.033105</td>\n",
       "      <td>-0.101301</td>\n",
       "      <td>1.000000</td>\n",
       "    </tr>\n",
       "  </tbody>\n",
       "</table>\n",
       "</div>"
      ],
      "text/plain": [
       "                                Country    Region  Happiness Rank  \\\n",
       "Country                        1.000000  0.005092       -0.098538   \n",
       "Region                         0.005092  1.000000        0.213773   \n",
       "Happiness Rank                -0.098538  0.213773        1.000000   \n",
       "Happiness Score                0.083380 -0.176791       -0.992105   \n",
       "Standard Error                 0.033879 -0.022600        0.158516   \n",
       "Economy (GDP per Capita)       0.037808 -0.260139       -0.785267   \n",
       "Family                         0.159416 -0.168533       -0.733644   \n",
       "Health (Life Expectancy)       0.037829 -0.357508       -0.735613   \n",
       "Freedom                        0.085684  0.092567       -0.556886   \n",
       "Trust (Government Corruption)  0.088155  0.165040       -0.372315   \n",
       "Generosity                     0.118085  0.273557       -0.160142   \n",
       "Dystopia Residual             -0.019778 -0.057276       -0.521999   \n",
       "\n",
       "                               Happiness Score  Standard Error  \\\n",
       "Country                               0.083380        0.033879   \n",
       "Region                               -0.176791       -0.022600   \n",
       "Happiness Rank                       -0.992105        0.158516   \n",
       "Happiness Score                       1.000000       -0.177254   \n",
       "Standard Error                       -0.177254        1.000000   \n",
       "Economy (GDP per Capita)              0.780966       -0.217651   \n",
       "Family                                0.740605       -0.120728   \n",
       "Health (Life Expectancy)              0.724200       -0.310287   \n",
       "Freedom                               0.568211       -0.129773   \n",
       "Trust (Government Corruption)         0.395199       -0.178325   \n",
       "Generosity                            0.180319       -0.088439   \n",
       "Dystopia Residual                     0.530474        0.083981   \n",
       "\n",
       "                               Economy (GDP per Capita)    Family  \\\n",
       "Country                                        0.037808  0.159416   \n",
       "Region                                        -0.260139 -0.168533   \n",
       "Happiness Rank                                -0.785267 -0.733644   \n",
       "Happiness Score                                0.780966  0.740605   \n",
       "Standard Error                                -0.217651 -0.120728   \n",
       "Economy (GDP per Capita)                       1.000000  0.645299   \n",
       "Family                                         0.645299  1.000000   \n",
       "Health (Life Expectancy)                       0.816478  0.531104   \n",
       "Freedom                                        0.370300  0.441518   \n",
       "Trust (Government Corruption)                  0.307885  0.205605   \n",
       "Generosity                                    -0.010465  0.087513   \n",
       "Dystopia Residual                              0.040059  0.148117   \n",
       "\n",
       "                               Health (Life Expectancy)   Freedom  \\\n",
       "Country                                        0.037829  0.085684   \n",
       "Region                                        -0.357508  0.092567   \n",
       "Happiness Rank                                -0.735613 -0.556886   \n",
       "Happiness Score                                0.724200  0.568211   \n",
       "Standard Error                                -0.310287 -0.129773   \n",
       "Economy (GDP per Capita)                       0.816478  0.370300   \n",
       "Family                                         0.531104  0.441518   \n",
       "Health (Life Expectancy)                       1.000000  0.360477   \n",
       "Freedom                                        0.360477  1.000000   \n",
       "Trust (Government Corruption)                  0.248335  0.493524   \n",
       "Generosity                                     0.108335  0.373916   \n",
       "Dystopia Residual                              0.018979  0.062783   \n",
       "\n",
       "                               Trust (Government Corruption)  Generosity  \\\n",
       "Country                                             0.088155    0.118085   \n",
       "Region                                              0.165040    0.273557   \n",
       "Happiness Rank                                     -0.372315   -0.160142   \n",
       "Happiness Score                                     0.395199    0.180319   \n",
       "Standard Error                                     -0.178325   -0.088439   \n",
       "Economy (GDP per Capita)                            0.307885   -0.010465   \n",
       "Family                                              0.205605    0.087513   \n",
       "Health (Life Expectancy)                            0.248335    0.108335   \n",
       "Freedom                                             0.493524    0.373916   \n",
       "Trust (Government Corruption)                       1.000000    0.276123   \n",
       "Generosity                                          0.276123    1.000000   \n",
       "Dystopia Residual                                  -0.033105   -0.101301   \n",
       "\n",
       "                               Dystopia Residual  \n",
       "Country                                -0.019778  \n",
       "Region                                 -0.057276  \n",
       "Happiness Rank                         -0.521999  \n",
       "Happiness Score                         0.530474  \n",
       "Standard Error                          0.083981  \n",
       "Economy (GDP per Capita)                0.040059  \n",
       "Family                                  0.148117  \n",
       "Health (Life Expectancy)                0.018979  \n",
       "Freedom                                 0.062783  \n",
       "Trust (Government Corruption)          -0.033105  \n",
       "Generosity                             -0.101301  \n",
       "Dystopia Residual                       1.000000  "
      ]
     },
     "execution_count": 34,
     "metadata": {},
     "output_type": "execute_result"
    }
   ],
   "source": [
    "happiness.corr()"
   ]
  },
  {
   "cell_type": "code",
   "execution_count": 35,
   "id": "0f5ad354",
   "metadata": {},
   "outputs": [
    {
     "data": {
      "text/plain": [
       "<AxesSubplot:>"
      ]
     },
     "execution_count": 35,
     "metadata": {},
     "output_type": "execute_result"
    },
    {
     "data": {
      "image/png": "[encoded data removed]",
      "text/plain": [
       "<Figure size 1584x576 with 2 Axes>"
      ]
     },
     "metadata": {
      "needs_background": "light"
     },
     "output_type": "display_data"
    }
   ],
   "source": [
    "plt.figure(figsize=(22,8))\n",
    "sns.heatmap(happiness.corr(), annot=True, linewidth=0.1, linecolor=\"white\", fmt=\"0.2f\", annot_kws={\"size\": 16})"
   ]
  },
  {
   "cell_type": "markdown",
   "id": "24af93e5",
   "metadata": {},
   "source": [
    "#### Checking positive and Negative column"
   ]
  },
  {
   "cell_type": "code",
   "execution_count": 36,
   "id": "73ffd6c4",
   "metadata": {},
   "outputs": [
    {
     "data": {
      "image/png": "[encoded data removed]",
      "text/plain": [
       "<Figure size 1584x504 with 1 Axes>"
      ]
     },
     "metadata": {
      "needs_background": "light"
     },
     "output_type": "display_data"
    }
   ],
   "source": [
    "plt.figure(figsize=(22,7))\n",
    "happiness.corr()['Happiness Score'].sort_values(ascending=False).drop(['Happiness Score']).plot(kind='bar',color='c')\n",
    "plt.xlabel=('Feature')\n",
    "plt.ylabel=('column with target names')\n",
    "plt.title=('correlation')\n",
    "plt.show()"
   ]
  },
  {
   "cell_type": "markdown",
   "id": "d9557217",
   "metadata": {},
   "source": [
    "# Checking Outliers"
   ]
  },
  {
   "cell_type": "code",
   "execution_count": 37,
   "id": "5b38b4c5",
   "metadata": {},
   "outputs": [
    {
     "data": {
      "image/png": "[encoded data removed]",
      "text/plain": [
       "<Figure size 2160x6480 with 12 Axes>"
      ]
     },
     "metadata": {
      "needs_background": "light"
     },
     "output_type": "display_data"
    }
   ],
   "source": [
    "collist=happiness.columns.values\n",
    "ncol=30\n",
    "nrows=14\n",
    "plt.figure(figsize=(ncol,3*ncol))\n",
    "for i in range(0,len(collist)):\n",
    "    plt.subplot(nrows,ncol,i+1)\n",
    "    sns.boxplot(data=happiness[collist[i]])"
   ]
  },
  {
   "cell_type": "markdown",
   "id": "433f7dca",
   "metadata": {},
   "source": [
    "# Checking Skewness"
   ]
  },
  {
   "cell_type": "code",
   "execution_count": 38,
   "id": "317b8af0",
   "metadata": {},
   "outputs": [
    {
     "data": {
      "text/plain": [
       "Country                          0.000000\n",
       "Region                          -0.116119\n",
       "Happiness Rank                   0.000418\n",
       "Happiness Score                  0.097769\n",
       "Standard Error                   1.983439\n",
       "Economy (GDP per Capita)        -0.317575\n",
       "Family                          -1.006893\n",
       "Health (Life Expectancy)        -0.705328\n",
       "Freedom                         -0.413462\n",
       "Trust (Government Corruption)    1.385463\n",
       "Generosity                       1.001961\n",
       "Dystopia Residual               -0.238911\n",
       "dtype: float64"
      ]
     },
     "execution_count": 38,
     "metadata": {},
     "output_type": "execute_result"
    }
   ],
   "source": [
    "happiness.skew()"
   ]
  },
  {
   "cell_type": "code",
   "execution_count": 39,
   "id": "9e0da093",
   "metadata": {},
   "outputs": [],
   "source": [
    "happiness.drop(['Standard Error'],axis=1, inplace=True )"
   ]
  },
  {
   "cell_type": "markdown",
   "id": "e1e2aebd",
   "metadata": {},
   "source": [
    "# Removing Multicollinearity"
   ]
  },
  {
   "cell_type": "code",
   "execution_count": 40,
   "id": "4fab231a",
   "metadata": {},
   "outputs": [],
   "source": [
    "def  cal_vif(x):\n",
    "    vif =pd.DataFrame()\n",
    "    vif['variables']=x.columns\n",
    "    vif['VIF factor']=[variance_inflation_factor(x.values,i) for i in range(x.shape[1])]\n",
    "    return(vif)"
   ]
  },
  {
   "cell_type": "markdown",
   "id": "ecd0955b",
   "metadata": {},
   "source": [
    "# Outliers removal with Scipy"
   ]
  },
  {
   "cell_type": "code",
   "execution_count": 41,
   "id": "99c4688c",
   "metadata": {},
   "outputs": [
    {
     "data": {
      "text/html": [
       "<div>\n",
       "<style scoped>\n",
       "    .dataframe tbody tr th:only-of-type {\n",
       "        vertical-align: middle;\n",
       "    }\n",
       "\n",
       "    .dataframe tbody tr th {\n",
       "        vertical-align: top;\n",
       "    }\n",
       "\n",
       "    .dataframe thead th {\n",
       "        text-align: right;\n",
       "    }\n",
       "</style>\n",
       "<table border=\"1\" class=\"dataframe\">\n",
       "  <thead>\n",
       "    <tr style=\"text-align: right;\">\n",
       "      <th></th>\n",
       "      <th>Country</th>\n",
       "      <th>Region</th>\n",
       "      <th>Happiness Rank</th>\n",
       "      <th>Happiness Score</th>\n",
       "      <th>Economy (GDP per Capita)</th>\n",
       "      <th>Family</th>\n",
       "      <th>Health (Life Expectancy)</th>\n",
       "      <th>Freedom</th>\n",
       "      <th>Trust (Government Corruption)</th>\n",
       "      <th>Generosity</th>\n",
       "      <th>Dystopia Residual</th>\n",
       "    </tr>\n",
       "  </thead>\n",
       "  <tbody>\n",
       "    <tr>\n",
       "      <th>0</th>\n",
       "      <td>1.238770</td>\n",
       "      <td>1.300256</td>\n",
       "      <td>1.721000</td>\n",
       "      <td>1.937360</td>\n",
       "      <td>1.369621</td>\n",
       "      <td>1.320281</td>\n",
       "      <td>1.263408</td>\n",
       "      <td>1.577438</td>\n",
       "      <td>2.309652</td>\n",
       "      <td>0.471040</td>\n",
       "      <td>0.758258</td>\n",
       "    </tr>\n",
       "    <tr>\n",
       "      <th>1</th>\n",
       "      <td>0.449465</td>\n",
       "      <td>1.300256</td>\n",
       "      <td>1.699075</td>\n",
       "      <td>1.914581</td>\n",
       "      <td>1.135226</td>\n",
       "      <td>1.514458</td>\n",
       "      <td>1.289434</td>\n",
       "      <td>1.332456</td>\n",
       "      <td>0.016480</td>\n",
       "      <td>1.575856</td>\n",
       "      <td>1.092857</td>\n",
       "    </tr>\n",
       "    <tr>\n",
       "      <th>2</th>\n",
       "      <td>0.909893</td>\n",
       "      <td>1.300256</td>\n",
       "      <td>1.677149</td>\n",
       "      <td>1.884792</td>\n",
       "      <td>1.192861</td>\n",
       "      <td>1.361054</td>\n",
       "      <td>0.992229</td>\n",
       "      <td>1.469659</td>\n",
       "      <td>2.842774</td>\n",
       "      <td>0.824293</td>\n",
       "      <td>0.712335</td>\n",
       "    </tr>\n",
       "    <tr>\n",
       "      <th>3</th>\n",
       "      <td>0.581016</td>\n",
       "      <td>1.300256</td>\n",
       "      <td>1.655224</td>\n",
       "      <td>1.880411</td>\n",
       "      <td>1.525130</td>\n",
       "      <td>1.251922</td>\n",
       "      <td>1.035145</td>\n",
       "      <td>1.605131</td>\n",
       "      <td>1.852081</td>\n",
       "      <td>0.868638</td>\n",
       "      <td>0.663893</td>\n",
       "    </tr>\n",
       "    <tr>\n",
       "      <th>4</th>\n",
       "      <td>1.194920</td>\n",
       "      <td>0.040302</td>\n",
       "      <td>1.633299</td>\n",
       "      <td>1.797179</td>\n",
       "      <td>1.194876</td>\n",
       "      <td>1.221204</td>\n",
       "      <td>1.118054</td>\n",
       "      <td>1.360416</td>\n",
       "      <td>1.555725</td>\n",
       "      <td>1.748563</td>\n",
       "      <td>0.639337</td>\n",
       "    </tr>\n",
       "    <tr>\n",
       "      <th>...</th>\n",
       "      <td>...</td>\n",
       "      <td>...</td>\n",
       "      <td>...</td>\n",
       "      <td>...</td>\n",
       "      <td>...</td>\n",
       "      <td>...</td>\n",
       "      <td>...</td>\n",
       "      <td>...</td>\n",
       "      <td>...</td>\n",
       "      <td>...</td>\n",
       "      <td>...</td>\n",
       "    </tr>\n",
       "    <tr>\n",
       "      <th>153</th>\n",
       "      <td>0.866043</td>\n",
       "      <td>0.965117</td>\n",
       "      <td>1.633576</td>\n",
       "      <td>1.674055</td>\n",
       "      <td>1.552987</td>\n",
       "      <td>0.800520</td>\n",
       "      <td>0.818610</td>\n",
       "      <td>1.087740</td>\n",
       "      <td>3.413922</td>\n",
       "      <td>0.087228</td>\n",
       "      <td>2.588925</td>\n",
       "    </tr>\n",
       "    <tr>\n",
       "      <th>154</th>\n",
       "      <td>1.436096</td>\n",
       "      <td>0.965117</td>\n",
       "      <td>1.655501</td>\n",
       "      <td>1.783571</td>\n",
       "      <td>1.392303</td>\n",
       "      <td>2.346860</td>\n",
       "      <td>1.263362</td>\n",
       "      <td>0.372033</td>\n",
       "      <td>0.529210</td>\n",
       "      <td>0.433117</td>\n",
       "      <td>0.843967</td>\n",
       "    </tr>\n",
       "    <tr>\n",
       "      <th>155</th>\n",
       "      <td>1.260695</td>\n",
       "      <td>0.375441</td>\n",
       "      <td>1.677427</td>\n",
       "      <td>2.076199</td>\n",
       "      <td>0.455245</td>\n",
       "      <td>1.901086</td>\n",
       "      <td>0.372199</td>\n",
       "      <td>1.809238</td>\n",
       "      <td>0.381419</td>\n",
       "      <td>1.856891</td>\n",
       "      <td>3.208430</td>\n",
       "    </tr>\n",
       "    <tr>\n",
       "      <th>156</th>\n",
       "      <td>1.260695</td>\n",
       "      <td>0.965117</td>\n",
       "      <td>1.699352</td>\n",
       "      <td>2.164688</td>\n",
       "      <td>2.067566</td>\n",
       "      <td>2.118467</td>\n",
       "      <td>1.649648</td>\n",
       "      <td>2.064472</td>\n",
       "      <td>0.357715</td>\n",
       "      <td>0.316950</td>\n",
       "      <td>0.481985</td>\n",
       "    </tr>\n",
       "    <tr>\n",
       "      <th>157</th>\n",
       "      <td>1.370321</td>\n",
       "      <td>0.965117</td>\n",
       "      <td>1.721277</td>\n",
       "      <td>2.222513</td>\n",
       "      <td>1.586334</td>\n",
       "      <td>3.134725</td>\n",
       "      <td>1.404129</td>\n",
       "      <td>0.426621</td>\n",
       "      <td>0.301803</td>\n",
       "      <td>0.558153</td>\n",
       "      <td>0.963612</td>\n",
       "    </tr>\n",
       "  </tbody>\n",
       "</table>\n",
       "<p>158 rows × 11 columns</p>\n",
       "</div>"
      ],
      "text/plain": [
       "      Country    Region  Happiness Rank  Happiness Score  \\\n",
       "0    1.238770  1.300256        1.721000         1.937360   \n",
       "1    0.449465  1.300256        1.699075         1.914581   \n",
       "2    0.909893  1.300256        1.677149         1.884792   \n",
       "3    0.581016  1.300256        1.655224         1.880411   \n",
       "4    1.194920  0.040302        1.633299         1.797179   \n",
       "..        ...       ...             ...              ...   \n",
       "153  0.866043  0.965117        1.633576         1.674055   \n",
       "154  1.436096  0.965117        1.655501         1.783571   \n",
       "155  1.260695  0.375441        1.677427         2.076199   \n",
       "156  1.260695  0.965117        1.699352         2.164688   \n",
       "157  1.370321  0.965117        1.721277         2.222513   \n",
       "\n",
       "     Economy (GDP per Capita)    Family  Health (Life Expectancy)   Freedom  \\\n",
       "0                    1.369621  1.320281                  1.263408  1.577438   \n",
       "1                    1.135226  1.514458                  1.289434  1.332456   \n",
       "2                    1.192861  1.361054                  0.992229  1.469659   \n",
       "3                    1.525130  1.251922                  1.035145  1.605131   \n",
       "4                    1.194876  1.221204                  1.118054  1.360416   \n",
       "..                        ...       ...                       ...       ...   \n",
       "153                  1.552987  0.800520                  0.818610  1.087740   \n",
       "154                  1.392303  2.346860                  1.263362  0.372033   \n",
       "155                  0.455245  1.901086                  0.372199  1.809238   \n",
       "156                  2.067566  2.118467                  1.649648  2.064472   \n",
       "157                  1.586334  3.134725                  1.404129  0.426621   \n",
       "\n",
       "     Trust (Government Corruption)  Generosity  Dystopia Residual  \n",
       "0                         2.309652    0.471040           0.758258  \n",
       "1                         0.016480    1.575856           1.092857  \n",
       "2                         2.842774    0.824293           0.712335  \n",
       "3                         1.852081    0.868638           0.663893  \n",
       "4                         1.555725    1.748563           0.639337  \n",
       "..                             ...         ...                ...  \n",
       "153                       3.413922    0.087228           2.588925  \n",
       "154                       0.529210    0.433117           0.843967  \n",
       "155                       0.381419    1.856891           3.208430  \n",
       "156                       0.357715    0.316950           0.481985  \n",
       "157                       0.301803    0.558153           0.963612  \n",
       "\n",
       "[158 rows x 11 columns]"
      ]
     },
     "execution_count": 41,
     "metadata": {},
     "output_type": "execute_result"
    }
   ],
   "source": [
    "import scipy\n",
    "from scipy.stats import zscore\n",
    "\n",
    "z= np.abs(zscore(happiness))\n",
    "z"
   ]
  },
  {
   "cell_type": "code",
   "execution_count": 42,
   "id": "734e15ab",
   "metadata": {},
   "outputs": [
    {
     "data": {
      "text/html": [
       "<div>\n",
       "<style scoped>\n",
       "    .dataframe tbody tr th:only-of-type {\n",
       "        vertical-align: middle;\n",
       "    }\n",
       "\n",
       "    .dataframe tbody tr th {\n",
       "        vertical-align: top;\n",
       "    }\n",
       "\n",
       "    .dataframe thead th {\n",
       "        text-align: right;\n",
       "    }\n",
       "</style>\n",
       "<table border=\"1\" class=\"dataframe\">\n",
       "  <thead>\n",
       "    <tr style=\"text-align: right;\">\n",
       "      <th></th>\n",
       "      <th>Country</th>\n",
       "      <th>Region</th>\n",
       "      <th>Happiness Rank</th>\n",
       "      <th>Happiness Score</th>\n",
       "      <th>Economy (GDP per Capita)</th>\n",
       "      <th>Family</th>\n",
       "      <th>Health (Life Expectancy)</th>\n",
       "      <th>Freedom</th>\n",
       "      <th>Trust (Government Corruption)</th>\n",
       "      <th>Generosity</th>\n",
       "      <th>Dystopia Residual</th>\n",
       "    </tr>\n",
       "  </thead>\n",
       "  <tbody>\n",
       "    <tr>\n",
       "      <th>count</th>\n",
       "      <td>158.000000</td>\n",
       "      <td>158.000000</td>\n",
       "      <td>158.000000</td>\n",
       "      <td>158.000000</td>\n",
       "      <td>158.000000</td>\n",
       "      <td>158.000000</td>\n",
       "      <td>158.000000</td>\n",
       "      <td>158.000000</td>\n",
       "      <td>158.000000</td>\n",
       "      <td>158.000000</td>\n",
       "      <td>158.000000</td>\n",
       "    </tr>\n",
       "    <tr>\n",
       "      <th>mean</th>\n",
       "      <td>78.500000</td>\n",
       "      <td>5.120253</td>\n",
       "      <td>79.493671</td>\n",
       "      <td>5.375734</td>\n",
       "      <td>0.846137</td>\n",
       "      <td>0.991046</td>\n",
       "      <td>0.630259</td>\n",
       "      <td>0.428615</td>\n",
       "      <td>0.143422</td>\n",
       "      <td>0.237296</td>\n",
       "      <td>2.098977</td>\n",
       "    </tr>\n",
       "    <tr>\n",
       "      <th>std</th>\n",
       "      <td>45.754781</td>\n",
       "      <td>2.993321</td>\n",
       "      <td>45.754363</td>\n",
       "      <td>1.145010</td>\n",
       "      <td>0.403121</td>\n",
       "      <td>0.272369</td>\n",
       "      <td>0.247078</td>\n",
       "      <td>0.150693</td>\n",
       "      <td>0.120034</td>\n",
       "      <td>0.126685</td>\n",
       "      <td>0.553550</td>\n",
       "    </tr>\n",
       "    <tr>\n",
       "      <th>min</th>\n",
       "      <td>0.000000</td>\n",
       "      <td>0.000000</td>\n",
       "      <td>1.000000</td>\n",
       "      <td>2.839000</td>\n",
       "      <td>0.000000</td>\n",
       "      <td>0.000000</td>\n",
       "      <td>0.000000</td>\n",
       "      <td>0.000000</td>\n",
       "      <td>0.000000</td>\n",
       "      <td>0.000000</td>\n",
       "      <td>0.328580</td>\n",
       "    </tr>\n",
       "    <tr>\n",
       "      <th>25%</th>\n",
       "      <td>39.250000</td>\n",
       "      <td>3.000000</td>\n",
       "      <td>40.250000</td>\n",
       "      <td>4.526000</td>\n",
       "      <td>0.545808</td>\n",
       "      <td>0.856823</td>\n",
       "      <td>0.439185</td>\n",
       "      <td>0.328330</td>\n",
       "      <td>0.061675</td>\n",
       "      <td>0.150553</td>\n",
       "      <td>1.759410</td>\n",
       "    </tr>\n",
       "    <tr>\n",
       "      <th>50%</th>\n",
       "      <td>78.500000</td>\n",
       "      <td>4.500000</td>\n",
       "      <td>79.500000</td>\n",
       "      <td>5.232500</td>\n",
       "      <td>0.910245</td>\n",
       "      <td>1.029510</td>\n",
       "      <td>0.696705</td>\n",
       "      <td>0.435515</td>\n",
       "      <td>0.107220</td>\n",
       "      <td>0.216130</td>\n",
       "      <td>2.095415</td>\n",
       "    </tr>\n",
       "    <tr>\n",
       "      <th>75%</th>\n",
       "      <td>117.750000</td>\n",
       "      <td>8.000000</td>\n",
       "      <td>118.750000</td>\n",
       "      <td>6.243750</td>\n",
       "      <td>1.158448</td>\n",
       "      <td>1.214405</td>\n",
       "      <td>0.811013</td>\n",
       "      <td>0.549092</td>\n",
       "      <td>0.180255</td>\n",
       "      <td>0.309883</td>\n",
       "      <td>2.462415</td>\n",
       "    </tr>\n",
       "    <tr>\n",
       "      <th>max</th>\n",
       "      <td>157.000000</td>\n",
       "      <td>9.000000</td>\n",
       "      <td>158.000000</td>\n",
       "      <td>7.587000</td>\n",
       "      <td>1.690420</td>\n",
       "      <td>1.402230</td>\n",
       "      <td>1.025250</td>\n",
       "      <td>0.669730</td>\n",
       "      <td>0.551910</td>\n",
       "      <td>0.795880</td>\n",
       "      <td>3.602140</td>\n",
       "    </tr>\n",
       "  </tbody>\n",
       "</table>\n",
       "</div>"
      ],
      "text/plain": [
       "          Country      Region  Happiness Rank  Happiness Score  \\\n",
       "count  158.000000  158.000000      158.000000       158.000000   \n",
       "mean    78.500000    5.120253       79.493671         5.375734   \n",
       "std     45.754781    2.993321       45.754363         1.145010   \n",
       "min      0.000000    0.000000        1.000000         2.839000   \n",
       "25%     39.250000    3.000000       40.250000         4.526000   \n",
       "50%     78.500000    4.500000       79.500000         5.232500   \n",
       "75%    117.750000    8.000000      118.750000         6.243750   \n",
       "max    157.000000    9.000000      158.000000         7.587000   \n",
       "\n",
       "       Economy (GDP per Capita)      Family  Health (Life Expectancy)  \\\n",
       "count                158.000000  158.000000                158.000000   \n",
       "mean                   0.846137    0.991046                  0.630259   \n",
       "std                    0.403121    0.272369                  0.247078   \n",
       "min                    0.000000    0.000000                  0.000000   \n",
       "25%                    0.545808    0.856823                  0.439185   \n",
       "50%                    0.910245    1.029510                  0.696705   \n",
       "75%                    1.158448    1.214405                  0.811013   \n",
       "max                    1.690420    1.402230                  1.025250   \n",
       "\n",
       "          Freedom  Trust (Government Corruption)  Generosity  \\\n",
       "count  158.000000                     158.000000  158.000000   \n",
       "mean     0.428615                       0.143422    0.237296   \n",
       "std      0.150693                       0.120034    0.126685   \n",
       "min      0.000000                       0.000000    0.000000   \n",
       "25%      0.328330                       0.061675    0.150553   \n",
       "50%      0.435515                       0.107220    0.216130   \n",
       "75%      0.549092                       0.180255    0.309883   \n",
       "max      0.669730                       0.551910    0.795880   \n",
       "\n",
       "       Dystopia Residual  \n",
       "count         158.000000  \n",
       "mean            2.098977  \n",
       "std             0.553550  \n",
       "min             0.328580  \n",
       "25%             1.759410  \n",
       "50%             2.095415  \n",
       "75%             2.462415  \n",
       "max             3.602140  "
      ]
     },
     "execution_count": 42,
     "metadata": {},
     "output_type": "execute_result"
    }
   ],
   "source": [
    "happiness.describe()"
   ]
  },
  {
   "cell_type": "code",
   "execution_count": 43,
   "id": "484f229e",
   "metadata": {},
   "outputs": [
    {
     "data": {
      "text/plain": [
       "<AxesSubplot:>"
      ]
     },
     "execution_count": 43,
     "metadata": {},
     "output_type": "execute_result"
    },
    {
     "data": {
      "image/png": "[encoded data removed]",
      "text/plain": [
       "<Figure size 1584x576 with 2 Axes>"
      ]
     },
     "metadata": {
      "needs_background": "light"
     },
     "output_type": "display_data"
    }
   ],
   "source": [
    "plt.figure(figsize=(22,8))\n",
    "sns.heatmap(happiness.describe(), annot=True, linewidth=0.1, linecolor=\"white\", fmt=\"0.2f\", annot_kws={\"size\": 16})"
   ]
  },
  {
   "cell_type": "code",
   "execution_count": 44,
   "id": "ff1e137f",
   "metadata": {},
   "outputs": [
    {
     "name": "stdout",
     "output_type": "stream",
     "text": [
      "(array([ 27, 128, 147, 153, 155, 157], dtype=int64), array([ 8,  9,  5,  8, 10,  5], dtype=int64))\n"
     ]
    }
   ],
   "source": [
    "threshold=3\n",
    "print(np.where(z>3))"
   ]
  },
  {
   "cell_type": "code",
   "execution_count": 45,
   "id": "b02e8fa2",
   "metadata": {},
   "outputs": [
    {
     "data": {
      "text/html": [
       "<div>\n",
       "<style scoped>\n",
       "    .dataframe tbody tr th:only-of-type {\n",
       "        vertical-align: middle;\n",
       "    }\n",
       "\n",
       "    .dataframe tbody tr th {\n",
       "        vertical-align: top;\n",
       "    }\n",
       "\n",
       "    .dataframe thead th {\n",
       "        text-align: right;\n",
       "    }\n",
       "</style>\n",
       "<table border=\"1\" class=\"dataframe\">\n",
       "  <thead>\n",
       "    <tr style=\"text-align: right;\">\n",
       "      <th></th>\n",
       "      <th>Country</th>\n",
       "      <th>Region</th>\n",
       "      <th>Happiness Rank</th>\n",
       "      <th>Happiness Score</th>\n",
       "      <th>Economy (GDP per Capita)</th>\n",
       "      <th>Family</th>\n",
       "      <th>Health (Life Expectancy)</th>\n",
       "      <th>Freedom</th>\n",
       "      <th>Trust (Government Corruption)</th>\n",
       "      <th>Generosity</th>\n",
       "      <th>Dystopia Residual</th>\n",
       "    </tr>\n",
       "  </thead>\n",
       "  <tbody>\n",
       "    <tr>\n",
       "      <th>0</th>\n",
       "      <td>1.238770</td>\n",
       "      <td>1.300256</td>\n",
       "      <td>1.721000</td>\n",
       "      <td>1.937360</td>\n",
       "      <td>1.369621</td>\n",
       "      <td>1.320281</td>\n",
       "      <td>1.263408</td>\n",
       "      <td>1.577438</td>\n",
       "      <td>2.309652</td>\n",
       "      <td>0.471040</td>\n",
       "      <td>0.758258</td>\n",
       "    </tr>\n",
       "    <tr>\n",
       "      <th>1</th>\n",
       "      <td>0.449465</td>\n",
       "      <td>1.300256</td>\n",
       "      <td>1.699075</td>\n",
       "      <td>1.914581</td>\n",
       "      <td>1.135226</td>\n",
       "      <td>1.514458</td>\n",
       "      <td>1.289434</td>\n",
       "      <td>1.332456</td>\n",
       "      <td>0.016480</td>\n",
       "      <td>1.575856</td>\n",
       "      <td>1.092857</td>\n",
       "    </tr>\n",
       "    <tr>\n",
       "      <th>2</th>\n",
       "      <td>0.909893</td>\n",
       "      <td>1.300256</td>\n",
       "      <td>1.677149</td>\n",
       "      <td>1.884792</td>\n",
       "      <td>1.192861</td>\n",
       "      <td>1.361054</td>\n",
       "      <td>0.992229</td>\n",
       "      <td>1.469659</td>\n",
       "      <td>2.842774</td>\n",
       "      <td>0.824293</td>\n",
       "      <td>0.712335</td>\n",
       "    </tr>\n",
       "    <tr>\n",
       "      <th>3</th>\n",
       "      <td>0.581016</td>\n",
       "      <td>1.300256</td>\n",
       "      <td>1.655224</td>\n",
       "      <td>1.880411</td>\n",
       "      <td>1.525130</td>\n",
       "      <td>1.251922</td>\n",
       "      <td>1.035145</td>\n",
       "      <td>1.605131</td>\n",
       "      <td>1.852081</td>\n",
       "      <td>0.868638</td>\n",
       "      <td>0.663893</td>\n",
       "    </tr>\n",
       "    <tr>\n",
       "      <th>4</th>\n",
       "      <td>1.194920</td>\n",
       "      <td>0.040302</td>\n",
       "      <td>1.633299</td>\n",
       "      <td>1.797179</td>\n",
       "      <td>1.194876</td>\n",
       "      <td>1.221204</td>\n",
       "      <td>1.118054</td>\n",
       "      <td>1.360416</td>\n",
       "      <td>1.555725</td>\n",
       "      <td>1.748563</td>\n",
       "      <td>0.639337</td>\n",
       "    </tr>\n",
       "    <tr>\n",
       "      <th>...</th>\n",
       "      <td>...</td>\n",
       "      <td>...</td>\n",
       "      <td>...</td>\n",
       "      <td>...</td>\n",
       "      <td>...</td>\n",
       "      <td>...</td>\n",
       "      <td>...</td>\n",
       "      <td>...</td>\n",
       "      <td>...</td>\n",
       "      <td>...</td>\n",
       "      <td>...</td>\n",
       "    </tr>\n",
       "    <tr>\n",
       "      <th>153</th>\n",
       "      <td>0.866043</td>\n",
       "      <td>0.965117</td>\n",
       "      <td>1.633576</td>\n",
       "      <td>1.674055</td>\n",
       "      <td>1.552987</td>\n",
       "      <td>0.800520</td>\n",
       "      <td>0.818610</td>\n",
       "      <td>1.087740</td>\n",
       "      <td>3.413922</td>\n",
       "      <td>0.087228</td>\n",
       "      <td>2.588925</td>\n",
       "    </tr>\n",
       "    <tr>\n",
       "      <th>154</th>\n",
       "      <td>1.436096</td>\n",
       "      <td>0.965117</td>\n",
       "      <td>1.655501</td>\n",
       "      <td>1.783571</td>\n",
       "      <td>1.392303</td>\n",
       "      <td>2.346860</td>\n",
       "      <td>1.263362</td>\n",
       "      <td>0.372033</td>\n",
       "      <td>0.529210</td>\n",
       "      <td>0.433117</td>\n",
       "      <td>0.843967</td>\n",
       "    </tr>\n",
       "    <tr>\n",
       "      <th>155</th>\n",
       "      <td>1.260695</td>\n",
       "      <td>0.375441</td>\n",
       "      <td>1.677427</td>\n",
       "      <td>2.076199</td>\n",
       "      <td>0.455245</td>\n",
       "      <td>1.901086</td>\n",
       "      <td>0.372199</td>\n",
       "      <td>1.809238</td>\n",
       "      <td>0.381419</td>\n",
       "      <td>1.856891</td>\n",
       "      <td>3.208430</td>\n",
       "    </tr>\n",
       "    <tr>\n",
       "      <th>156</th>\n",
       "      <td>1.260695</td>\n",
       "      <td>0.965117</td>\n",
       "      <td>1.699352</td>\n",
       "      <td>2.164688</td>\n",
       "      <td>2.067566</td>\n",
       "      <td>2.118467</td>\n",
       "      <td>1.649648</td>\n",
       "      <td>2.064472</td>\n",
       "      <td>0.357715</td>\n",
       "      <td>0.316950</td>\n",
       "      <td>0.481985</td>\n",
       "    </tr>\n",
       "    <tr>\n",
       "      <th>157</th>\n",
       "      <td>1.370321</td>\n",
       "      <td>0.965117</td>\n",
       "      <td>1.721277</td>\n",
       "      <td>2.222513</td>\n",
       "      <td>1.586334</td>\n",
       "      <td>3.134725</td>\n",
       "      <td>1.404129</td>\n",
       "      <td>0.426621</td>\n",
       "      <td>0.301803</td>\n",
       "      <td>0.558153</td>\n",
       "      <td>0.963612</td>\n",
       "    </tr>\n",
       "  </tbody>\n",
       "</table>\n",
       "<p>158 rows × 11 columns</p>\n",
       "</div>"
      ],
      "text/plain": [
       "      Country    Region  Happiness Rank  Happiness Score  \\\n",
       "0    1.238770  1.300256        1.721000         1.937360   \n",
       "1    0.449465  1.300256        1.699075         1.914581   \n",
       "2    0.909893  1.300256        1.677149         1.884792   \n",
       "3    0.581016  1.300256        1.655224         1.880411   \n",
       "4    1.194920  0.040302        1.633299         1.797179   \n",
       "..        ...       ...             ...              ...   \n",
       "153  0.866043  0.965117        1.633576         1.674055   \n",
       "154  1.436096  0.965117        1.655501         1.783571   \n",
       "155  1.260695  0.375441        1.677427         2.076199   \n",
       "156  1.260695  0.965117        1.699352         2.164688   \n",
       "157  1.370321  0.965117        1.721277         2.222513   \n",
       "\n",
       "     Economy (GDP per Capita)    Family  Health (Life Expectancy)   Freedom  \\\n",
       "0                    1.369621  1.320281                  1.263408  1.577438   \n",
       "1                    1.135226  1.514458                  1.289434  1.332456   \n",
       "2                    1.192861  1.361054                  0.992229  1.469659   \n",
       "3                    1.525130  1.251922                  1.035145  1.605131   \n",
       "4                    1.194876  1.221204                  1.118054  1.360416   \n",
       "..                        ...       ...                       ...       ...   \n",
       "153                  1.552987  0.800520                  0.818610  1.087740   \n",
       "154                  1.392303  2.346860                  1.263362  0.372033   \n",
       "155                  0.455245  1.901086                  0.372199  1.809238   \n",
       "156                  2.067566  2.118467                  1.649648  2.064472   \n",
       "157                  1.586334  3.134725                  1.404129  0.426621   \n",
       "\n",
       "     Trust (Government Corruption)  Generosity  Dystopia Residual  \n",
       "0                         2.309652    0.471040           0.758258  \n",
       "1                         0.016480    1.575856           1.092857  \n",
       "2                         2.842774    0.824293           0.712335  \n",
       "3                         1.852081    0.868638           0.663893  \n",
       "4                         1.555725    1.748563           0.639337  \n",
       "..                             ...         ...                ...  \n",
       "153                       3.413922    0.087228           2.588925  \n",
       "154                       0.529210    0.433117           0.843967  \n",
       "155                       0.381419    1.856891           3.208430  \n",
       "156                       0.357715    0.316950           0.481985  \n",
       "157                       0.301803    0.558153           0.963612  \n",
       "\n",
       "[158 rows x 11 columns]"
      ]
     },
     "execution_count": 45,
     "metadata": {},
     "output_type": "execute_result"
    }
   ],
   "source": [
    "z"
   ]
  },
  {
   "cell_type": "code",
   "execution_count": 46,
   "id": "c1adc846",
   "metadata": {},
   "outputs": [
    {
     "data": {
      "text/plain": [
       "Country                          1.392246\n",
       "Region                           0.710580\n",
       "Happiness Rank                   0.843987\n",
       "Happiness Score                  0.694129\n",
       "Economy (GDP per Capita)         0.910039\n",
       "Family                           0.708987\n",
       "Health (Life Expectancy)         0.062646\n",
       "Freedom                          0.866924\n",
       "Trust (Government Corruption)    1.103367\n",
       "Generosity                       0.642559\n",
       "Dystopia Residual                0.307801\n",
       "Name: 40, dtype: float64"
      ]
     },
     "execution_count": 46,
     "metadata": {},
     "output_type": "execute_result"
    }
   ],
   "source": [
    "z.iloc[40]"
   ]
  },
  {
   "cell_type": "code",
   "execution_count": 47,
   "id": "01884a8a",
   "metadata": {},
   "outputs": [],
   "source": [
    "happiness_new= happiness[(z<3).all(axis=1)]"
   ]
  },
  {
   "cell_type": "code",
   "execution_count": 48,
   "id": "840eba23",
   "metadata": {},
   "outputs": [
    {
     "name": "stdout",
     "output_type": "stream",
     "text": [
      "old_dataframe (158, 11)\n",
      "new_dataframe (152, 11)\n",
      "total_dropped_rows 6\n"
     ]
    }
   ],
   "source": [
    "print('old_dataframe',happiness.shape)\n",
    "print('new_dataframe', happiness_new.shape)\n",
    "print('total_dropped_rows', happiness.shape[0]-happiness_new.shape[0])"
   ]
  },
  {
   "cell_type": "code",
   "execution_count": 49,
   "id": "f433579c",
   "metadata": {},
   "outputs": [
    {
     "data": {
      "text/plain": [
       "5.69620253164557"
      ]
     },
     "execution_count": 49,
     "metadata": {},
     "output_type": "execute_result"
    }
   ],
   "source": [
    "loss_percent=((158-149)/158)*100\n",
    "loss_percent"
   ]
  },
  {
   "cell_type": "code",
   "execution_count": 50,
   "id": "2bda599f",
   "metadata": {},
   "outputs": [
    {
     "data": {
      "text/html": [
       "<div>\n",
       "<style scoped>\n",
       "    .dataframe tbody tr th:only-of-type {\n",
       "        vertical-align: middle;\n",
       "    }\n",
       "\n",
       "    .dataframe tbody tr th {\n",
       "        vertical-align: top;\n",
       "    }\n",
       "\n",
       "    .dataframe thead th {\n",
       "        text-align: right;\n",
       "    }\n",
       "</style>\n",
       "<table border=\"1\" class=\"dataframe\">\n",
       "  <thead>\n",
       "    <tr style=\"text-align: right;\">\n",
       "      <th></th>\n",
       "      <th>Country</th>\n",
       "      <th>Region</th>\n",
       "      <th>Happiness Rank</th>\n",
       "      <th>Happiness Score</th>\n",
       "      <th>Economy (GDP per Capita)</th>\n",
       "      <th>Family</th>\n",
       "      <th>Health (Life Expectancy)</th>\n",
       "      <th>Freedom</th>\n",
       "      <th>Trust (Government Corruption)</th>\n",
       "      <th>Generosity</th>\n",
       "      <th>Dystopia Residual</th>\n",
       "    </tr>\n",
       "  </thead>\n",
       "  <tbody>\n",
       "    <tr>\n",
       "      <th>0</th>\n",
       "      <td>135.0</td>\n",
       "      <td>9.0</td>\n",
       "      <td>1.0</td>\n",
       "      <td>7.587</td>\n",
       "      <td>1.39651</td>\n",
       "      <td>1.34951</td>\n",
       "      <td>0.94143</td>\n",
       "      <td>0.66557</td>\n",
       "      <td>0.41978</td>\n",
       "      <td>0.29678</td>\n",
       "      <td>2.51738</td>\n",
       "    </tr>\n",
       "    <tr>\n",
       "      <th>1</th>\n",
       "      <td>58.0</td>\n",
       "      <td>9.0</td>\n",
       "      <td>2.0</td>\n",
       "      <td>7.561</td>\n",
       "      <td>1.30232</td>\n",
       "      <td>1.40223</td>\n",
       "      <td>0.94784</td>\n",
       "      <td>0.62877</td>\n",
       "      <td>0.14145</td>\n",
       "      <td>0.43630</td>\n",
       "      <td>2.70201</td>\n",
       "    </tr>\n",
       "    <tr>\n",
       "      <th>2</th>\n",
       "      <td>37.0</td>\n",
       "      <td>9.0</td>\n",
       "      <td>3.0</td>\n",
       "      <td>7.527</td>\n",
       "      <td>1.32548</td>\n",
       "      <td>1.36058</td>\n",
       "      <td>0.87464</td>\n",
       "      <td>0.64938</td>\n",
       "      <td>0.48357</td>\n",
       "      <td>0.34139</td>\n",
       "      <td>2.49204</td>\n",
       "    </tr>\n",
       "    <tr>\n",
       "      <th>3</th>\n",
       "      <td>105.0</td>\n",
       "      <td>9.0</td>\n",
       "      <td>4.0</td>\n",
       "      <td>7.522</td>\n",
       "      <td>1.45900</td>\n",
       "      <td>1.33095</td>\n",
       "      <td>0.88521</td>\n",
       "      <td>0.66973</td>\n",
       "      <td>0.36503</td>\n",
       "      <td>0.34699</td>\n",
       "      <td>2.46531</td>\n",
       "    </tr>\n",
       "    <tr>\n",
       "      <th>4</th>\n",
       "      <td>24.0</td>\n",
       "      <td>5.0</td>\n",
       "      <td>5.0</td>\n",
       "      <td>7.427</td>\n",
       "      <td>1.32629</td>\n",
       "      <td>1.32261</td>\n",
       "      <td>0.90563</td>\n",
       "      <td>0.63297</td>\n",
       "      <td>0.32957</td>\n",
       "      <td>0.45811</td>\n",
       "      <td>2.45176</td>\n",
       "    </tr>\n",
       "    <tr>\n",
       "      <th>...</th>\n",
       "      <td>...</td>\n",
       "      <td>...</td>\n",
       "      <td>...</td>\n",
       "      <td>...</td>\n",
       "      <td>...</td>\n",
       "      <td>...</td>\n",
       "      <td>...</td>\n",
       "      <td>...</td>\n",
       "      <td>...</td>\n",
       "      <td>...</td>\n",
       "      <td>...</td>\n",
       "    </tr>\n",
       "    <tr>\n",
       "      <th>150</th>\n",
       "      <td>66.0</td>\n",
       "      <td>8.0</td>\n",
       "      <td>151.0</td>\n",
       "      <td>3.655</td>\n",
       "      <td>0.46534</td>\n",
       "      <td>0.77115</td>\n",
       "      <td>0.15185</td>\n",
       "      <td>0.46866</td>\n",
       "      <td>0.17922</td>\n",
       "      <td>0.20165</td>\n",
       "      <td>1.41723</td>\n",
       "    </tr>\n",
       "    <tr>\n",
       "      <th>151</th>\n",
       "      <td>20.0</td>\n",
       "      <td>8.0</td>\n",
       "      <td>152.0</td>\n",
       "      <td>3.587</td>\n",
       "      <td>0.25812</td>\n",
       "      <td>0.85188</td>\n",
       "      <td>0.27125</td>\n",
       "      <td>0.39493</td>\n",
       "      <td>0.12832</td>\n",
       "      <td>0.21747</td>\n",
       "      <td>1.46494</td>\n",
       "    </tr>\n",
       "    <tr>\n",
       "      <th>152</th>\n",
       "      <td>0.0</td>\n",
       "      <td>7.0</td>\n",
       "      <td>153.0</td>\n",
       "      <td>3.575</td>\n",
       "      <td>0.31982</td>\n",
       "      <td>0.30285</td>\n",
       "      <td>0.30335</td>\n",
       "      <td>0.23414</td>\n",
       "      <td>0.09719</td>\n",
       "      <td>0.36510</td>\n",
       "      <td>1.95210</td>\n",
       "    </tr>\n",
       "    <tr>\n",
       "      <th>154</th>\n",
       "      <td>13.0</td>\n",
       "      <td>8.0</td>\n",
       "      <td>155.0</td>\n",
       "      <td>3.340</td>\n",
       "      <td>0.28665</td>\n",
       "      <td>0.35386</td>\n",
       "      <td>0.31910</td>\n",
       "      <td>0.48450</td>\n",
       "      <td>0.08010</td>\n",
       "      <td>0.18260</td>\n",
       "      <td>1.63328</td>\n",
       "    </tr>\n",
       "    <tr>\n",
       "      <th>156</th>\n",
       "      <td>21.0</td>\n",
       "      <td>8.0</td>\n",
       "      <td>157.0</td>\n",
       "      <td>2.905</td>\n",
       "      <td>0.01530</td>\n",
       "      <td>0.41587</td>\n",
       "      <td>0.22396</td>\n",
       "      <td>0.11850</td>\n",
       "      <td>0.10062</td>\n",
       "      <td>0.19727</td>\n",
       "      <td>1.83302</td>\n",
       "    </tr>\n",
       "  </tbody>\n",
       "</table>\n",
       "<p>152 rows × 11 columns</p>\n",
       "</div>"
      ],
      "text/plain": [
       "     Country  Region  Happiness Rank  Happiness Score  \\\n",
       "0      135.0     9.0             1.0            7.587   \n",
       "1       58.0     9.0             2.0            7.561   \n",
       "2       37.0     9.0             3.0            7.527   \n",
       "3      105.0     9.0             4.0            7.522   \n",
       "4       24.0     5.0             5.0            7.427   \n",
       "..       ...     ...             ...              ...   \n",
       "150     66.0     8.0           151.0            3.655   \n",
       "151     20.0     8.0           152.0            3.587   \n",
       "152      0.0     7.0           153.0            3.575   \n",
       "154     13.0     8.0           155.0            3.340   \n",
       "156     21.0     8.0           157.0            2.905   \n",
       "\n",
       "     Economy (GDP per Capita)   Family  Health (Life Expectancy)  Freedom  \\\n",
       "0                     1.39651  1.34951                   0.94143  0.66557   \n",
       "1                     1.30232  1.40223                   0.94784  0.62877   \n",
       "2                     1.32548  1.36058                   0.87464  0.64938   \n",
       "3                     1.45900  1.33095                   0.88521  0.66973   \n",
       "4                     1.32629  1.32261                   0.90563  0.63297   \n",
       "..                        ...      ...                       ...      ...   \n",
       "150                   0.46534  0.77115                   0.15185  0.46866   \n",
       "151                   0.25812  0.85188                   0.27125  0.39493   \n",
       "152                   0.31982  0.30285                   0.30335  0.23414   \n",
       "154                   0.28665  0.35386                   0.31910  0.48450   \n",
       "156                   0.01530  0.41587                   0.22396  0.11850   \n",
       "\n",
       "     Trust (Government Corruption)  Generosity  Dystopia Residual  \n",
       "0                          0.41978     0.29678            2.51738  \n",
       "1                          0.14145     0.43630            2.70201  \n",
       "2                          0.48357     0.34139            2.49204  \n",
       "3                          0.36503     0.34699            2.46531  \n",
       "4                          0.32957     0.45811            2.45176  \n",
       "..                             ...         ...                ...  \n",
       "150                        0.17922     0.20165            1.41723  \n",
       "151                        0.12832     0.21747            1.46494  \n",
       "152                        0.09719     0.36510            1.95210  \n",
       "154                        0.08010     0.18260            1.63328  \n",
       "156                        0.10062     0.19727            1.83302  \n",
       "\n",
       "[152 rows x 11 columns]"
      ]
     },
     "execution_count": 50,
     "metadata": {},
     "output_type": "execute_result"
    }
   ],
   "source": [
    "happiness_new"
   ]
  },
  {
   "cell_type": "code",
   "execution_count": 51,
   "id": "d21fd1b9",
   "metadata": {},
   "outputs": [],
   "source": [
    "x=happiness_new.iloc[:,:-1]"
   ]
  },
  {
   "cell_type": "code",
   "execution_count": 52,
   "id": "0c60508a",
   "metadata": {},
   "outputs": [],
   "source": [
    "y=happiness_new.iloc[:,-1]"
   ]
  },
  {
   "cell_type": "markdown",
   "id": "6f73f7c9",
   "metadata": {},
   "source": [
    "# Removing all skewness"
   ]
  },
  {
   "cell_type": "code",
   "execution_count": 53,
   "id": "738b17ca",
   "metadata": {},
   "outputs": [
    {
     "data": {
      "text/plain": [
       "array([[ 1.1887051 ,  1.23986819, -2.06118488, ...,  1.76230969,\n",
       "         1.8220699 ,  0.65595135],\n",
       "       [-0.31421047,  1.23986819, -2.00536253, ...,  1.44688503,\n",
       "         0.35523024,  1.57166845],\n",
       "       [-0.81704158,  1.23986819, -1.95460445, ...,  1.6221701 ,\n",
       "         1.95457489,  0.97742359],\n",
       "       ...,\n",
       "       [-2.10859031,  0.67236186,  1.5407485 , ..., -1.27152318,\n",
       "        -0.16357633,  1.13659521],\n",
       "       [-1.51998719,  0.96090613,  1.57594638, ...,  0.3154582 ,\n",
       "        -0.40394411, -0.32359556],\n",
       "       [-1.26108344,  0.96090613,  1.61101853, ..., -1.85450203,\n",
       "        -0.11827784, -0.18319784]])"
      ]
     },
     "execution_count": 53,
     "metadata": {},
     "output_type": "execute_result"
    }
   ],
   "source": [
    "x=power_transform(x,method='yeo-johnson')\n",
    "x"
   ]
  },
  {
   "cell_type": "markdown",
   "id": "b73a81b4",
   "metadata": {},
   "source": [
    "# Scaling using Standard Scaler"
   ]
  },
  {
   "cell_type": "code",
   "execution_count": 54,
   "id": "aa89a19a",
   "metadata": {},
   "outputs": [
    {
     "data": {
      "text/plain": [
       "array([[ 1.1887051 ,  1.23986819, -2.06118488, ...,  1.76230969,\n",
       "         1.8220699 ,  0.65595135],\n",
       "       [-0.31421047,  1.23986819, -2.00536253, ...,  1.44688503,\n",
       "         0.35523024,  1.57166845],\n",
       "       [-0.81704158,  1.23986819, -1.95460445, ...,  1.6221701 ,\n",
       "         1.95457489,  0.97742359],\n",
       "       ...,\n",
       "       [-2.10859031,  0.67236186,  1.5407485 , ..., -1.27152318,\n",
       "        -0.16357633,  1.13659521],\n",
       "       [-1.51998719,  0.96090613,  1.57594638, ...,  0.3154582 ,\n",
       "        -0.40394411, -0.32359556],\n",
       "       [-1.26108344,  0.96090613,  1.61101853, ..., -1.85450203,\n",
       "        -0.11827784, -0.18319784]])"
      ]
     },
     "execution_count": 54,
     "metadata": {},
     "output_type": "execute_result"
    }
   ],
   "source": [
    "scaler=StandardScaler()\n",
    "x=scaler.fit_transform(x)\n",
    "x"
   ]
  },
  {
   "cell_type": "markdown",
   "id": "cc0d4d1a",
   "metadata": {},
   "source": [
    "# Creating Model for prediction"
   ]
  },
  {
   "cell_type": "code",
   "execution_count": 55,
   "id": "63a8cd9c",
   "metadata": {},
   "outputs": [],
   "source": [
    "from sklearn.model_selection import train_test_split\n",
    "from sklearn.linear_model import LinearRegression\n",
    "from sklearn.metrics import mean_squared_error,r2_score\n",
    "from sklearn.preprocessing import MinMaxScaler"
   ]
  },
  {
   "cell_type": "markdown",
   "id": "e545d8c7",
   "metadata": {},
   "source": [
    "# LinearcRegression Model"
   ]
  },
  {
   "cell_type": "code",
   "execution_count": 56,
   "id": "ff30302c",
   "metadata": {},
   "outputs": [],
   "source": [
    "lr=LinearRegression()\n",
    "ms=MinMaxScaler()"
   ]
  },
  {
   "cell_type": "markdown",
   "id": "ceae50d6",
   "metadata": {},
   "source": [
    "# Splitting the Dataframe (Create & Train the Model)"
   ]
  },
  {
   "cell_type": "code",
   "execution_count": 57,
   "id": "b6de43b1",
   "metadata": {},
   "outputs": [
    {
     "name": "stdout",
     "output_type": "stream",
     "text": [
      "Linear regression model Result are:-\n",
      "At random state {0} : the training accuracy is :  {0.977390949662438}\n",
      "At random state {0} : the testing accuracy is :  {0.9655168097002366} \n",
      "\n",
      "Linear regression model Result are:-\n",
      "At random state {1} : the training accuracy is :  {0.9791713703745404}\n",
      "At random state {1} : the testing accuracy is :  {0.9569949165273788} \n",
      "\n",
      "Linear regression model Result are:-\n",
      "At random state {2} : the training accuracy is :  {0.9760944604906894}\n",
      "At random state {2} : the testing accuracy is :  {0.9728825586307266} \n",
      "\n",
      "Linear regression model Result are:-\n",
      "At random state {3} : the training accuracy is :  {0.9788754673157815}\n",
      "At random state {3} : the testing accuracy is :  {0.9651776025405153} \n",
      "\n",
      "Linear regression model Result are:-\n",
      "At random state {4} : the training accuracy is :  {0.9794227015724756}\n",
      "At random state {4} : the testing accuracy is :  {0.9468718394022599} \n",
      "\n",
      "Linear regression model Result are:-\n",
      "At random state {5} : the training accuracy is :  {0.9755991662377427}\n",
      "At random state {5} : the testing accuracy is :  {0.9732033993432745} \n",
      "\n",
      "Linear regression model Result are:-\n",
      "At random state {6} : the training accuracy is :  {0.9789713974799483}\n",
      "At random state {6} : the testing accuracy is :  {0.9354462324605488} \n",
      "\n",
      "Linear regression model Result are:-\n",
      "At random state {7} : the training accuracy is :  {0.9749492239882579}\n",
      "At random state {7} : the testing accuracy is :  {0.9771872350555662} \n",
      "\n",
      "Linear regression model Result are:-\n",
      "At random state {8} : the training accuracy is :  {0.9766735573782891}\n",
      "At random state {8} : the testing accuracy is :  {0.9703932001574817} \n",
      "\n",
      "Linear regression model Result are:-\n",
      "At random state {9} : the training accuracy is :  {0.9763680641207462}\n",
      "At random state {9} : the testing accuracy is :  {0.9717183890072133} \n",
      "\n",
      "Linear regression model Result are:-\n",
      "At random state {10} : the training accuracy is :  {0.9753252478826387}\n",
      "At random state {10} : the testing accuracy is :  {0.9770855353821303} \n",
      "\n",
      "Linear regression model Result are:-\n",
      "At random state {11} : the training accuracy is :  {0.9761271050952792}\n",
      "At random state {11} : the testing accuracy is :  {0.9747008438926396} \n",
      "\n",
      "Linear regression model Result are:-\n",
      "At random state {12} : the training accuracy is :  {0.9761577688364734}\n",
      "At random state {12} : the testing accuracy is :  {0.9730638591604277} \n",
      "\n",
      "Linear regression model Result are:-\n",
      "At random state {13} : the training accuracy is :  {0.9769009839311744}\n",
      "At random state {13} : the testing accuracy is :  {0.9673848981902152} \n",
      "\n",
      "Linear regression model Result are:-\n",
      "At random state {14} : the training accuracy is :  {0.9763192413030846}\n",
      "At random state {14} : the testing accuracy is :  {0.9719665072246144} \n",
      "\n",
      "Linear regression model Result are:-\n",
      "At random state {15} : the training accuracy is :  {0.9772810635705895}\n",
      "At random state {15} : the testing accuracy is :  {0.9580578029343827} \n",
      "\n",
      "Linear regression model Result are:-\n",
      "At random state {16} : the training accuracy is :  {0.9727220424831692}\n",
      "At random state {16} : the testing accuracy is :  {0.9826795253826885} \n",
      "\n",
      "Linear regression model Result are:-\n",
      "At random state {17} : the training accuracy is :  {0.9772947022795014}\n",
      "At random state {17} : the testing accuracy is :  {0.9665488254692254} \n",
      "\n",
      "Linear regression model Result are:-\n",
      "At random state {18} : the training accuracy is :  {0.9768926363091375}\n",
      "At random state {18} : the testing accuracy is :  {0.9693620915457651} \n",
      "\n",
      "Linear regression model Result are:-\n",
      "At random state {19} : the training accuracy is :  {0.9806493369981073}\n",
      "At random state {19} : the testing accuracy is :  {0.9428870825792299} \n",
      "\n",
      "Linear regression model Result are:-\n",
      "At random state {20} : the training accuracy is :  {0.9756851405632682}\n",
      "At random state {20} : the testing accuracy is :  {0.9763099482045551} \n",
      "\n",
      "Linear regression model Result are:-\n",
      "At random state {21} : the training accuracy is :  {0.9758808009117249}\n",
      "At random state {21} : the testing accuracy is :  {0.9720020128319422} \n",
      "\n",
      "Linear regression model Result are:-\n",
      "At random state {22} : the training accuracy is :  {0.9765974549601442}\n",
      "At random state {22} : the testing accuracy is :  {0.9711197276957672} \n",
      "\n",
      "Linear regression model Result are:-\n",
      "At random state {23} : the training accuracy is :  {0.9766321029431304}\n",
      "At random state {23} : the testing accuracy is :  {0.9691583301519915} \n",
      "\n",
      "Linear regression model Result are:-\n",
      "At random state {24} : the training accuracy is :  {0.9777530438479605}\n",
      "At random state {24} : the testing accuracy is :  {0.9599013389475163} \n",
      "\n",
      "Linear regression model Result are:-\n",
      "At random state {25} : the training accuracy is :  {0.9742806908692008}\n",
      "At random state {25} : the testing accuracy is :  {0.9825012015186204} \n",
      "\n",
      "Linear regression model Result are:-\n",
      "At random state {26} : the training accuracy is :  {0.9768379090585915}\n",
      "At random state {26} : the testing accuracy is :  {0.9688206772052498} \n",
      "\n",
      "Linear regression model Result are:-\n",
      "At random state {27} : the training accuracy is :  {0.9780946201733717}\n",
      "At random state {27} : the testing accuracy is :  {0.965990053026611} \n",
      "\n",
      "Linear regression model Result are:-\n",
      "At random state {28} : the training accuracy is :  {0.9803337106226466}\n",
      "At random state {28} : the testing accuracy is :  {0.9501873643172442} \n",
      "\n",
      "Linear regression model Result are:-\n",
      "At random state {29} : the training accuracy is :  {0.9763369103331218}\n",
      "At random state {29} : the testing accuracy is :  {0.9694435918452037} \n",
      "\n",
      "Linear regression model Result are:-\n",
      "At random state {30} : the training accuracy is :  {0.9795711318918418}\n",
      "At random state {30} : the testing accuracy is :  {0.9606302570545561} \n",
      "\n",
      "Linear regression model Result are:-\n",
      "At random state {31} : the training accuracy is :  {0.9748732949638383}\n",
      "At random state {31} : the testing accuracy is :  {0.9761001677776513} \n",
      "\n",
      "Linear regression model Result are:-\n",
      "At random state {32} : the training accuracy is :  {0.9810961350881106}\n",
      "At random state {32} : the testing accuracy is :  {0.9566219563585467} \n",
      "\n",
      "Linear regression model Result are:-\n",
      "At random state {33} : the training accuracy is :  {0.9793185885767164}\n",
      "At random state {33} : the testing accuracy is :  {0.9517377278019954} \n",
      "\n",
      "Linear regression model Result are:-\n",
      "At random state {34} : the training accuracy is :  {0.9773268376838847}\n",
      "At random state {34} : the testing accuracy is :  {0.9548641874587764} \n",
      "\n",
      "Linear regression model Result are:-\n",
      "At random state {35} : the training accuracy is :  {0.9757981810421041}\n",
      "At random state {35} : the testing accuracy is :  {0.9749598110659643} \n",
      "\n",
      "Linear regression model Result are:-\n",
      "At random state {36} : the training accuracy is :  {0.9800796192336813}\n",
      "At random state {36} : the testing accuracy is :  {0.9580459749563858} \n",
      "\n",
      "Linear regression model Result are:-\n",
      "At random state {37} : the training accuracy is :  {0.9764100159696604}\n",
      "At random state {37} : the testing accuracy is :  {0.9708517700252297} \n",
      "\n",
      "Linear regression model Result are:-\n",
      "At random state {38} : the training accuracy is :  {0.9766211151733982}\n",
      "At random state {38} : the testing accuracy is :  {0.9722501908311176} \n",
      "\n",
      "Linear regression model Result are:-\n",
      "At random state {39} : the training accuracy is :  {0.9728519169107172}\n",
      "At random state {39} : the testing accuracy is :  {0.9862982163005183} \n",
      "\n",
      "Linear regression model Result are:-\n",
      "At random state {40} : the training accuracy is :  {0.9698501526881973}\n",
      "At random state {40} : the testing accuracy is :  {0.9880626474490832} \n",
      "\n",
      "Linear regression model Result are:-\n",
      "At random state {41} : the training accuracy is :  {0.9782203262921496}\n",
      "At random state {41} : the testing accuracy is :  {0.9608427788387596} \n",
      "\n",
      "Linear regression model Result are:-\n",
      "At random state {42} : the training accuracy is :  {0.9765532526093357}\n",
      "At random state {42} : the testing accuracy is :  {0.9708716621927211} \n",
      "\n",
      "Linear regression model Result are:-\n",
      "At random state {43} : the training accuracy is :  {0.9792810368692685}\n",
      "At random state {43} : the testing accuracy is :  {0.9584079532382354} \n",
      "\n",
      "Linear regression model Result are:-\n",
      "At random state {44} : the training accuracy is :  {0.9757291825233408}\n",
      "At random state {44} : the testing accuracy is :  {0.9766700994931288} \n",
      "\n",
      "Linear regression model Result are:-\n",
      "At random state {45} : the training accuracy is :  {0.9775499918202222}\n",
      "At random state {45} : the testing accuracy is :  {0.9643565491593769} \n",
      "\n",
      "Linear regression model Result are:-\n",
      "At random state {46} : the training accuracy is :  {0.9779386655341052}\n",
      "At random state {46} : the testing accuracy is :  {0.9664691759928289} \n",
      "\n",
      "Linear regression model Result are:-\n",
      "At random state {47} : the training accuracy is :  {0.9778855264122776}\n",
      "At random state {47} : the testing accuracy is :  {0.9666793656767716} \n",
      "\n",
      "Linear regression model Result are:-\n",
      "At random state {48} : the training accuracy is :  {0.9758488702206635}\n",
      "At random state {48} : the testing accuracy is :  {0.9743189823451194} \n",
      "\n",
      "Linear regression model Result are:-\n",
      "At random state {49} : the training accuracy is :  {0.9740449724207689}\n",
      "At random state {49} : the testing accuracy is :  {0.9778391519496676} \n",
      "\n",
      "Linear regression model Result are:-\n",
      "At random state {50} : the training accuracy is :  {0.9822723480651236}\n",
      "At random state {50} : the testing accuracy is :  {0.9061692464671861} \n",
      "\n",
      "Linear regression model Result are:-\n",
      "At random state {51} : the training accuracy is :  {0.9743661629392496}\n",
      "At random state {51} : the testing accuracy is :  {0.9780449912466496} \n",
      "\n",
      "Linear regression model Result are:-\n",
      "At random state {52} : the training accuracy is :  {0.9769482670538348}\n",
      "At random state {52} : the testing accuracy is :  {0.9669506886750571} \n",
      "\n",
      "Linear regression model Result are:-\n",
      "At random state {53} : the training accuracy is :  {0.9745358425712275}\n",
      "At random state {53} : the testing accuracy is :  {0.9793470846120755} \n",
      "\n",
      "Linear regression model Result are:-\n",
      "At random state {54} : the training accuracy is :  {0.9764587437477615}\n",
      "At random state {54} : the testing accuracy is :  {0.9717437603079354} \n",
      "\n",
      "Linear regression model Result are:-\n",
      "At random state {55} : the training accuracy is :  {0.975575191833871}\n",
      "At random state {55} : the testing accuracy is :  {0.9737107829004401} \n",
      "\n",
      "Linear regression model Result are:-\n",
      "At random state {56} : the training accuracy is :  {0.9745852703515007}\n",
      "At random state {56} : the testing accuracy is :  {0.9782016134889565} \n",
      "\n",
      "Linear regression model Result are:-\n",
      "At random state {57} : the training accuracy is :  {0.9794951609874037}\n",
      "At random state {57} : the testing accuracy is :  {0.946064683895307} \n",
      "\n",
      "Linear regression model Result are:-\n",
      "At random state {58} : the training accuracy is :  {0.9746845013316671}\n",
      "At random state {58} : the testing accuracy is :  {0.9792343315977741} \n",
      "\n",
      "Linear regression model Result are:-\n",
      "At random state {59} : the training accuracy is :  {0.9768027531724389}\n",
      "At random state {59} : the testing accuracy is :  {0.9681929781861285} \n",
      "\n",
      "Linear regression model Result are:-\n",
      "At random state {60} : the training accuracy is :  {0.976198595370732}\n",
      "At random state {60} : the testing accuracy is :  {0.9695802514863133} \n",
      "\n",
      "Linear regression model Result are:-\n",
      "At random state {61} : the training accuracy is :  {0.9786400538656146}\n",
      "At random state {61} : the testing accuracy is :  {0.9602041816650547} \n",
      "\n",
      "Linear regression model Result are:-\n",
      "At random state {62} : the training accuracy is :  {0.9797458608095022}\n",
      "At random state {62} : the testing accuracy is :  {0.9503613361975195} \n",
      "\n",
      "Linear regression model Result are:-\n",
      "At random state {63} : the training accuracy is :  {0.9779226221238618}\n",
      "At random state {63} : the testing accuracy is :  {0.969650315827253} \n",
      "\n",
      "Linear regression model Result are:-\n",
      "At random state {64} : the training accuracy is :  {0.9752370305136241}\n",
      "At random state {64} : the testing accuracy is :  {0.9765786545885747} \n",
      "\n",
      "Linear regression model Result are:-\n",
      "At random state {65} : the training accuracy is :  {0.9822411697393866}\n",
      "At random state {65} : the testing accuracy is :  {0.9327107096377025} \n",
      "\n",
      "Linear regression model Result are:-\n",
      "At random state {66} : the training accuracy is :  {0.9796942428939969}\n",
      "At random state {66} : the testing accuracy is :  {0.9559027905744532} \n",
      "\n",
      "Linear regression model Result are:-\n",
      "At random state {67} : the training accuracy is :  {0.9788643196388426}\n",
      "At random state {67} : the testing accuracy is :  {0.9575112490778976} \n",
      "\n",
      "Linear regression model Result are:-\n",
      "At random state {68} : the training accuracy is :  {0.9767046596146055}\n",
      "At random state {68} : the testing accuracy is :  {0.9720907758622107} \n",
      "\n",
      "Linear regression model Result are:-\n",
      "At random state {69} : the training accuracy is :  {0.9782784056913001}\n",
      "At random state {69} : the testing accuracy is :  {0.9611706690703586} \n",
      "\n",
      "Linear regression model Result are:-\n",
      "At random state {70} : the training accuracy is :  {0.9783649626537245}\n",
      "At random state {70} : the testing accuracy is :  {0.9578073862203232} \n",
      "\n",
      "Linear regression model Result are:-\n",
      "At random state {71} : the training accuracy is :  {0.9770436788931429}\n",
      "At random state {71} : the testing accuracy is :  {0.9686918750258194} \n",
      "\n",
      "Linear regression model Result are:-\n",
      "At random state {72} : the training accuracy is :  {0.9814790971277029}\n",
      "At random state {72} : the testing accuracy is :  {0.9387692165376366} \n",
      "\n",
      "Linear regression model Result are:-\n",
      "At random state {73} : the training accuracy is :  {0.9795384912270377}\n",
      "At random state {73} : the testing accuracy is :  {0.9596261223805422} \n",
      "\n",
      "Linear regression model Result are:-\n",
      "At random state {74} : the training accuracy is :  {0.9790208308987827}\n",
      "At random state {74} : the testing accuracy is :  {0.9563802932064085} \n",
      "\n",
      "Linear regression model Result are:-\n",
      "At random state {75} : the training accuracy is :  {0.9769169048925417}\n",
      "At random state {75} : the testing accuracy is :  {0.9685346392719552} \n",
      "\n",
      "Linear regression model Result are:-\n",
      "At random state {76} : the training accuracy is :  {0.9773411455000562}\n",
      "At random state {76} : the testing accuracy is :  {0.966557720688611} \n",
      "\n",
      "Linear regression model Result are:-\n",
      "At random state {77} : the training accuracy is :  {0.9765162495636116}\n",
      "At random state {77} : the testing accuracy is :  {0.9696959518145303} \n",
      "\n",
      "Linear regression model Result are:-\n",
      "At random state {78} : the training accuracy is :  {0.9774736659286731}\n",
      "At random state {78} : the testing accuracy is :  {0.9676171397986942} \n",
      "\n",
      "Linear regression model Result are:-\n",
      "At random state {79} : the training accuracy is :  {0.9732154081490939}\n",
      "At random state {79} : the testing accuracy is :  {0.9818297936666384} \n",
      "\n",
      "Linear regression model Result are:-\n",
      "At random state {80} : the training accuracy is :  {0.9731633761016498}\n",
      "At random state {80} : the testing accuracy is :  {0.9815939753866639} \n",
      "\n",
      "Linear regression model Result are:-\n",
      "At random state {81} : the training accuracy is :  {0.9792062799480729}\n",
      "At random state {81} : the testing accuracy is :  {0.9553580037579812} \n",
      "\n",
      "Linear regression model Result are:-\n",
      "At random state {82} : the training accuracy is :  {0.9773065679375066}\n",
      "At random state {82} : the testing accuracy is :  {0.9656216288271471} \n",
      "\n",
      "Linear regression model Result are:-\n",
      "At random state {83} : the training accuracy is :  {0.9749810101237558}\n",
      "At random state {83} : the testing accuracy is :  {0.9766153586665761} \n",
      "\n",
      "Linear regression model Result are:-\n",
      "At random state {84} : the training accuracy is :  {0.975721579522688}\n",
      "At random state {84} : the testing accuracy is :  {0.9745380720684221} \n",
      "\n",
      "Linear regression model Result are:-\n",
      "At random state {85} : the training accuracy is :  {0.9765586305162787}\n",
      "At random state {85} : the testing accuracy is :  {0.9690938346914021} \n",
      "\n",
      "Linear regression model Result are:-\n",
      "At random state {86} : the training accuracy is :  {0.9838503979693373}\n",
      "At random state {86} : the testing accuracy is :  {0.8951259309532896} \n",
      "\n",
      "Linear regression model Result are:-\n",
      "At random state {87} : the training accuracy is :  {0.9746885387537667}\n",
      "At random state {87} : the testing accuracy is :  {0.9801578201197371} \n",
      "\n",
      "Linear regression model Result are:-\n",
      "At random state {88} : the training accuracy is :  {0.9805510227034137}\n",
      "At random state {88} : the testing accuracy is :  {0.9411117419811204} \n",
      "\n",
      "Linear regression model Result are:-\n",
      "At random state {89} : the training accuracy is :  {0.9781328205767543}\n",
      "At random state {89} : the testing accuracy is :  {0.9585113679097818} \n",
      "\n",
      "Linear regression model Result are:-\n",
      "At random state {90} : the training accuracy is :  {0.9724369627170519}\n",
      "At random state {90} : the testing accuracy is :  {0.9869500519693786} \n",
      "\n",
      "Linear regression model Result are:-\n",
      "At random state {91} : the training accuracy is :  {0.9757282370619096}\n",
      "At random state {91} : the testing accuracy is :  {0.9733624612933411} \n",
      "\n",
      "Linear regression model Result are:-\n",
      "At random state {92} : the training accuracy is :  {0.9719418662406906}\n",
      "At random state {92} : the testing accuracy is :  {0.9853935771022017} \n",
      "\n",
      "Linear regression model Result are:-\n",
      "At random state {93} : the training accuracy is :  {0.9788884176578013}\n",
      "At random state {93} : the testing accuracy is :  {0.9602370535858137} \n",
      "\n",
      "Linear regression model Result are:-\n",
      "At random state {94} : the training accuracy is :  {0.97446935419292}\n",
      "At random state {94} : the testing accuracy is :  {0.9813907030974486} \n",
      "\n",
      "Linear regression model Result are:-\n",
      "At random state {95} : the training accuracy is :  {0.9757169157739396}\n",
      "At random state {95} : the testing accuracy is :  {0.9735629718560297} \n",
      "\n",
      "Linear regression model Result are:-\n",
      "At random state {96} : the training accuracy is :  {0.9758625561415186}\n",
      "At random state {96} : the testing accuracy is :  {0.9741380954399674} \n",
      "\n",
      "Linear regression model Result are:-\n",
      "At random state {97} : the training accuracy is :  {0.9684995511579152}\n",
      "At random state {97} : the testing accuracy is :  {0.9917286892604258} \n",
      "\n",
      "Linear regression model Result are:-\n",
      "At random state {98} : the training accuracy is :  {0.9767287452701102}\n",
      "At random state {98} : the testing accuracy is :  {0.9714716145381435} \n",
      "\n",
      "Linear regression model Result are:-\n",
      "At random state {99} : the training accuracy is :  {0.9796679538031232}\n",
      "At random state {99} : the testing accuracy is :  {0.9361035780822389} \n",
      "\n"
     ]
    }
   ],
   "source": [
    "for i in range(0,100):\n",
    "    x_train,x_test,y_train,y_test=train_test_split(x,y, random_state=i, test_size=0.20)\n",
    "    lr.fit(x_train,y_train)\n",
    "    pred_train=lr.predict(x_train)\n",
    "    pred_test=lr.predict(x_test)\n",
    "    print('Linear regression model Result are:-' )\n",
    "    print('At random state' , {i} , ':' , 'the training accuracy is : ',{r2_score(y_train,pred_train)})\n",
    "    print('At random state' , {i} , ':' , 'the testing accuracy is : ',{r2_score(y_test,pred_test)},'\\n')"
   ]
  },
  {
   "cell_type": "code",
   "execution_count": 58,
   "id": "66b71a6e",
   "metadata": {},
   "outputs": [],
   "source": [
    "x_train,x_test,y_train,y_test=train_test_split(x,y, random_state=5, test_size=0.20)"
   ]
  },
  {
   "cell_type": "code",
   "execution_count": 59,
   "id": "8709a828",
   "metadata": {},
   "outputs": [
    {
     "data": {
      "text/plain": [
       "LinearRegression()"
      ]
     },
     "execution_count": 59,
     "metadata": {},
     "output_type": "execute_result"
    }
   ],
   "source": [
    "lr.fit(x_train,y_train)"
   ]
  },
  {
   "cell_type": "code",
   "execution_count": 60,
   "id": "bacfde19",
   "metadata": {},
   "outputs": [],
   "source": [
    "pred_test=lr.predict(x_test)"
   ]
  },
  {
   "cell_type": "code",
   "execution_count": 61,
   "id": "6d7a2c9f",
   "metadata": {},
   "outputs": [
    {
     "name": "stdout",
     "output_type": "stream",
     "text": [
      "{0.9732033993432745}\n"
     ]
    }
   ],
   "source": [
    "print({r2_score(y_test,pred_test)})"
   ]
  },
  {
   "cell_type": "code",
   "execution_count": 62,
   "id": "9f116672",
   "metadata": {},
   "outputs": [
    {
     "name": "stdout",
     "output_type": "stream",
     "text": [
      "Result  from Linear regression model\n",
      "R2 score is  0.973069763399842\n",
      "mean_squared_error 0.00606573609805912\n"
     ]
    }
   ],
   "source": [
    "print('Result  from Linear regression model')\n",
    "print('R2 score is ',r2_score(pred_test,y_test))\n",
    "print('mean_squared_error', mean_squared_error(pred_test,y_test))"
   ]
  },
  {
   "cell_type": "code",
   "execution_count": 63,
   "id": "cfe1b9f6",
   "metadata": {},
   "outputs": [
    {
     "data": {
      "text/plain": [
       "(152, 10)"
      ]
     },
     "execution_count": 63,
     "metadata": {},
     "output_type": "execute_result"
    }
   ],
   "source": [
    "x.shape"
   ]
  },
  {
   "cell_type": "code",
   "execution_count": 64,
   "id": "7604e898",
   "metadata": {},
   "outputs": [
    {
     "data": {
      "text/plain": [
       "(152,)"
      ]
     },
     "execution_count": 64,
     "metadata": {},
     "output_type": "execute_result"
    }
   ],
   "source": [
    "y.shape"
   ]
  },
  {
   "cell_type": "markdown",
   "id": "dd763f40",
   "metadata": {},
   "source": [
    "# Cross Validation score for Linear Regression"
   ]
  },
  {
   "cell_type": "code",
   "execution_count": 65,
   "id": "3d212940",
   "metadata": {},
   "outputs": [],
   "source": [
    "train_accuracy=r2_score(y_train,pred_train)\n",
    "test_accuracy=r2_score(y_test,pred_test)"
   ]
  },
  {
   "cell_type": "code",
   "execution_count": 66,
   "id": "0fb0e1a6",
   "metadata": {},
   "outputs": [],
   "source": [
    "from sklearn.model_selection import cross_val_score"
   ]
  },
  {
   "cell_type": "code",
   "execution_count": 67,
   "id": "4f2a355c",
   "metadata": {},
   "outputs": [
    {
     "name": "stdout",
     "output_type": "stream",
     "text": [
      "At cross fold  {2} the cv score is  {0.46699530517251886} \n",
      " and accuracy score for training is  {-1.0184954365968006} \n",
      " and accuracy score for testing is {0.9732033993432745} \n",
      "\n",
      "At cross fold  {3} the cv score is  {0.8262916914498443} \n",
      " and accuracy score for training is  {-1.0184954365968006} \n",
      " and accuracy score for testing is {0.9732033993432745} \n",
      "\n",
      "At cross fold  {4} the cv score is  {0.8728421920737383} \n",
      " and accuracy score for training is  {-1.0184954365968006} \n",
      " and accuracy score for testing is {0.9732033993432745} \n",
      "\n",
      "At cross fold  {5} the cv score is  {0.8717952164507704} \n",
      " and accuracy score for training is  {-1.0184954365968006} \n",
      " and accuracy score for testing is {0.9732033993432745} \n",
      "\n",
      "At cross fold  {6} the cv score is  {0.9025494915965756} \n",
      " and accuracy score for training is  {-1.0184954365968006} \n",
      " and accuracy score for testing is {0.9732033993432745} \n",
      "\n",
      "At cross fold  {7} the cv score is  {0.9064395660637109} \n",
      " and accuracy score for training is  {-1.0184954365968006} \n",
      " and accuracy score for testing is {0.9732033993432745} \n",
      "\n",
      "At cross fold  {8} the cv score is  {0.9095379010778768} \n",
      " and accuracy score for training is  {-1.0184954365968006} \n",
      " and accuracy score for testing is {0.9732033993432745} \n",
      "\n",
      "At cross fold  {9} the cv score is  {0.9336987478849379} \n",
      " and accuracy score for training is  {-1.0184954365968006} \n",
      " and accuracy score for testing is {0.9732033993432745} \n",
      "\n"
     ]
    }
   ],
   "source": [
    "for j in range(2,10):\n",
    "    cv_score=cross_val_score(lr,x,y,cv=j)\n",
    "    cv_mean=cv_score.mean()\n",
    "    print(\"At cross fold \",{j},\"the cv score is \", {cv_mean}, \"\\n and accuracy score for training is \",{train_accuracy},\"\\n and accuracy score for testing is\",{test_accuracy}, \"\\n\" )"
   ]
  },
  {
   "cell_type": "code",
   "execution_count": 68,
   "id": "98ba0e9d",
   "metadata": {},
   "outputs": [],
   "source": [
    "from sklearn.model_selection import GridSearchCV\n",
    "from sklearn.model_selection import cross_val_score\n",
    "from sklearn.linear_model import Lasso"
   ]
  },
  {
   "cell_type": "code",
   "execution_count": 69,
   "id": "3e0a66c1",
   "metadata": {},
   "outputs": [
    {
     "data": {
      "text/plain": [
       "-0.18051337063163686"
      ]
     },
     "execution_count": 69,
     "metadata": {},
     "output_type": "execute_result"
    }
   ],
   "source": [
    "ls=Lasso(alpha=1,random_state=0)\n",
    "ls.fit(x_train,y_train)\n",
    "ls.score(x_train,y_train)\n",
    "pred_ls=ls.predict(x_test)\n",
    "\n",
    "ls_score=r2_score(y_test,pred_ls)\n",
    "ls_score"
   ]
  },
  {
   "cell_type": "code",
   "execution_count": 70,
   "id": "db0d247a",
   "metadata": {},
   "outputs": [
    {
     "data": {
      "text/plain": [
       "-0.7639002354652299"
      ]
     },
     "execution_count": 70,
     "metadata": {},
     "output_type": "execute_result"
    }
   ],
   "source": [
    "cv_score=cross_val_score(ls,x,y,cv=5)\n",
    "cv_mean=cv_score.mean()\n",
    "cv_mean"
   ]
  },
  {
   "cell_type": "markdown",
   "id": "c127a45e",
   "metadata": {},
   "source": [
    "# Ensemble Technique"
   ]
  },
  {
   "cell_type": "code",
   "execution_count": 72,
   "id": "e26a806a",
   "metadata": {},
   "outputs": [],
   "source": [
    "from sklearn.ensemble import RandomForestRegressor\n",
    "from sklearn.ensemble import AdaBoostRegressor"
   ]
  },
  {
   "cell_type": "markdown",
   "id": "e3bb0080",
   "metadata": {},
   "source": [
    "# Random Forest Regressor Model"
   ]
  },
  {
   "cell_type": "code",
   "execution_count": 73,
   "id": "88ec33f2",
   "metadata": {},
   "outputs": [
    {
     "name": "stdout",
     "output_type": "stream",
     "text": [
      "Random_forestregressor result :-\n",
      "R2 score is : -0.3408172768051312\n",
      "mean_squared_error : 0.1124750464689355\n"
     ]
    }
   ],
   "source": [
    "rf=RandomForestRegressor(n_estimators=10, bootstrap=True, random_state=2000)\n",
    "rf.fit(x_train,y_train)\n",
    "pred=rf.predict(x_test)\n",
    "print('Random_forestregressor result :-')\n",
    "print('R2 score is :',r2_score(pred,y_test))\n",
    "print('mean_squared_error :', mean_squared_error(pred,y_test))"
   ]
  },
  {
   "cell_type": "markdown",
   "id": "cad930d4",
   "metadata": {},
   "source": [
    "# AdaBoost Regressor Model"
   ]
  },
  {
   "cell_type": "code",
   "execution_count": 74,
   "id": "5ff988d4",
   "metadata": {},
   "outputs": [
    {
     "name": "stdout",
     "output_type": "stream",
     "text": [
      "AdaBoostregressor Result\n",
      "R2 score is  0.973069763399842\n",
      "mean_squared_error 0.00606573609805912\n"
     ]
    }
   ],
   "source": [
    "ab = AdaBoostRegressor()\n",
    "ab.fit(x_train,y_train)\n",
    "pred=ab.predict(x_test)\n",
    "print('AdaBoostregressor Result')\n",
    "print('R2 score is ',r2_score(pred_test,y_test))\n",
    "print('mean_squared_error', mean_squared_error(pred_test,y_test))"
   ]
  },
  {
   "cell_type": "markdown",
   "id": "0d1e53a4",
   "metadata": {},
   "source": [
    "# Scores of All Models"
   ]
  },
  {
   "cell_type": "code",
   "execution_count": 75,
   "id": "939150e5",
   "metadata": {},
   "outputs": [
    {
     "name": "stdout",
     "output_type": "stream",
     "text": [
      "0.9755991662377427 \n",
      "\n",
      "0.9340641009828605 \n",
      "\n",
      "0.8533408302618444\n"
     ]
    }
   ],
   "source": [
    "linear=lr.score(x_train, y_train)\n",
    "Random=rf.score(x_train,y_train)\n",
    "Ada=ab.score(x_train,y_train)\n",
    "print(linear,'\\n')\n",
    "print(Random,'\\n')\n",
    "print(Ada)"
   ]
  },
  {
   "cell_type": "markdown",
   "id": "7a8205b3",
   "metadata": {},
   "source": [
    "# Using the simple- tuning techniques"
   ]
  },
  {
   "cell_type": "markdown",
   "id": "349ec52d",
   "metadata": {},
   "source": [
    "using of K-Fold cross-validation technique"
   ]
  },
  {
   "cell_type": "code",
   "execution_count": 76,
   "id": "344ee491",
   "metadata": {},
   "outputs": [
    {
     "name": "stdout",
     "output_type": "stream",
     "text": [
      "At cv: 2\n",
      "cross_validation_score is: -144.42861884575063\n",
      "R2_score is : 50.31190188048092\n",
      "\n",
      "\n",
      "At cv: 3\n",
      "cross_validation_score is: -85.5425814125766\n",
      "R2_score is : 50.31190188048092\n",
      "\n",
      "\n",
      "At cv: 4\n",
      "cross_validation_score is: -44.360459727496796\n",
      "R2_score is : 50.31190188048092\n",
      "\n",
      "\n",
      "At cv: 5\n",
      "cross_validation_score is: -76.40410817880348\n",
      "R2_score is : 50.31190188048092\n",
      "\n",
      "\n",
      "At cv: 6\n",
      "cross_validation_score is: -22.82772577472144\n",
      "R2_score is : 50.31190188048092\n",
      "\n",
      "\n",
      "At cv: 7\n",
      "cross_validation_score is: -33.58422619279294\n",
      "R2_score is : 50.31190188048092\n",
      "\n",
      "\n",
      "At cv: 8\n",
      "cross_validation_score is: -47.639176988764085\n",
      "R2_score is : 50.31190188048092\n",
      "\n",
      "\n",
      "At cv: 9\n",
      "cross_validation_score is: -10.436607037008233\n",
      "R2_score is : 50.31190188048092\n",
      "\n",
      "\n"
     ]
    }
   ],
   "source": [
    "pred_rf= rf.predict(x_test)\n",
    "from sklearn.model_selection import cross_val_score\n",
    "lrf= r2_score(y_test,pred_rf)\n",
    "for j in range(2,10):\n",
    "    lrfscore=cross_val_score(rf,x,y,cv=j)\n",
    "    lrfs= lrfscore.mean()\n",
    "    print('At cv:',j)\n",
    "    print('cross_validation_score is:',lrfs*100)\n",
    "    print('R2_score is :',lrf*100)\n",
    "    print(\"\\n\")"
   ]
  },
  {
   "cell_type": "code",
   "execution_count": 77,
   "id": "79909b4b",
   "metadata": {},
   "outputs": [
    {
     "name": "stdout",
     "output_type": "stream",
     "text": [
      "cv score  is: -0.7640410817880349 \n",
      " accuracy_score is: -0.10436607037008233\n"
     ]
    }
   ],
   "source": [
    "lrfscore_selected=cross_val_score(rf,x,y,cv=5).mean()\n",
    "print(\"cv score  is:\",lrfscore_selected,\"\\n accuracy_score is:\",lrfs)"
   ]
  },
  {
   "cell_type": "code",
   "execution_count": 78,
   "id": "5d48cf2e",
   "metadata": {},
   "outputs": [],
   "source": [
    "import pickle\n",
    "filename='world_happiness'\n",
    "pickle.dump(rf,open(filename,'wb'))"
   ]
  },
  {
   "cell_type": "code",
   "execution_count": 79,
   "id": "8a360638",
   "metadata": {},
   "outputs": [
    {
     "data": {
      "text/html": [
       "<div>\n",
       "<style scoped>\n",
       "    .dataframe tbody tr th:only-of-type {\n",
       "        vertical-align: middle;\n",
       "    }\n",
       "\n",
       "    .dataframe tbody tr th {\n",
       "        vertical-align: top;\n",
       "    }\n",
       "\n",
       "    .dataframe thead th {\n",
       "        text-align: right;\n",
       "    }\n",
       "</style>\n",
       "<table border=\"1\" class=\"dataframe\">\n",
       "  <thead>\n",
       "    <tr style=\"text-align: right;\">\n",
       "      <th></th>\n",
       "      <th>Orginal</th>\n",
       "      <th>Predicted</th>\n",
       "    </tr>\n",
       "  </thead>\n",
       "  <tbody>\n",
       "    <tr>\n",
       "      <th>0</th>\n",
       "      <td>1.86040</td>\n",
       "      <td>1.743689</td>\n",
       "    </tr>\n",
       "    <tr>\n",
       "      <th>1</th>\n",
       "      <td>2.11773</td>\n",
       "      <td>2.318968</td>\n",
       "    </tr>\n",
       "    <tr>\n",
       "      <th>2</th>\n",
       "      <td>2.27513</td>\n",
       "      <td>2.213304</td>\n",
       "    </tr>\n",
       "    <tr>\n",
       "      <th>3</th>\n",
       "      <td>2.23741</td>\n",
       "      <td>2.280804</td>\n",
       "    </tr>\n",
       "    <tr>\n",
       "      <th>4</th>\n",
       "      <td>1.68135</td>\n",
       "      <td>1.704417</td>\n",
       "    </tr>\n",
       "    <tr>\n",
       "      <th>5</th>\n",
       "      <td>2.13090</td>\n",
       "      <td>2.287604</td>\n",
       "    </tr>\n",
       "    <tr>\n",
       "      <th>6</th>\n",
       "      <td>2.70201</td>\n",
       "      <td>2.276765</td>\n",
       "    </tr>\n",
       "    <tr>\n",
       "      <th>7</th>\n",
       "      <td>0.65429</td>\n",
       "      <td>1.807306</td>\n",
       "    </tr>\n",
       "    <tr>\n",
       "      <th>8</th>\n",
       "      <td>2.11569</td>\n",
       "      <td>2.181591</td>\n",
       "    </tr>\n",
       "    <tr>\n",
       "      <th>9</th>\n",
       "      <td>1.93129</td>\n",
       "      <td>1.888878</td>\n",
       "    </tr>\n",
       "    <tr>\n",
       "      <th>10</th>\n",
       "      <td>2.43209</td>\n",
       "      <td>2.096190</td>\n",
       "    </tr>\n",
       "    <tr>\n",
       "      <th>11</th>\n",
       "      <td>1.94939</td>\n",
       "      <td>1.606855</td>\n",
       "    </tr>\n",
       "    <tr>\n",
       "      <th>12</th>\n",
       "      <td>1.24074</td>\n",
       "      <td>1.703017</td>\n",
       "    </tr>\n",
       "    <tr>\n",
       "      <th>13</th>\n",
       "      <td>2.51767</td>\n",
       "      <td>2.234961</td>\n",
       "    </tr>\n",
       "    <tr>\n",
       "      <th>14</th>\n",
       "      <td>2.67585</td>\n",
       "      <td>2.250394</td>\n",
       "    </tr>\n",
       "    <tr>\n",
       "      <th>15</th>\n",
       "      <td>1.88501</td>\n",
       "      <td>2.431712</td>\n",
       "    </tr>\n",
       "    <tr>\n",
       "      <th>16</th>\n",
       "      <td>2.05125</td>\n",
       "      <td>2.069251</td>\n",
       "    </tr>\n",
       "    <tr>\n",
       "      <th>17</th>\n",
       "      <td>0.89991</td>\n",
       "      <td>1.474451</td>\n",
       "    </tr>\n",
       "    <tr>\n",
       "      <th>18</th>\n",
       "      <td>2.47489</td>\n",
       "      <td>2.231536</td>\n",
       "    </tr>\n",
       "    <tr>\n",
       "      <th>19</th>\n",
       "      <td>2.53320</td>\n",
       "      <td>2.694636</td>\n",
       "    </tr>\n",
       "    <tr>\n",
       "      <th>20</th>\n",
       "      <td>1.58782</td>\n",
       "      <td>1.886766</td>\n",
       "    </tr>\n",
       "    <tr>\n",
       "      <th>21</th>\n",
       "      <td>1.59927</td>\n",
       "      <td>1.554339</td>\n",
       "    </tr>\n",
       "    <tr>\n",
       "      <th>22</th>\n",
       "      <td>2.02518</td>\n",
       "      <td>2.207172</td>\n",
       "    </tr>\n",
       "    <tr>\n",
       "      <th>23</th>\n",
       "      <td>1.86399</td>\n",
       "      <td>1.736541</td>\n",
       "    </tr>\n",
       "    <tr>\n",
       "      <th>24</th>\n",
       "      <td>1.75360</td>\n",
       "      <td>2.047746</td>\n",
       "    </tr>\n",
       "    <tr>\n",
       "      <th>25</th>\n",
       "      <td>1.95637</td>\n",
       "      <td>2.114128</td>\n",
       "    </tr>\n",
       "    <tr>\n",
       "      <th>26</th>\n",
       "      <td>2.08528</td>\n",
       "      <td>2.098278</td>\n",
       "    </tr>\n",
       "    <tr>\n",
       "      <th>27</th>\n",
       "      <td>1.21305</td>\n",
       "      <td>1.597615</td>\n",
       "    </tr>\n",
       "    <tr>\n",
       "      <th>28</th>\n",
       "      <td>2.32038</td>\n",
       "      <td>2.089353</td>\n",
       "    </tr>\n",
       "    <tr>\n",
       "      <th>29</th>\n",
       "      <td>1.92313</td>\n",
       "      <td>1.812554</td>\n",
       "    </tr>\n",
       "    <tr>\n",
       "      <th>30</th>\n",
       "      <td>2.26882</td>\n",
       "      <td>2.282572</td>\n",
       "    </tr>\n",
       "  </tbody>\n",
       "</table>\n",
       "</div>"
      ],
      "text/plain": [
       "    Orginal  Predicted\n",
       "0   1.86040   1.743689\n",
       "1   2.11773   2.318968\n",
       "2   2.27513   2.213304\n",
       "3   2.23741   2.280804\n",
       "4   1.68135   1.704417\n",
       "5   2.13090   2.287604\n",
       "6   2.70201   2.276765\n",
       "7   0.65429   1.807306\n",
       "8   2.11569   2.181591\n",
       "9   1.93129   1.888878\n",
       "10  2.43209   2.096190\n",
       "11  1.94939   1.606855\n",
       "12  1.24074   1.703017\n",
       "13  2.51767   2.234961\n",
       "14  2.67585   2.250394\n",
       "15  1.88501   2.431712\n",
       "16  2.05125   2.069251\n",
       "17  0.89991   1.474451\n",
       "18  2.47489   2.231536\n",
       "19  2.53320   2.694636\n",
       "20  1.58782   1.886766\n",
       "21  1.59927   1.554339\n",
       "22  2.02518   2.207172\n",
       "23  1.86399   1.736541\n",
       "24  1.75360   2.047746\n",
       "25  1.95637   2.114128\n",
       "26  2.08528   2.098278\n",
       "27  1.21305   1.597615\n",
       "28  2.32038   2.089353\n",
       "29  1.92313   1.812554\n",
       "30  2.26882   2.282572"
      ]
     },
     "execution_count": 79,
     "metadata": {},
     "output_type": "execute_result"
    }
   ],
   "source": [
    "import numpy as np\n",
    "a =np.array(y_test)\n",
    "predicted=np.array(rf.predict(x_test))\n",
    "df_com=pd.DataFrame({'Orginal':a,'Predicted':predicted}, index=range(len(a)))\n",
    "df_com"
   ]
  },
  {
   "cell_type": "code",
   "execution_count": null,
   "id": "f64021a4",
   "metadata": {},
   "outputs": [],
   "source": []
  }
 ],
 "metadata": {
  "kernelspec": {
   "display_name": "Python 3 (ipykernel)",
   "language": "python",
   "name": "python3"
  },
  "language_info": {
   "codemirror_mode": {
    "name": "ipython",
    "version": 3
   },
   "file_extension": ".py",
   "mimetype": "text/x-python",
   "name": "python",
   "nbconvert_exporter": "python",
   "pygments_lexer": "ipython3",
   "version": "3.9.7"
  }
 },
 "nbformat": 4,
 "nbformat_minor": 5
}

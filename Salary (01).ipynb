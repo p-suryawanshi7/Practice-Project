{
 "cells": [
  {
   "cell_type": "markdown",
   "id": "90db5603",
   "metadata": {},
   "source": [
    "# Salary Prediction"
   ]
  },
  {
   "cell_type": "code",
   "execution_count": 1,
   "id": "d4531fe8",
   "metadata": {},
   "outputs": [],
   "source": [
    "import pandas as pd\n",
    "import numpy as np\n",
    "import seaborn as sns\n",
    "import matplotlib.pyplot as plt\n",
    "%matplotlib inline\n",
    "import warnings\n",
    "warnings.filterwarnings('ignore')\n",
    "\n",
    "import statsmodels.api as sm\n",
    "from scipy import stats\n",
    "from statsmodels.stats.outliers_influence import variance_inflation_factor\n",
    "from sklearn.preprocessing  import power_transform\n",
    "from sklearn.preprocessing import StandardScaler"
   ]
  },
  {
   "cell_type": "markdown",
   "id": "b22e3037",
   "metadata": {},
   "source": [
    "# Importing the dataset"
   ]
  },
  {
   "cell_type": "code",
   "execution_count": 2,
   "id": "4b9e948a",
   "metadata": {},
   "outputs": [
    {
     "data": {
      "text/html": [
       "<div>\n",
       "<style scoped>\n",
       "    .dataframe tbody tr th:only-of-type {\n",
       "        vertical-align: middle;\n",
       "    }\n",
       "\n",
       "    .dataframe tbody tr th {\n",
       "        vertical-align: top;\n",
       "    }\n",
       "\n",
       "    .dataframe thead th {\n",
       "        text-align: right;\n",
       "    }\n",
       "</style>\n",
       "<table border=\"1\" class=\"dataframe\">\n",
       "  <thead>\n",
       "    <tr style=\"text-align: right;\">\n",
       "      <th></th>\n",
       "      <th>rank</th>\n",
       "      <th>discipline</th>\n",
       "      <th>yrs.since.phd</th>\n",
       "      <th>yrs.service</th>\n",
       "      <th>sex</th>\n",
       "      <th>salary</th>\n",
       "    </tr>\n",
       "  </thead>\n",
       "  <tbody>\n",
       "    <tr>\n",
       "      <th>0</th>\n",
       "      <td>Prof</td>\n",
       "      <td>B</td>\n",
       "      <td>19</td>\n",
       "      <td>18</td>\n",
       "      <td>Male</td>\n",
       "      <td>139750</td>\n",
       "    </tr>\n",
       "    <tr>\n",
       "      <th>1</th>\n",
       "      <td>Prof</td>\n",
       "      <td>B</td>\n",
       "      <td>20</td>\n",
       "      <td>16</td>\n",
       "      <td>Male</td>\n",
       "      <td>173200</td>\n",
       "    </tr>\n",
       "    <tr>\n",
       "      <th>2</th>\n",
       "      <td>AsstProf</td>\n",
       "      <td>B</td>\n",
       "      <td>4</td>\n",
       "      <td>3</td>\n",
       "      <td>Male</td>\n",
       "      <td>79750</td>\n",
       "    </tr>\n",
       "    <tr>\n",
       "      <th>3</th>\n",
       "      <td>Prof</td>\n",
       "      <td>B</td>\n",
       "      <td>45</td>\n",
       "      <td>39</td>\n",
       "      <td>Male</td>\n",
       "      <td>115000</td>\n",
       "    </tr>\n",
       "    <tr>\n",
       "      <th>4</th>\n",
       "      <td>Prof</td>\n",
       "      <td>B</td>\n",
       "      <td>40</td>\n",
       "      <td>41</td>\n",
       "      <td>Male</td>\n",
       "      <td>141500</td>\n",
       "    </tr>\n",
       "    <tr>\n",
       "      <th>...</th>\n",
       "      <td>...</td>\n",
       "      <td>...</td>\n",
       "      <td>...</td>\n",
       "      <td>...</td>\n",
       "      <td>...</td>\n",
       "      <td>...</td>\n",
       "    </tr>\n",
       "    <tr>\n",
       "      <th>392</th>\n",
       "      <td>Prof</td>\n",
       "      <td>A</td>\n",
       "      <td>33</td>\n",
       "      <td>30</td>\n",
       "      <td>Male</td>\n",
       "      <td>103106</td>\n",
       "    </tr>\n",
       "    <tr>\n",
       "      <th>393</th>\n",
       "      <td>Prof</td>\n",
       "      <td>A</td>\n",
       "      <td>31</td>\n",
       "      <td>19</td>\n",
       "      <td>Male</td>\n",
       "      <td>150564</td>\n",
       "    </tr>\n",
       "    <tr>\n",
       "      <th>394</th>\n",
       "      <td>Prof</td>\n",
       "      <td>A</td>\n",
       "      <td>42</td>\n",
       "      <td>25</td>\n",
       "      <td>Male</td>\n",
       "      <td>101738</td>\n",
       "    </tr>\n",
       "    <tr>\n",
       "      <th>395</th>\n",
       "      <td>Prof</td>\n",
       "      <td>A</td>\n",
       "      <td>25</td>\n",
       "      <td>15</td>\n",
       "      <td>Male</td>\n",
       "      <td>95329</td>\n",
       "    </tr>\n",
       "    <tr>\n",
       "      <th>396</th>\n",
       "      <td>AsstProf</td>\n",
       "      <td>A</td>\n",
       "      <td>8</td>\n",
       "      <td>4</td>\n",
       "      <td>Male</td>\n",
       "      <td>81035</td>\n",
       "    </tr>\n",
       "  </tbody>\n",
       "</table>\n",
       "<p>397 rows × 6 columns</p>\n",
       "</div>"
      ],
      "text/plain": [
       "         rank discipline  yrs.since.phd  yrs.service   sex  salary\n",
       "0        Prof          B             19           18  Male  139750\n",
       "1        Prof          B             20           16  Male  173200\n",
       "2    AsstProf          B              4            3  Male   79750\n",
       "3        Prof          B             45           39  Male  115000\n",
       "4        Prof          B             40           41  Male  141500\n",
       "..        ...        ...            ...          ...   ...     ...\n",
       "392      Prof          A             33           30  Male  103106\n",
       "393      Prof          A             31           19  Male  150564\n",
       "394      Prof          A             42           25  Male  101738\n",
       "395      Prof          A             25           15  Male   95329\n",
       "396  AsstProf          A              8            4  Male   81035\n",
       "\n",
       "[397 rows x 6 columns]"
      ]
     },
     "execution_count": 2,
     "metadata": {},
     "output_type": "execute_result"
    }
   ],
   "source": [
    "salaries=pd.read_csv('https://raw.githubusercontent.com/dsrscientist/dataset3/main/Salaries.csv')\n",
    "salaries"
   ]
  },
  {
   "cell_type": "markdown",
   "id": "ce99d9d8",
   "metadata": {},
   "source": [
    "# Checking Columns"
   ]
  },
  {
   "cell_type": "code",
   "execution_count": 3,
   "id": "ad806710",
   "metadata": {},
   "outputs": [
    {
     "data": {
      "text/plain": [
       "Index(['rank', 'discipline', 'yrs.since.phd', 'yrs.service', 'sex', 'salary'], dtype='object')"
      ]
     },
     "execution_count": 3,
     "metadata": {},
     "output_type": "execute_result"
    }
   ],
   "source": [
    "salaries.columns"
   ]
  },
  {
   "cell_type": "markdown",
   "id": "83e15f05",
   "metadata": {},
   "source": [
    "# Checking all Null Values"
   ]
  },
  {
   "cell_type": "code",
   "execution_count": 4,
   "id": "61424159",
   "metadata": {},
   "outputs": [
    {
     "data": {
      "text/plain": [
       "rank             0\n",
       "discipline       0\n",
       "yrs.since.phd    0\n",
       "yrs.service      0\n",
       "sex              0\n",
       "salary           0\n",
       "dtype: int64"
      ]
     },
     "execution_count": 4,
     "metadata": {},
     "output_type": "execute_result"
    }
   ],
   "source": [
    "salaries.isnull().sum()"
   ]
  },
  {
   "cell_type": "markdown",
   "id": "80e17aad",
   "metadata": {},
   "source": [
    "# Checking Data Type"
   ]
  },
  {
   "cell_type": "code",
   "execution_count": 5,
   "id": "5ec50b31",
   "metadata": {},
   "outputs": [
    {
     "data": {
      "text/plain": [
       "rank             object\n",
       "discipline       object\n",
       "yrs.since.phd     int64\n",
       "yrs.service       int64\n",
       "sex              object\n",
       "salary            int64\n",
       "dtype: object"
      ]
     },
     "execution_count": 5,
     "metadata": {},
     "output_type": "execute_result"
    }
   ],
   "source": [
    "salaries.dtypes"
   ]
  },
  {
   "cell_type": "markdown",
   "id": "22b5b033",
   "metadata": {},
   "source": [
    "# Converting into Float Data Type"
   ]
  },
  {
   "cell_type": "code",
   "execution_count": 6,
   "id": "0f0feb47",
   "metadata": {},
   "outputs": [],
   "source": [
    "salaries['yrs.since.phd']=salaries['yrs.since.phd'].astype(float)\n",
    "salaries['yrs.service']=salaries['yrs.service'].astype(float)\n",
    "salaries['salary']=salaries['salary'].astype(float)"
   ]
  },
  {
   "cell_type": "code",
   "execution_count": 7,
   "id": "97c6f2b2",
   "metadata": {},
   "outputs": [
    {
     "data": {
      "text/plain": [
       "rank              object\n",
       "discipline        object\n",
       "yrs.since.phd    float64\n",
       "yrs.service      float64\n",
       "sex               object\n",
       "salary           float64\n",
       "dtype: object"
      ]
     },
     "execution_count": 7,
     "metadata": {},
     "output_type": "execute_result"
    }
   ],
   "source": [
    "salaries.dtypes"
   ]
  },
  {
   "cell_type": "markdown",
   "id": "b1e43287",
   "metadata": {},
   "source": [
    "# Making DataFrame of Nominal Data"
   ]
  },
  {
   "cell_type": "code",
   "execution_count": 8,
   "id": "f34ac929",
   "metadata": {},
   "outputs": [
    {
     "data": {
      "text/plain": [
       "Index(['rank', 'discipline', 'yrs.since.phd', 'yrs.service', 'sex', 'salary'], dtype='object')"
      ]
     },
     "execution_count": 8,
     "metadata": {},
     "output_type": "execute_result"
    }
   ],
   "source": [
    "salaries_nominal=salaries[['rank', 'discipline', 'sex']].copy()\n",
    "salaries.columns"
   ]
  },
  {
   "cell_type": "code",
   "execution_count": 9,
   "id": "a36b3d14",
   "metadata": {},
   "outputs": [
    {
     "name": "stdout",
     "output_type": "stream",
     "text": [
      "Prof         266\n",
      "AsstProf      67\n",
      "AssocProf     64\n",
      "Name: rank, dtype: int64\n"
     ]
    },
    {
     "data": {
      "image/png": "[encoded data removed]",
      "text/plain": [
       "<Figure size 432x288 with 1 Axes>"
      ]
     },
     "metadata": {
      "needs_background": "light"
     },
     "output_type": "display_data"
    }
   ],
   "source": [
    "ax=sns.countplot(x=\"rank\",data=salaries_nominal)\n",
    "print(salaries_nominal[\"rank\"].value_counts())"
   ]
  },
  {
   "cell_type": "code",
   "execution_count": 10,
   "id": "ad80e9ec",
   "metadata": {},
   "outputs": [
    {
     "name": "stdout",
     "output_type": "stream",
     "text": [
      "B    216\n",
      "A    181\n",
      "Name: discipline, dtype: int64\n"
     ]
    },
    {
     "data": {
      "image/png": "[encoded data removed]",
      "text/plain": [
       "<Figure size 432x288 with 1 Axes>"
      ]
     },
     "metadata": {
      "needs_background": "light"
     },
     "output_type": "display_data"
    }
   ],
   "source": [
    "ax=sns.countplot(x=\"discipline\",data=salaries_nominal)\n",
    "print(salaries_nominal[\"discipline\"].value_counts())"
   ]
  },
  {
   "cell_type": "code",
   "execution_count": 11,
   "id": "d0d069a8",
   "metadata": {},
   "outputs": [
    {
     "name": "stdout",
     "output_type": "stream",
     "text": [
      "Male      358\n",
      "Female     39\n",
      "Name: sex, dtype: int64\n"
     ]
    },
    {
     "data": {
      "image/png": "[encoded data removed]",
      "text/plain": [
       "<Figure size 432x288 with 1 Axes>"
      ]
     },
     "metadata": {
      "needs_background": "light"
     },
     "output_type": "display_data"
    }
   ],
   "source": [
    "ax=sns.countplot(x=\"sex\",data=salaries_nominal)\n",
    "print(salaries_nominal[\"sex\"].value_counts())"
   ]
  },
  {
   "cell_type": "markdown",
   "id": "a3fd1e27",
   "metadata": {},
   "source": [
    "# Making DataFrame of Continuous Data"
   ]
  },
  {
   "cell_type": "code",
   "execution_count": 12,
   "id": "bb18ceda",
   "metadata": {},
   "outputs": [
    {
     "data": {
      "text/plain": [
       "Index(['yrs.since.phd', 'yrs.service', 'salary'], dtype='object')"
      ]
     },
     "execution_count": 12,
     "metadata": {},
     "output_type": "execute_result"
    }
   ],
   "source": [
    "salaries_continuous=salaries[['yrs.since.phd','yrs.service', 'salary']].copy()\n",
    "salaries_continuous.columns"
   ]
  },
  {
   "cell_type": "code",
   "execution_count": 13,
   "id": "b96e1491",
   "metadata": {},
   "outputs": [
    {
     "data": {
      "text/plain": [
       "<AxesSubplot:xlabel='yrs.since.phd', ylabel='Density'>"
      ]
     },
     "execution_count": 13,
     "metadata": {},
     "output_type": "execute_result"
    },
    {
     "data": {
      "image/png": "[encoded data removed]",
      "text/plain": [
       "<Figure size 432x288 with 1 Axes>"
      ]
     },
     "metadata": {
      "needs_background": "light"
     },
     "output_type": "display_data"
    }
   ],
   "source": [
    "sns.distplot(salaries_continuous['yrs.since.phd'],kde=True)"
   ]
  },
  {
   "cell_type": "code",
   "execution_count": 14,
   "id": "79bb138b",
   "metadata": {},
   "outputs": [
    {
     "data": {
      "text/plain": [
       "<AxesSubplot:xlabel='yrs.service', ylabel='Density'>"
      ]
     },
     "execution_count": 14,
     "metadata": {},
     "output_type": "execute_result"
    },
    {
     "data": {
      "image/png": "[encoded data removed]",
      "text/plain": [
       "<Figure size 432x288 with 1 Axes>"
      ]
     },
     "metadata": {
      "needs_background": "light"
     },
     "output_type": "display_data"
    }
   ],
   "source": [
    "sns.distplot(salaries_continuous['yrs.service'],kde=True)"
   ]
  },
  {
   "cell_type": "code",
   "execution_count": 15,
   "id": "a61da692",
   "metadata": {},
   "outputs": [
    {
     "data": {
      "text/plain": [
       "<AxesSubplot:xlabel='salary', ylabel='Density'>"
      ]
     },
     "execution_count": 15,
     "metadata": {},
     "output_type": "execute_result"
    },
    {
     "data": {
      "image/png": "[encoded data removed]",
      "text/plain": [
       "<Figure size 432x288 with 1 Axes>"
      ]
     },
     "metadata": {
      "needs_background": "light"
     },
     "output_type": "display_data"
    }
   ],
   "source": [
    "sns.distplot(salaries_continuous['salary'],kde=True)"
   ]
  },
  {
   "cell_type": "markdown",
   "id": "87fbb927",
   "metadata": {},
   "source": [
    "# Encoding of DataFrame"
   ]
  },
  {
   "cell_type": "code",
   "execution_count": 16,
   "id": "b688c0e7",
   "metadata": {},
   "outputs": [],
   "source": [
    "from sklearn.preprocessing import OrdinalEncoder\n",
    "Encoder=OrdinalEncoder()"
   ]
  },
  {
   "cell_type": "code",
   "execution_count": 17,
   "id": "a9f97454",
   "metadata": {},
   "outputs": [],
   "source": [
    "for i in salaries.columns:\n",
    "    if salaries[i].dtypes==\"object\":\n",
    "        salaries[i]=Encoder.fit_transform(salaries[i].values.reshape(-1,1))"
   ]
  },
  {
   "cell_type": "code",
   "execution_count": 18,
   "id": "7d3ab931",
   "metadata": {},
   "outputs": [
    {
     "data": {
      "text/html": [
       "<div>\n",
       "<style scoped>\n",
       "    .dataframe tbody tr th:only-of-type {\n",
       "        vertical-align: middle;\n",
       "    }\n",
       "\n",
       "    .dataframe tbody tr th {\n",
       "        vertical-align: top;\n",
       "    }\n",
       "\n",
       "    .dataframe thead th {\n",
       "        text-align: right;\n",
       "    }\n",
       "</style>\n",
       "<table border=\"1\" class=\"dataframe\">\n",
       "  <thead>\n",
       "    <tr style=\"text-align: right;\">\n",
       "      <th></th>\n",
       "      <th>rank</th>\n",
       "      <th>discipline</th>\n",
       "      <th>yrs.since.phd</th>\n",
       "      <th>yrs.service</th>\n",
       "      <th>sex</th>\n",
       "      <th>salary</th>\n",
       "    </tr>\n",
       "  </thead>\n",
       "  <tbody>\n",
       "    <tr>\n",
       "      <th>0</th>\n",
       "      <td>2.0</td>\n",
       "      <td>1.0</td>\n",
       "      <td>19.0</td>\n",
       "      <td>18.0</td>\n",
       "      <td>1.0</td>\n",
       "      <td>139750.0</td>\n",
       "    </tr>\n",
       "    <tr>\n",
       "      <th>1</th>\n",
       "      <td>2.0</td>\n",
       "      <td>1.0</td>\n",
       "      <td>20.0</td>\n",
       "      <td>16.0</td>\n",
       "      <td>1.0</td>\n",
       "      <td>173200.0</td>\n",
       "    </tr>\n",
       "    <tr>\n",
       "      <th>2</th>\n",
       "      <td>1.0</td>\n",
       "      <td>1.0</td>\n",
       "      <td>4.0</td>\n",
       "      <td>3.0</td>\n",
       "      <td>1.0</td>\n",
       "      <td>79750.0</td>\n",
       "    </tr>\n",
       "    <tr>\n",
       "      <th>3</th>\n",
       "      <td>2.0</td>\n",
       "      <td>1.0</td>\n",
       "      <td>45.0</td>\n",
       "      <td>39.0</td>\n",
       "      <td>1.0</td>\n",
       "      <td>115000.0</td>\n",
       "    </tr>\n",
       "    <tr>\n",
       "      <th>4</th>\n",
       "      <td>2.0</td>\n",
       "      <td>1.0</td>\n",
       "      <td>40.0</td>\n",
       "      <td>41.0</td>\n",
       "      <td>1.0</td>\n",
       "      <td>141500.0</td>\n",
       "    </tr>\n",
       "    <tr>\n",
       "      <th>...</th>\n",
       "      <td>...</td>\n",
       "      <td>...</td>\n",
       "      <td>...</td>\n",
       "      <td>...</td>\n",
       "      <td>...</td>\n",
       "      <td>...</td>\n",
       "    </tr>\n",
       "    <tr>\n",
       "      <th>392</th>\n",
       "      <td>2.0</td>\n",
       "      <td>0.0</td>\n",
       "      <td>33.0</td>\n",
       "      <td>30.0</td>\n",
       "      <td>1.0</td>\n",
       "      <td>103106.0</td>\n",
       "    </tr>\n",
       "    <tr>\n",
       "      <th>393</th>\n",
       "      <td>2.0</td>\n",
       "      <td>0.0</td>\n",
       "      <td>31.0</td>\n",
       "      <td>19.0</td>\n",
       "      <td>1.0</td>\n",
       "      <td>150564.0</td>\n",
       "    </tr>\n",
       "    <tr>\n",
       "      <th>394</th>\n",
       "      <td>2.0</td>\n",
       "      <td>0.0</td>\n",
       "      <td>42.0</td>\n",
       "      <td>25.0</td>\n",
       "      <td>1.0</td>\n",
       "      <td>101738.0</td>\n",
       "    </tr>\n",
       "    <tr>\n",
       "      <th>395</th>\n",
       "      <td>2.0</td>\n",
       "      <td>0.0</td>\n",
       "      <td>25.0</td>\n",
       "      <td>15.0</td>\n",
       "      <td>1.0</td>\n",
       "      <td>95329.0</td>\n",
       "    </tr>\n",
       "    <tr>\n",
       "      <th>396</th>\n",
       "      <td>1.0</td>\n",
       "      <td>0.0</td>\n",
       "      <td>8.0</td>\n",
       "      <td>4.0</td>\n",
       "      <td>1.0</td>\n",
       "      <td>81035.0</td>\n",
       "    </tr>\n",
       "  </tbody>\n",
       "</table>\n",
       "<p>397 rows × 6 columns</p>\n",
       "</div>"
      ],
      "text/plain": [
       "     rank  discipline  yrs.since.phd  yrs.service  sex    salary\n",
       "0     2.0         1.0           19.0         18.0  1.0  139750.0\n",
       "1     2.0         1.0           20.0         16.0  1.0  173200.0\n",
       "2     1.0         1.0            4.0          3.0  1.0   79750.0\n",
       "3     2.0         1.0           45.0         39.0  1.0  115000.0\n",
       "4     2.0         1.0           40.0         41.0  1.0  141500.0\n",
       "..    ...         ...            ...          ...  ...       ...\n",
       "392   2.0         0.0           33.0         30.0  1.0  103106.0\n",
       "393   2.0         0.0           31.0         19.0  1.0  150564.0\n",
       "394   2.0         0.0           42.0         25.0  1.0  101738.0\n",
       "395   2.0         0.0           25.0         15.0  1.0   95329.0\n",
       "396   1.0         0.0            8.0          4.0  1.0   81035.0\n",
       "\n",
       "[397 rows x 6 columns]"
      ]
     },
     "execution_count": 18,
     "metadata": {},
     "output_type": "execute_result"
    }
   ],
   "source": [
    "salaries"
   ]
  },
  {
   "cell_type": "markdown",
   "id": "694ce9e5",
   "metadata": {},
   "source": [
    "# Describing Dataset"
   ]
  },
  {
   "cell_type": "code",
   "execution_count": 19,
   "id": "2c6be30f",
   "metadata": {},
   "outputs": [
    {
     "data": {
      "text/html": [
       "<div>\n",
       "<style scoped>\n",
       "    .dataframe tbody tr th:only-of-type {\n",
       "        vertical-align: middle;\n",
       "    }\n",
       "\n",
       "    .dataframe tbody tr th {\n",
       "        vertical-align: top;\n",
       "    }\n",
       "\n",
       "    .dataframe thead th {\n",
       "        text-align: right;\n",
       "    }\n",
       "</style>\n",
       "<table border=\"1\" class=\"dataframe\">\n",
       "  <thead>\n",
       "    <tr style=\"text-align: right;\">\n",
       "      <th></th>\n",
       "      <th>rank</th>\n",
       "      <th>discipline</th>\n",
       "      <th>yrs.since.phd</th>\n",
       "      <th>yrs.service</th>\n",
       "      <th>sex</th>\n",
       "      <th>salary</th>\n",
       "    </tr>\n",
       "  </thead>\n",
       "  <tbody>\n",
       "    <tr>\n",
       "      <th>count</th>\n",
       "      <td>397.000000</td>\n",
       "      <td>397.000000</td>\n",
       "      <td>397.000000</td>\n",
       "      <td>397.000000</td>\n",
       "      <td>397.000000</td>\n",
       "      <td>397.000000</td>\n",
       "    </tr>\n",
       "    <tr>\n",
       "      <th>mean</th>\n",
       "      <td>1.508816</td>\n",
       "      <td>0.544081</td>\n",
       "      <td>22.314861</td>\n",
       "      <td>17.614610</td>\n",
       "      <td>0.901763</td>\n",
       "      <td>113706.458438</td>\n",
       "    </tr>\n",
       "    <tr>\n",
       "      <th>std</th>\n",
       "      <td>0.757486</td>\n",
       "      <td>0.498682</td>\n",
       "      <td>12.887003</td>\n",
       "      <td>13.006024</td>\n",
       "      <td>0.298010</td>\n",
       "      <td>30289.038695</td>\n",
       "    </tr>\n",
       "    <tr>\n",
       "      <th>min</th>\n",
       "      <td>0.000000</td>\n",
       "      <td>0.000000</td>\n",
       "      <td>1.000000</td>\n",
       "      <td>0.000000</td>\n",
       "      <td>0.000000</td>\n",
       "      <td>57800.000000</td>\n",
       "    </tr>\n",
       "    <tr>\n",
       "      <th>25%</th>\n",
       "      <td>1.000000</td>\n",
       "      <td>0.000000</td>\n",
       "      <td>12.000000</td>\n",
       "      <td>7.000000</td>\n",
       "      <td>1.000000</td>\n",
       "      <td>91000.000000</td>\n",
       "    </tr>\n",
       "    <tr>\n",
       "      <th>50%</th>\n",
       "      <td>2.000000</td>\n",
       "      <td>1.000000</td>\n",
       "      <td>21.000000</td>\n",
       "      <td>16.000000</td>\n",
       "      <td>1.000000</td>\n",
       "      <td>107300.000000</td>\n",
       "    </tr>\n",
       "    <tr>\n",
       "      <th>75%</th>\n",
       "      <td>2.000000</td>\n",
       "      <td>1.000000</td>\n",
       "      <td>32.000000</td>\n",
       "      <td>27.000000</td>\n",
       "      <td>1.000000</td>\n",
       "      <td>134185.000000</td>\n",
       "    </tr>\n",
       "    <tr>\n",
       "      <th>max</th>\n",
       "      <td>2.000000</td>\n",
       "      <td>1.000000</td>\n",
       "      <td>56.000000</td>\n",
       "      <td>60.000000</td>\n",
       "      <td>1.000000</td>\n",
       "      <td>231545.000000</td>\n",
       "    </tr>\n",
       "  </tbody>\n",
       "</table>\n",
       "</div>"
      ],
      "text/plain": [
       "             rank  discipline  yrs.since.phd  yrs.service         sex  \\\n",
       "count  397.000000  397.000000     397.000000   397.000000  397.000000   \n",
       "mean     1.508816    0.544081      22.314861    17.614610    0.901763   \n",
       "std      0.757486    0.498682      12.887003    13.006024    0.298010   \n",
       "min      0.000000    0.000000       1.000000     0.000000    0.000000   \n",
       "25%      1.000000    0.000000      12.000000     7.000000    1.000000   \n",
       "50%      2.000000    1.000000      21.000000    16.000000    1.000000   \n",
       "75%      2.000000    1.000000      32.000000    27.000000    1.000000   \n",
       "max      2.000000    1.000000      56.000000    60.000000    1.000000   \n",
       "\n",
       "              salary  \n",
       "count     397.000000  \n",
       "mean   113706.458438  \n",
       "std     30289.038695  \n",
       "min     57800.000000  \n",
       "25%     91000.000000  \n",
       "50%    107300.000000  \n",
       "75%    134185.000000  \n",
       "max    231545.000000  "
      ]
     },
     "execution_count": 19,
     "metadata": {},
     "output_type": "execute_result"
    }
   ],
   "source": [
    "salaries.describe()"
   ]
  },
  {
   "cell_type": "code",
   "execution_count": 20,
   "id": "a1c33b30",
   "metadata": {},
   "outputs": [
    {
     "data": {
      "text/plain": [
       "<AxesSubplot:>"
      ]
     },
     "execution_count": 20,
     "metadata": {},
     "output_type": "execute_result"
    },
    {
     "data": {
      "image/png": "[encoded data removed]",
      "text/plain": [
       "<Figure size 1584x504 with 2 Axes>"
      ]
     },
     "metadata": {
      "needs_background": "light"
     },
     "output_type": "display_data"
    }
   ],
   "source": [
    "plt.figure(figsize=(22,7))\n",
    "sns.heatmap(salaries.describe(), annot=True, linewidth=0.1, linecolor=\"white\", fmt=\"0.2f\")"
   ]
  },
  {
   "cell_type": "markdown",
   "id": "12dd2a04",
   "metadata": {},
   "source": [
    "# Checking Correlation with Target Variable"
   ]
  },
  {
   "cell_type": "code",
   "execution_count": 21,
   "id": "072f9757",
   "metadata": {},
   "outputs": [
    {
     "data": {
      "text/html": [
       "<div>\n",
       "<style scoped>\n",
       "    .dataframe tbody tr th:only-of-type {\n",
       "        vertical-align: middle;\n",
       "    }\n",
       "\n",
       "    .dataframe tbody tr th {\n",
       "        vertical-align: top;\n",
       "    }\n",
       "\n",
       "    .dataframe thead th {\n",
       "        text-align: right;\n",
       "    }\n",
       "</style>\n",
       "<table border=\"1\" class=\"dataframe\">\n",
       "  <thead>\n",
       "    <tr style=\"text-align: right;\">\n",
       "      <th></th>\n",
       "      <th>rank</th>\n",
       "      <th>discipline</th>\n",
       "      <th>yrs.since.phd</th>\n",
       "      <th>yrs.service</th>\n",
       "      <th>sex</th>\n",
       "      <th>salary</th>\n",
       "    </tr>\n",
       "  </thead>\n",
       "  <tbody>\n",
       "    <tr>\n",
       "      <th>rank</th>\n",
       "      <td>1.000000</td>\n",
       "      <td>-0.086266</td>\n",
       "      <td>0.525500</td>\n",
       "      <td>0.447499</td>\n",
       "      <td>0.132492</td>\n",
       "      <td>0.522207</td>\n",
       "    </tr>\n",
       "    <tr>\n",
       "      <th>discipline</th>\n",
       "      <td>-0.086266</td>\n",
       "      <td>1.000000</td>\n",
       "      <td>-0.218087</td>\n",
       "      <td>-0.164599</td>\n",
       "      <td>0.003724</td>\n",
       "      <td>0.156084</td>\n",
       "    </tr>\n",
       "    <tr>\n",
       "      <th>yrs.since.phd</th>\n",
       "      <td>0.525500</td>\n",
       "      <td>-0.218087</td>\n",
       "      <td>1.000000</td>\n",
       "      <td>0.909649</td>\n",
       "      <td>0.148788</td>\n",
       "      <td>0.419231</td>\n",
       "    </tr>\n",
       "    <tr>\n",
       "      <th>yrs.service</th>\n",
       "      <td>0.447499</td>\n",
       "      <td>-0.164599</td>\n",
       "      <td>0.909649</td>\n",
       "      <td>1.000000</td>\n",
       "      <td>0.153740</td>\n",
       "      <td>0.334745</td>\n",
       "    </tr>\n",
       "    <tr>\n",
       "      <th>sex</th>\n",
       "      <td>0.132492</td>\n",
       "      <td>0.003724</td>\n",
       "      <td>0.148788</td>\n",
       "      <td>0.153740</td>\n",
       "      <td>1.000000</td>\n",
       "      <td>0.138610</td>\n",
       "    </tr>\n",
       "    <tr>\n",
       "      <th>salary</th>\n",
       "      <td>0.522207</td>\n",
       "      <td>0.156084</td>\n",
       "      <td>0.419231</td>\n",
       "      <td>0.334745</td>\n",
       "      <td>0.138610</td>\n",
       "      <td>1.000000</td>\n",
       "    </tr>\n",
       "  </tbody>\n",
       "</table>\n",
       "</div>"
      ],
      "text/plain": [
       "                   rank  discipline  yrs.since.phd  yrs.service       sex  \\\n",
       "rank           1.000000   -0.086266       0.525500     0.447499  0.132492   \n",
       "discipline    -0.086266    1.000000      -0.218087    -0.164599  0.003724   \n",
       "yrs.since.phd  0.525500   -0.218087       1.000000     0.909649  0.148788   \n",
       "yrs.service    0.447499   -0.164599       0.909649     1.000000  0.153740   \n",
       "sex            0.132492    0.003724       0.148788     0.153740  1.000000   \n",
       "salary         0.522207    0.156084       0.419231     0.334745  0.138610   \n",
       "\n",
       "                 salary  \n",
       "rank           0.522207  \n",
       "discipline     0.156084  \n",
       "yrs.since.phd  0.419231  \n",
       "yrs.service    0.334745  \n",
       "sex            0.138610  \n",
       "salary         1.000000  "
      ]
     },
     "execution_count": 21,
     "metadata": {},
     "output_type": "execute_result"
    }
   ],
   "source": [
    "salaries.corr()"
   ]
  },
  {
   "cell_type": "code",
   "execution_count": 22,
   "id": "c4cb0ee1",
   "metadata": {},
   "outputs": [
    {
     "data": {
      "text/plain": [
       "<AxesSubplot:>"
      ]
     },
     "execution_count": 22,
     "metadata": {},
     "output_type": "execute_result"
    },
    {
     "data": {
      "image/png": "[encoded data removed]",
      "text/plain": [
       "<Figure size 1584x504 with 2 Axes>"
      ]
     },
     "metadata": {
      "needs_background": "light"
     },
     "output_type": "display_data"
    }
   ],
   "source": [
    "plt.figure(figsize=(22,7))\n",
    "sns.heatmap(salaries.corr(), annot=True, linewidth=0.1, linecolor=\"white\", fmt=\"0.2f\",annot_kws={\"size\": 16})"
   ]
  },
  {
   "cell_type": "markdown",
   "id": "a0e0ea08",
   "metadata": {},
   "source": [
    "#### Checking positive and Negative column"
   ]
  },
  {
   "cell_type": "code",
   "execution_count": 23,
   "id": "05ae37f9",
   "metadata": {},
   "outputs": [
    {
     "data": {
      "image/png": "[encoded data removed]",
      "text/plain": [
       "<Figure size 1584x504 with 1 Axes>"
      ]
     },
     "metadata": {
      "needs_background": "light"
     },
     "output_type": "display_data"
    }
   ],
   "source": [
    "plt.figure(figsize=(22,7))\n",
    "salaries.corr()['salary'].sort_values(ascending=False).drop(['salary']).plot(kind='bar',color='c')\n",
    "plt.xlabel=('Feature')\n",
    "plt.ylabel=('column with target names')\n",
    "plt.title=('correlation')\n",
    "plt.show()"
   ]
  },
  {
   "cell_type": "markdown",
   "id": "b6d80893",
   "metadata": {},
   "source": [
    "# Checking Outliers"
   ]
  },
  {
   "cell_type": "code",
   "execution_count": 24,
   "id": "eb7ba306",
   "metadata": {},
   "outputs": [
    {
     "data": {
      "image/png": "[encoded data removed]",
      "text/plain": [
       "<Figure size 2160x6480 with 6 Axes>"
      ]
     },
     "metadata": {
      "needs_background": "light"
     },
     "output_type": "display_data"
    }
   ],
   "source": [
    "collist=salaries.columns.values\n",
    "ncol=30\n",
    "nrows=14\n",
    "plt.figure(figsize=(ncol,3*ncol))\n",
    "for i in range(0,len(collist)):\n",
    "    plt.subplot(nrows,ncol,i+1)\n",
    "    sns.boxplot(data=salaries[collist[i]])"
   ]
  },
  {
   "cell_type": "markdown",
   "id": "6690ac09",
   "metadata": {},
   "source": [
    "# Checking Skewness"
   ]
  },
  {
   "cell_type": "code",
   "execution_count": 25,
   "id": "e2fd6128",
   "metadata": {},
   "outputs": [
    {
     "data": {
      "text/plain": [
       "rank            -1.151164\n",
       "discipline      -0.177684\n",
       "yrs.since.phd    0.300880\n",
       "yrs.service      0.650569\n",
       "sex             -2.709958\n",
       "salary           0.714568\n",
       "dtype: float64"
      ]
     },
     "execution_count": 25,
     "metadata": {},
     "output_type": "execute_result"
    }
   ],
   "source": [
    "salaries.skew()"
   ]
  },
  {
   "cell_type": "code",
   "execution_count": 26,
   "id": "d7720bfb",
   "metadata": {},
   "outputs": [],
   "source": [
    "salaries.drop(['yrs.since.phd'],axis=1, inplace=True)"
   ]
  },
  {
   "cell_type": "code",
   "execution_count": 27,
   "id": "885f9f58",
   "metadata": {},
   "outputs": [],
   "source": [
    "salaries.drop(['rank'], axis=1, inplace =True)"
   ]
  },
  {
   "cell_type": "code",
   "execution_count": 28,
   "id": "c112b87e",
   "metadata": {},
   "outputs": [],
   "source": [
    "salaries.drop(['discipline'], axis=1, inplace=True)"
   ]
  },
  {
   "cell_type": "code",
   "execution_count": 29,
   "id": "2c5ee13d",
   "metadata": {},
   "outputs": [],
   "source": [
    "salaries.drop(['sex'], axis=1, inplace=True)"
   ]
  },
  {
   "cell_type": "markdown",
   "id": "1066a0e0",
   "metadata": {},
   "source": [
    "# Outliers removal with Scipy"
   ]
  },
  {
   "cell_type": "code",
   "execution_count": 30,
   "id": "9a09fc22",
   "metadata": {},
   "outputs": [
    {
     "data": {
      "text/html": [
       "<div>\n",
       "<style scoped>\n",
       "    .dataframe tbody tr th:only-of-type {\n",
       "        vertical-align: middle;\n",
       "    }\n",
       "\n",
       "    .dataframe tbody tr th {\n",
       "        vertical-align: top;\n",
       "    }\n",
       "\n",
       "    .dataframe thead th {\n",
       "        text-align: right;\n",
       "    }\n",
       "</style>\n",
       "<table border=\"1\" class=\"dataframe\">\n",
       "  <thead>\n",
       "    <tr style=\"text-align: right;\">\n",
       "      <th></th>\n",
       "      <th>yrs.service</th>\n",
       "      <th>salary</th>\n",
       "    </tr>\n",
       "  </thead>\n",
       "  <tbody>\n",
       "    <tr>\n",
       "      <th>0</th>\n",
       "      <td>0.029669</td>\n",
       "      <td>0.860919</td>\n",
       "    </tr>\n",
       "    <tr>\n",
       "      <th>1</th>\n",
       "      <td>0.124300</td>\n",
       "      <td>1.966672</td>\n",
       "    </tr>\n",
       "    <tr>\n",
       "      <th>2</th>\n",
       "      <td>1.125098</td>\n",
       "      <td>1.122495</td>\n",
       "    </tr>\n",
       "    <tr>\n",
       "      <th>3</th>\n",
       "      <td>1.646343</td>\n",
       "      <td>0.042760</td>\n",
       "    </tr>\n",
       "    <tr>\n",
       "      <th>4</th>\n",
       "      <td>1.800312</td>\n",
       "      <td>0.918768</td>\n",
       "    </tr>\n",
       "    <tr>\n",
       "      <th>...</th>\n",
       "      <td>...</td>\n",
       "      <td>...</td>\n",
       "    </tr>\n",
       "    <tr>\n",
       "      <th>392</th>\n",
       "      <td>0.953483</td>\n",
       "      <td>0.350418</td>\n",
       "    </tr>\n",
       "    <tr>\n",
       "      <th>393</th>\n",
       "      <td>0.106654</td>\n",
       "      <td>1.218396</td>\n",
       "    </tr>\n",
       "    <tr>\n",
       "      <th>394</th>\n",
       "      <td>0.568560</td>\n",
       "      <td>0.395640</td>\n",
       "    </tr>\n",
       "    <tr>\n",
       "      <th>395</th>\n",
       "      <td>0.201284</td>\n",
       "      <td>0.607502</td>\n",
       "    </tr>\n",
       "    <tr>\n",
       "      <th>396</th>\n",
       "      <td>1.048113</td>\n",
       "      <td>1.080017</td>\n",
       "    </tr>\n",
       "  </tbody>\n",
       "</table>\n",
       "<p>397 rows × 2 columns</p>\n",
       "</div>"
      ],
      "text/plain": [
       "     yrs.service    salary\n",
       "0       0.029669  0.860919\n",
       "1       0.124300  1.966672\n",
       "2       1.125098  1.122495\n",
       "3       1.646343  0.042760\n",
       "4       1.800312  0.918768\n",
       "..           ...       ...\n",
       "392     0.953483  0.350418\n",
       "393     0.106654  1.218396\n",
       "394     0.568560  0.395640\n",
       "395     0.201284  0.607502\n",
       "396     1.048113  1.080017\n",
       "\n",
       "[397 rows x 2 columns]"
      ]
     },
     "execution_count": 30,
     "metadata": {},
     "output_type": "execute_result"
    }
   ],
   "source": [
    "import scipy\n",
    "from scipy.stats import zscore\n",
    "\n",
    "z= np.abs(zscore(salaries))\n",
    "z"
   ]
  },
  {
   "cell_type": "code",
   "execution_count": 31,
   "id": "afe26a21",
   "metadata": {},
   "outputs": [
    {
     "name": "stdout",
     "output_type": "stream",
     "text": [
      "(array([ 43, 131, 330, 364], dtype=int64), array([1, 0, 0, 1], dtype=int64))\n"
     ]
    }
   ],
   "source": [
    "threshold=3\n",
    "print(np.where(z>3))"
   ]
  },
  {
   "cell_type": "code",
   "execution_count": 32,
   "id": "2584ee95",
   "metadata": {},
   "outputs": [
    {
     "data": {
      "text/html": [
       "<div>\n",
       "<style scoped>\n",
       "    .dataframe tbody tr th:only-of-type {\n",
       "        vertical-align: middle;\n",
       "    }\n",
       "\n",
       "    .dataframe tbody tr th {\n",
       "        vertical-align: top;\n",
       "    }\n",
       "\n",
       "    .dataframe thead th {\n",
       "        text-align: right;\n",
       "    }\n",
       "</style>\n",
       "<table border=\"1\" class=\"dataframe\">\n",
       "  <thead>\n",
       "    <tr style=\"text-align: right;\">\n",
       "      <th></th>\n",
       "      <th>yrs.service</th>\n",
       "      <th>salary</th>\n",
       "    </tr>\n",
       "  </thead>\n",
       "  <tbody>\n",
       "    <tr>\n",
       "      <th>0</th>\n",
       "      <td>0.029669</td>\n",
       "      <td>0.860919</td>\n",
       "    </tr>\n",
       "    <tr>\n",
       "      <th>1</th>\n",
       "      <td>0.124300</td>\n",
       "      <td>1.966672</td>\n",
       "    </tr>\n",
       "    <tr>\n",
       "      <th>2</th>\n",
       "      <td>1.125098</td>\n",
       "      <td>1.122495</td>\n",
       "    </tr>\n",
       "    <tr>\n",
       "      <th>3</th>\n",
       "      <td>1.646343</td>\n",
       "      <td>0.042760</td>\n",
       "    </tr>\n",
       "    <tr>\n",
       "      <th>4</th>\n",
       "      <td>1.800312</td>\n",
       "      <td>0.918768</td>\n",
       "    </tr>\n",
       "    <tr>\n",
       "      <th>...</th>\n",
       "      <td>...</td>\n",
       "      <td>...</td>\n",
       "    </tr>\n",
       "    <tr>\n",
       "      <th>392</th>\n",
       "      <td>0.953483</td>\n",
       "      <td>0.350418</td>\n",
       "    </tr>\n",
       "    <tr>\n",
       "      <th>393</th>\n",
       "      <td>0.106654</td>\n",
       "      <td>1.218396</td>\n",
       "    </tr>\n",
       "    <tr>\n",
       "      <th>394</th>\n",
       "      <td>0.568560</td>\n",
       "      <td>0.395640</td>\n",
       "    </tr>\n",
       "    <tr>\n",
       "      <th>395</th>\n",
       "      <td>0.201284</td>\n",
       "      <td>0.607502</td>\n",
       "    </tr>\n",
       "    <tr>\n",
       "      <th>396</th>\n",
       "      <td>1.048113</td>\n",
       "      <td>1.080017</td>\n",
       "    </tr>\n",
       "  </tbody>\n",
       "</table>\n",
       "<p>397 rows × 2 columns</p>\n",
       "</div>"
      ],
      "text/plain": [
       "     yrs.service    salary\n",
       "0       0.029669  0.860919\n",
       "1       0.124300  1.966672\n",
       "2       1.125098  1.122495\n",
       "3       1.646343  0.042760\n",
       "4       1.800312  0.918768\n",
       "..           ...       ...\n",
       "392     0.953483  0.350418\n",
       "393     0.106654  1.218396\n",
       "394     0.568560  0.395640\n",
       "395     0.201284  0.607502\n",
       "396     1.048113  1.080017\n",
       "\n",
       "[397 rows x 2 columns]"
      ]
     },
     "execution_count": 32,
     "metadata": {},
     "output_type": "execute_result"
    }
   ],
   "source": [
    "z"
   ]
  },
  {
   "cell_type": "code",
   "execution_count": 33,
   "id": "e23f0d71",
   "metadata": {},
   "outputs": [
    {
     "data": {
      "text/plain": [
       "yrs.service    1.569358\n",
       "salary         3.895377\n",
       "Name: 43, dtype: float64"
      ]
     },
     "execution_count": 33,
     "metadata": {},
     "output_type": "execute_result"
    }
   ],
   "source": [
    "z.iloc[43]"
   ]
  },
  {
   "cell_type": "code",
   "execution_count": 34,
   "id": "e6c65491",
   "metadata": {},
   "outputs": [],
   "source": [
    "salaries_new= salaries[(z<3).all(axis=1)]"
   ]
  },
  {
   "cell_type": "code",
   "execution_count": 35,
   "id": "117b6a58",
   "metadata": {},
   "outputs": [
    {
     "name": "stdout",
     "output_type": "stream",
     "text": [
      "old_dataframe (397, 2)\n",
      "new_dataframe (393, 2)\n",
      "total_dropped_rows 4\n"
     ]
    }
   ],
   "source": [
    "print('old_dataframe',salaries.shape)\n",
    "print('new_dataframe', salaries_new.shape)\n",
    "print('total_dropped_rows', salaries.shape[0]-salaries_new.shape[0])"
   ]
  },
  {
   "cell_type": "code",
   "execution_count": 36,
   "id": "cc974e24",
   "metadata": {},
   "outputs": [
    {
     "data": {
      "text/plain": [
       "10.831234256926953"
      ]
     },
     "execution_count": 36,
     "metadata": {},
     "output_type": "execute_result"
    }
   ],
   "source": [
    "loss_percent=((397-354)/397)*100\n",
    "loss_percent"
   ]
  },
  {
   "cell_type": "code",
   "execution_count": 37,
   "id": "931c1881",
   "metadata": {},
   "outputs": [
    {
     "data": {
      "text/html": [
       "<div>\n",
       "<style scoped>\n",
       "    .dataframe tbody tr th:only-of-type {\n",
       "        vertical-align: middle;\n",
       "    }\n",
       "\n",
       "    .dataframe tbody tr th {\n",
       "        vertical-align: top;\n",
       "    }\n",
       "\n",
       "    .dataframe thead th {\n",
       "        text-align: right;\n",
       "    }\n",
       "</style>\n",
       "<table border=\"1\" class=\"dataframe\">\n",
       "  <thead>\n",
       "    <tr style=\"text-align: right;\">\n",
       "      <th></th>\n",
       "      <th>yrs.service</th>\n",
       "      <th>salary</th>\n",
       "    </tr>\n",
       "  </thead>\n",
       "  <tbody>\n",
       "    <tr>\n",
       "      <th>0</th>\n",
       "      <td>18.0</td>\n",
       "      <td>139750.0</td>\n",
       "    </tr>\n",
       "    <tr>\n",
       "      <th>1</th>\n",
       "      <td>16.0</td>\n",
       "      <td>173200.0</td>\n",
       "    </tr>\n",
       "    <tr>\n",
       "      <th>2</th>\n",
       "      <td>3.0</td>\n",
       "      <td>79750.0</td>\n",
       "    </tr>\n",
       "    <tr>\n",
       "      <th>3</th>\n",
       "      <td>39.0</td>\n",
       "      <td>115000.0</td>\n",
       "    </tr>\n",
       "    <tr>\n",
       "      <th>4</th>\n",
       "      <td>41.0</td>\n",
       "      <td>141500.0</td>\n",
       "    </tr>\n",
       "    <tr>\n",
       "      <th>...</th>\n",
       "      <td>...</td>\n",
       "      <td>...</td>\n",
       "    </tr>\n",
       "    <tr>\n",
       "      <th>392</th>\n",
       "      <td>30.0</td>\n",
       "      <td>103106.0</td>\n",
       "    </tr>\n",
       "    <tr>\n",
       "      <th>393</th>\n",
       "      <td>19.0</td>\n",
       "      <td>150564.0</td>\n",
       "    </tr>\n",
       "    <tr>\n",
       "      <th>394</th>\n",
       "      <td>25.0</td>\n",
       "      <td>101738.0</td>\n",
       "    </tr>\n",
       "    <tr>\n",
       "      <th>395</th>\n",
       "      <td>15.0</td>\n",
       "      <td>95329.0</td>\n",
       "    </tr>\n",
       "    <tr>\n",
       "      <th>396</th>\n",
       "      <td>4.0</td>\n",
       "      <td>81035.0</td>\n",
       "    </tr>\n",
       "  </tbody>\n",
       "</table>\n",
       "<p>393 rows × 2 columns</p>\n",
       "</div>"
      ],
      "text/plain": [
       "     yrs.service    salary\n",
       "0           18.0  139750.0\n",
       "1           16.0  173200.0\n",
       "2            3.0   79750.0\n",
       "3           39.0  115000.0\n",
       "4           41.0  141500.0\n",
       "..           ...       ...\n",
       "392         30.0  103106.0\n",
       "393         19.0  150564.0\n",
       "394         25.0  101738.0\n",
       "395         15.0   95329.0\n",
       "396          4.0   81035.0\n",
       "\n",
       "[393 rows x 2 columns]"
      ]
     },
     "execution_count": 37,
     "metadata": {},
     "output_type": "execute_result"
    }
   ],
   "source": [
    "salaries_new"
   ]
  },
  {
   "cell_type": "code",
   "execution_count": 38,
   "id": "d19ef79f",
   "metadata": {},
   "outputs": [],
   "source": [
    "x=salaries_new.iloc[:,:-1]"
   ]
  },
  {
   "cell_type": "code",
   "execution_count": 40,
   "id": "2e408c09",
   "metadata": {},
   "outputs": [],
   "source": [
    "y=salaries_new.iloc[:,-1]"
   ]
  },
  {
   "cell_type": "markdown",
   "id": "3a1f3841",
   "metadata": {},
   "source": [
    "# Removing all skewness"
   ]
  },
  {
   "cell_type": "code",
   "execution_count": 41,
   "id": "585a258c",
   "metadata": {},
   "outputs": [
    {
     "data": {
      "text/plain": [
       "array([[ 0.26888583],\n",
       "       [ 0.1209006 ],\n",
       "       [-1.28449532],\n",
       "       [ 1.46109915],\n",
       "       [ 1.55315864],\n",
       "       [-0.84005312],\n",
       "       [ 0.60337981],\n",
       "       [ 1.72997607],\n",
       "       [ 0.40814245],\n",
       "       [ 0.26888583],\n",
       "       [-0.60348074],\n",
       "       [-1.47508922],\n",
       "       [-1.70716059],\n",
       "       [-2.02223253],\n",
       "       [ 0.26888583],\n",
       "       [-1.28449532],\n",
       "       [ 0.40814245],\n",
       "       [ 1.21866709],\n",
       "       [ 0.60337981],\n",
       "       [ 1.31789249],\n",
       "       [ 0.78500622],\n",
       "       [ 1.06349813],\n",
       "       [ 1.00992197],\n",
       "       [ 0.33951754],\n",
       "       [-0.60348074],\n",
       "       [-0.60348074],\n",
       "       [ 0.60337981],\n",
       "       [-1.28449532],\n",
       "       [-2.02223253],\n",
       "       [-0.60348074],\n",
       "       [-1.11979784],\n",
       "       [-1.47508922],\n",
       "       [-0.49655514],\n",
       "       [-1.47508922],\n",
       "       [-1.47508922],\n",
       "       [-2.02223253],\n",
       "       [ 0.47490923],\n",
       "       [-1.11979784],\n",
       "       [ 1.06349813],\n",
       "       [-0.49655514],\n",
       "       [-1.47508922],\n",
       "       [ 0.60337981],\n",
       "       [ 0.84294347],\n",
       "       [ 0.33951754],\n",
       "       [ 0.04312953],\n",
       "       [ 0.89970038],\n",
       "       [ 0.33951754],\n",
       "       [ 0.72581897],\n",
       "       [-1.70716059],\n",
       "       [ 0.89970038],\n",
       "       [-0.29986145],\n",
       "       [-1.28449532],\n",
       "       [-0.49655514],\n",
       "       [-0.29986145],\n",
       "       [-0.97317433],\n",
       "       [ 0.47490923],\n",
       "       [-0.60348074],\n",
       "       [-0.49655514],\n",
       "       [-1.28449532],\n",
       "       [-0.60348074],\n",
       "       [-1.47508922],\n",
       "       [ 1.06349813],\n",
       "       [-0.29986145],\n",
       "       [-1.28449532],\n",
       "       [-0.60348074],\n",
       "       [-0.2085903 ],\n",
       "       [ 1.06349813],\n",
       "       [ 0.19607812],\n",
       "       [ 1.31789249],\n",
       "       [-1.47508922],\n",
       "       [ 1.72997607],\n",
       "       [ 0.33951754],\n",
       "       [ 1.21866709],\n",
       "       [ 0.60337981],\n",
       "       [-1.28449532],\n",
       "       [-1.28449532],\n",
       "       [ 0.33951754],\n",
       "       [-1.70716059],\n",
       "       [-1.47508922],\n",
       "       [ 0.89970038],\n",
       "       [ 0.1209006 ],\n",
       "       [ 0.40814245],\n",
       "       [-1.47508922],\n",
       "       [ 0.26888583],\n",
       "       [-0.03749559],\n",
       "       [ 1.36634754],\n",
       "       [-1.47508922],\n",
       "       [ 0.72581897],\n",
       "       [-0.71749486],\n",
       "       [-0.97317433],\n",
       "       [-0.71749486],\n",
       "       [-0.71749486],\n",
       "       [ 1.41407334],\n",
       "       [ 0.40814245],\n",
       "       [-2.02223253],\n",
       "       [-0.2085903 ],\n",
       "       [-0.71749486],\n",
       "       [-0.03749559],\n",
       "       [ 0.78500622],\n",
       "       [ 0.72581897],\n",
       "       [ 0.60337981],\n",
       "       [-0.97317433],\n",
       "       [-0.03749559],\n",
       "       [-0.39562866],\n",
       "       [ 0.89970038],\n",
       "       [-0.60348074],\n",
       "       [-0.60348074],\n",
       "       [-0.60348074],\n",
       "       [ 1.06349813],\n",
       "       [ 0.1209006 ],\n",
       "       [ 0.1209006 ],\n",
       "       [-1.70716059],\n",
       "       [ 1.36634754],\n",
       "       [-2.02223253],\n",
       "       [-0.49655514],\n",
       "       [ 0.9553405 ],\n",
       "       [ 1.31789249],\n",
       "       [-1.70716059],\n",
       "       [-1.28449532],\n",
       "       [-0.03749559],\n",
       "       [ 1.11611808],\n",
       "       [ 0.53994937],\n",
       "       [ 0.53994937],\n",
       "       [ 0.53994937],\n",
       "       [ 1.89813923],\n",
       "       [ 0.78500622],\n",
       "       [-2.02223253],\n",
       "       [ 1.00992197],\n",
       "       [-1.47508922],\n",
       "       [-0.49655514],\n",
       "       [-0.60348074],\n",
       "       [-1.70716059],\n",
       "       [ 0.72581897],\n",
       "       [ 0.26888583],\n",
       "       [-0.03749559],\n",
       "       [-0.03749559],\n",
       "       [-0.71749486],\n",
       "       [ 0.26888583],\n",
       "       [-0.60348074],\n",
       "       [-0.39562866],\n",
       "       [-0.29986145],\n",
       "       [-1.28449532],\n",
       "       [ 0.84294347],\n",
       "       [ 0.89970038],\n",
       "       [-1.11979784],\n",
       "       [ 0.84294347],\n",
       "       [ 0.78500622],\n",
       "       [-1.28449532],\n",
       "       [-0.2085903 ],\n",
       "       [-1.11979784],\n",
       "       [-0.49655514],\n",
       "       [-0.39562866],\n",
       "       [-2.02223253],\n",
       "       [ 0.47490923],\n",
       "       [ 0.26888583],\n",
       "       [-2.02223253],\n",
       "       [-0.84005312],\n",
       "       [ 0.1209006 ],\n",
       "       [-1.47508922],\n",
       "       [ 0.33951754],\n",
       "       [-0.71749486],\n",
       "       [-1.28449532],\n",
       "       [-2.02223253],\n",
       "       [-0.60348074],\n",
       "       [ 0.1209006 ],\n",
       "       [ 0.33951754],\n",
       "       [-0.84005312],\n",
       "       [ 0.26888583],\n",
       "       [-0.97317433],\n",
       "       [ 0.33951754],\n",
       "       [ 0.66530506],\n",
       "       [ 0.40814245],\n",
       "       [-0.84005312],\n",
       "       [ 0.72581897],\n",
       "       [-0.71749486],\n",
       "       [-0.49655514],\n",
       "       [-0.03749559],\n",
       "       [-1.28449532],\n",
       "       [-0.29986145],\n",
       "       [-0.97317433],\n",
       "       [-0.60348074],\n",
       "       [ 0.53994937],\n",
       "       [ 0.60337981],\n",
       "       [ 1.00992197],\n",
       "       [-0.39562866],\n",
       "       [-0.39562866],\n",
       "       [ 0.89970038],\n",
       "       [ 0.33951754],\n",
       "       [-0.49655514],\n",
       "       [ 0.53994937],\n",
       "       [ 0.26888583],\n",
       "       [ 0.33951754],\n",
       "       [ 2.05871693],\n",
       "       [-0.71749486],\n",
       "       [-1.11979784],\n",
       "       [-1.11979784],\n",
       "       [ 1.16782711],\n",
       "       [ 0.53994937],\n",
       "       [-1.11979784],\n",
       "       [ 1.50745235],\n",
       "       [ 0.19607812],\n",
       "       [ 0.19607812],\n",
       "       [-0.97317433],\n",
       "       [-1.47508922],\n",
       "       [ 1.16782711],\n",
       "       [ 0.26888583],\n",
       "       [-1.47508922],\n",
       "       [ 0.40814245],\n",
       "       [-1.28449532],\n",
       "       [ 1.46109915],\n",
       "       [-0.71749486],\n",
       "       [ 0.33951754],\n",
       "       [-1.70716059],\n",
       "       [-0.29986145],\n",
       "       [-0.29986145],\n",
       "       [ 0.53994937],\n",
       "       [-0.71749486],\n",
       "       [-0.29986145],\n",
       "       [ 0.47490923],\n",
       "       [-0.39562866],\n",
       "       [-0.84005312],\n",
       "       [ 0.40814245],\n",
       "       [ 1.26867686],\n",
       "       [ 0.40814245],\n",
       "       [-1.70716059],\n",
       "       [-0.71749486],\n",
       "       [-0.29986145],\n",
       "       [ 1.41407334],\n",
       "       [ 0.84294347],\n",
       "       [ 0.66530506],\n",
       "       [ 0.33951754],\n",
       "       [ 0.33951754],\n",
       "       [-1.28449532],\n",
       "       [ 0.19607812],\n",
       "       [ 0.72581897],\n",
       "       [-0.84005312],\n",
       "       [ 1.50745235],\n",
       "       [-0.84005312],\n",
       "       [-1.28449532],\n",
       "       [ 1.00992197],\n",
       "       [ 1.36634754],\n",
       "       [ 0.60337981],\n",
       "       [ 0.60337981],\n",
       "       [-0.29986145],\n",
       "       [ 0.60337981],\n",
       "       [ 0.26888583],\n",
       "       [ 0.60337981],\n",
       "       [-0.71749486],\n",
       "       [ 1.46109915],\n",
       "       [-0.60348074],\n",
       "       [-0.2085903 ],\n",
       "       [-1.47508922],\n",
       "       [-0.71749486],\n",
       "       [-0.60348074],\n",
       "       [ 0.53994937],\n",
       "       [ 0.60337981],\n",
       "       [-1.28449532],\n",
       "       [ 1.00992197],\n",
       "       [ 1.16782711],\n",
       "       [ 1.72997607],\n",
       "       [ 0.78500622],\n",
       "       [ 1.06349813],\n",
       "       [ 1.26867686],\n",
       "       [ 1.00992197],\n",
       "       [ 1.64272548],\n",
       "       [-0.39562866],\n",
       "       [ 1.68663008],\n",
       "       [-0.71749486],\n",
       "       [ 1.50745235],\n",
       "       [ 0.26888583],\n",
       "       [-1.70716059],\n",
       "       [-1.11979784],\n",
       "       [-1.28449532],\n",
       "       [-0.84005312],\n",
       "       [ 1.85684746],\n",
       "       [ 0.84294347],\n",
       "       [ 0.26888583],\n",
       "       [ 1.77278246],\n",
       "       [ 1.41407334],\n",
       "       [ 0.84294347],\n",
       "       [ 1.97931794],\n",
       "       [ 1.64272548],\n",
       "       [-0.84005312],\n",
       "       [ 1.89813923],\n",
       "       [ 0.84294347],\n",
       "       [-2.02223253],\n",
       "       [ 0.84294347],\n",
       "       [-0.97317433],\n",
       "       [-0.71749486],\n",
       "       [ 0.89970038],\n",
       "       [-0.49655514],\n",
       "       [-1.70716059],\n",
       "       [-0.71749486],\n",
       "       [ 1.31789249],\n",
       "       [ 0.26888583],\n",
       "       [-0.29986145],\n",
       "       [ 1.64272548],\n",
       "       [ 1.46109915],\n",
       "       [ 1.31789249],\n",
       "       [ 0.1209006 ],\n",
       "       [-0.12128092],\n",
       "       [-1.11979784],\n",
       "       [ 1.68663008],\n",
       "       [ 1.06349813],\n",
       "       [-1.11979784],\n",
       "       [ 0.89970038],\n",
       "       [-2.02223253],\n",
       "       [ 0.04312953],\n",
       "       [-0.71749486],\n",
       "       [-0.49655514],\n",
       "       [ 0.33951754],\n",
       "       [ 1.26867686],\n",
       "       [-0.84005312],\n",
       "       [-1.28449532],\n",
       "       [-0.49655514],\n",
       "       [ 1.72997607],\n",
       "       [ 0.1209006 ],\n",
       "       [ 0.04312953],\n",
       "       [ 0.60337981],\n",
       "       [-0.49655514],\n",
       "       [-0.29986145],\n",
       "       [ 0.04312953],\n",
       "       [ 1.06349813],\n",
       "       [-1.11979784],\n",
       "       [ 0.04312953],\n",
       "       [ 1.36634754],\n",
       "       [-0.39562866],\n",
       "       [ 0.60337981],\n",
       "       [-0.49655514],\n",
       "       [-0.39562866],\n",
       "       [ 0.33951754],\n",
       "       [-0.84005312],\n",
       "       [ 1.41407334],\n",
       "       [ 0.60337981],\n",
       "       [-0.2085903 ],\n",
       "       [ 0.72581897],\n",
       "       [ 0.04312953],\n",
       "       [-0.29986145],\n",
       "       [ 0.19607812],\n",
       "       [ 1.41407334],\n",
       "       [ 1.06349813],\n",
       "       [ 1.26867686],\n",
       "       [-0.39562866],\n",
       "       [ 0.84294347],\n",
       "       [ 1.16782711],\n",
       "       [-1.28449532],\n",
       "       [ 0.89970038],\n",
       "       [ 1.89813923],\n",
       "       [ 1.41407334],\n",
       "       [ 0.84294347],\n",
       "       [ 0.40814245],\n",
       "       [-1.70716059],\n",
       "       [ 0.47490923],\n",
       "       [ 1.50745235],\n",
       "       [ 1.26867686],\n",
       "       [-0.03749559],\n",
       "       [-1.11979784],\n",
       "       [-0.29986145],\n",
       "       [ 0.04312953],\n",
       "       [ 1.00992197],\n",
       "       [ 0.19607812],\n",
       "       [ 1.50745235],\n",
       "       [-0.39562866],\n",
       "       [-1.70716059],\n",
       "       [ 1.00992197],\n",
       "       [ 1.06349813],\n",
       "       [-0.60348074],\n",
       "       [ 0.40814245],\n",
       "       [-0.71749486],\n",
       "       [ 0.78500622],\n",
       "       [ 0.33951754],\n",
       "       [ 0.78500622],\n",
       "       [-1.70716059],\n",
       "       [-1.28449532],\n",
       "       [ 1.41407334],\n",
       "       [-0.60348074],\n",
       "       [-1.28449532],\n",
       "       [ 0.60337981],\n",
       "       [-0.97317433],\n",
       "       [ 1.68663008],\n",
       "       [ 0.47490923],\n",
       "       [-0.49655514],\n",
       "       [ 0.84294347],\n",
       "       [ 0.04312953],\n",
       "       [ 1.31789249],\n",
       "       [ 0.26888583],\n",
       "       [ 0.33951754],\n",
       "       [ 0.33951754],\n",
       "       [ 1.00992197],\n",
       "       [ 0.33951754],\n",
       "       [ 0.72581897],\n",
       "       [ 0.04312953],\n",
       "       [-1.11979784]])"
      ]
     },
     "execution_count": 41,
     "metadata": {},
     "output_type": "execute_result"
    }
   ],
   "source": [
    "x=power_transform(x,method='yeo-johnson')\n",
    "x"
   ]
  },
  {
   "cell_type": "markdown",
   "id": "889db6dd",
   "metadata": {},
   "source": [
    "# Scaling using Standard Scaler"
   ]
  },
  {
   "cell_type": "code",
   "execution_count": 42,
   "id": "9e66d18a",
   "metadata": {},
   "outputs": [
    {
     "data": {
      "text/plain": [
       "array([[ 0.26888583],\n",
       "       [ 0.1209006 ],\n",
       "       [-1.28449532],\n",
       "       [ 1.46109915],\n",
       "       [ 1.55315864],\n",
       "       [-0.84005312],\n",
       "       [ 0.60337981],\n",
       "       [ 1.72997607],\n",
       "       [ 0.40814245],\n",
       "       [ 0.26888583],\n",
       "       [-0.60348074],\n",
       "       [-1.47508922],\n",
       "       [-1.70716059],\n",
       "       [-2.02223253],\n",
       "       [ 0.26888583],\n",
       "       [-1.28449532],\n",
       "       [ 0.40814245],\n",
       "       [ 1.21866709],\n",
       "       [ 0.60337981],\n",
       "       [ 1.31789249],\n",
       "       [ 0.78500622],\n",
       "       [ 1.06349813],\n",
       "       [ 1.00992197],\n",
       "       [ 0.33951754],\n",
       "       [-0.60348074],\n",
       "       [-0.60348074],\n",
       "       [ 0.60337981],\n",
       "       [-1.28449532],\n",
       "       [-2.02223253],\n",
       "       [-0.60348074],\n",
       "       [-1.11979784],\n",
       "       [-1.47508922],\n",
       "       [-0.49655514],\n",
       "       [-1.47508922],\n",
       "       [-1.47508922],\n",
       "       [-2.02223253],\n",
       "       [ 0.47490923],\n",
       "       [-1.11979784],\n",
       "       [ 1.06349813],\n",
       "       [-0.49655514],\n",
       "       [-1.47508922],\n",
       "       [ 0.60337981],\n",
       "       [ 0.84294347],\n",
       "       [ 0.33951754],\n",
       "       [ 0.04312953],\n",
       "       [ 0.89970038],\n",
       "       [ 0.33951754],\n",
       "       [ 0.72581897],\n",
       "       [-1.70716059],\n",
       "       [ 0.89970038],\n",
       "       [-0.29986145],\n",
       "       [-1.28449532],\n",
       "       [-0.49655514],\n",
       "       [-0.29986145],\n",
       "       [-0.97317433],\n",
       "       [ 0.47490923],\n",
       "       [-0.60348074],\n",
       "       [-0.49655514],\n",
       "       [-1.28449532],\n",
       "       [-0.60348074],\n",
       "       [-1.47508922],\n",
       "       [ 1.06349813],\n",
       "       [-0.29986145],\n",
       "       [-1.28449532],\n",
       "       [-0.60348074],\n",
       "       [-0.2085903 ],\n",
       "       [ 1.06349813],\n",
       "       [ 0.19607812],\n",
       "       [ 1.31789249],\n",
       "       [-1.47508922],\n",
       "       [ 1.72997607],\n",
       "       [ 0.33951754],\n",
       "       [ 1.21866709],\n",
       "       [ 0.60337981],\n",
       "       [-1.28449532],\n",
       "       [-1.28449532],\n",
       "       [ 0.33951754],\n",
       "       [-1.70716059],\n",
       "       [-1.47508922],\n",
       "       [ 0.89970038],\n",
       "       [ 0.1209006 ],\n",
       "       [ 0.40814245],\n",
       "       [-1.47508922],\n",
       "       [ 0.26888583],\n",
       "       [-0.03749559],\n",
       "       [ 1.36634754],\n",
       "       [-1.47508922],\n",
       "       [ 0.72581897],\n",
       "       [-0.71749486],\n",
       "       [-0.97317433],\n",
       "       [-0.71749486],\n",
       "       [-0.71749486],\n",
       "       [ 1.41407334],\n",
       "       [ 0.40814245],\n",
       "       [-2.02223253],\n",
       "       [-0.2085903 ],\n",
       "       [-0.71749486],\n",
       "       [-0.03749559],\n",
       "       [ 0.78500622],\n",
       "       [ 0.72581897],\n",
       "       [ 0.60337981],\n",
       "       [-0.97317433],\n",
       "       [-0.03749559],\n",
       "       [-0.39562866],\n",
       "       [ 0.89970038],\n",
       "       [-0.60348074],\n",
       "       [-0.60348074],\n",
       "       [-0.60348074],\n",
       "       [ 1.06349813],\n",
       "       [ 0.1209006 ],\n",
       "       [ 0.1209006 ],\n",
       "       [-1.70716059],\n",
       "       [ 1.36634754],\n",
       "       [-2.02223253],\n",
       "       [-0.49655514],\n",
       "       [ 0.9553405 ],\n",
       "       [ 1.31789249],\n",
       "       [-1.70716059],\n",
       "       [-1.28449532],\n",
       "       [-0.03749559],\n",
       "       [ 1.11611808],\n",
       "       [ 0.53994937],\n",
       "       [ 0.53994937],\n",
       "       [ 0.53994937],\n",
       "       [ 1.89813923],\n",
       "       [ 0.78500622],\n",
       "       [-2.02223253],\n",
       "       [ 1.00992197],\n",
       "       [-1.47508922],\n",
       "       [-0.49655514],\n",
       "       [-0.60348074],\n",
       "       [-1.70716059],\n",
       "       [ 0.72581897],\n",
       "       [ 0.26888583],\n",
       "       [-0.03749559],\n",
       "       [-0.03749559],\n",
       "       [-0.71749486],\n",
       "       [ 0.26888583],\n",
       "       [-0.60348074],\n",
       "       [-0.39562866],\n",
       "       [-0.29986145],\n",
       "       [-1.28449532],\n",
       "       [ 0.84294347],\n",
       "       [ 0.89970038],\n",
       "       [-1.11979784],\n",
       "       [ 0.84294347],\n",
       "       [ 0.78500622],\n",
       "       [-1.28449532],\n",
       "       [-0.2085903 ],\n",
       "       [-1.11979784],\n",
       "       [-0.49655514],\n",
       "       [-0.39562866],\n",
       "       [-2.02223253],\n",
       "       [ 0.47490923],\n",
       "       [ 0.26888583],\n",
       "       [-2.02223253],\n",
       "       [-0.84005312],\n",
       "       [ 0.1209006 ],\n",
       "       [-1.47508922],\n",
       "       [ 0.33951754],\n",
       "       [-0.71749486],\n",
       "       [-1.28449532],\n",
       "       [-2.02223253],\n",
       "       [-0.60348074],\n",
       "       [ 0.1209006 ],\n",
       "       [ 0.33951754],\n",
       "       [-0.84005312],\n",
       "       [ 0.26888583],\n",
       "       [-0.97317433],\n",
       "       [ 0.33951754],\n",
       "       [ 0.66530506],\n",
       "       [ 0.40814245],\n",
       "       [-0.84005312],\n",
       "       [ 0.72581897],\n",
       "       [-0.71749486],\n",
       "       [-0.49655514],\n",
       "       [-0.03749559],\n",
       "       [-1.28449532],\n",
       "       [-0.29986145],\n",
       "       [-0.97317433],\n",
       "       [-0.60348074],\n",
       "       [ 0.53994937],\n",
       "       [ 0.60337981],\n",
       "       [ 1.00992197],\n",
       "       [-0.39562866],\n",
       "       [-0.39562866],\n",
       "       [ 0.89970038],\n",
       "       [ 0.33951754],\n",
       "       [-0.49655514],\n",
       "       [ 0.53994937],\n",
       "       [ 0.26888583],\n",
       "       [ 0.33951754],\n",
       "       [ 2.05871693],\n",
       "       [-0.71749486],\n",
       "       [-1.11979784],\n",
       "       [-1.11979784],\n",
       "       [ 1.16782711],\n",
       "       [ 0.53994937],\n",
       "       [-1.11979784],\n",
       "       [ 1.50745235],\n",
       "       [ 0.19607812],\n",
       "       [ 0.19607812],\n",
       "       [-0.97317433],\n",
       "       [-1.47508922],\n",
       "       [ 1.16782711],\n",
       "       [ 0.26888583],\n",
       "       [-1.47508922],\n",
       "       [ 0.40814245],\n",
       "       [-1.28449532],\n",
       "       [ 1.46109915],\n",
       "       [-0.71749486],\n",
       "       [ 0.33951754],\n",
       "       [-1.70716059],\n",
       "       [-0.29986145],\n",
       "       [-0.29986145],\n",
       "       [ 0.53994937],\n",
       "       [-0.71749486],\n",
       "       [-0.29986145],\n",
       "       [ 0.47490923],\n",
       "       [-0.39562866],\n",
       "       [-0.84005312],\n",
       "       [ 0.40814245],\n",
       "       [ 1.26867686],\n",
       "       [ 0.40814245],\n",
       "       [-1.70716059],\n",
       "       [-0.71749486],\n",
       "       [-0.29986145],\n",
       "       [ 1.41407334],\n",
       "       [ 0.84294347],\n",
       "       [ 0.66530506],\n",
       "       [ 0.33951754],\n",
       "       [ 0.33951754],\n",
       "       [-1.28449532],\n",
       "       [ 0.19607812],\n",
       "       [ 0.72581897],\n",
       "       [-0.84005312],\n",
       "       [ 1.50745235],\n",
       "       [-0.84005312],\n",
       "       [-1.28449532],\n",
       "       [ 1.00992197],\n",
       "       [ 1.36634754],\n",
       "       [ 0.60337981],\n",
       "       [ 0.60337981],\n",
       "       [-0.29986145],\n",
       "       [ 0.60337981],\n",
       "       [ 0.26888583],\n",
       "       [ 0.60337981],\n",
       "       [-0.71749486],\n",
       "       [ 1.46109915],\n",
       "       [-0.60348074],\n",
       "       [-0.2085903 ],\n",
       "       [-1.47508922],\n",
       "       [-0.71749486],\n",
       "       [-0.60348074],\n",
       "       [ 0.53994937],\n",
       "       [ 0.60337981],\n",
       "       [-1.28449532],\n",
       "       [ 1.00992197],\n",
       "       [ 1.16782711],\n",
       "       [ 1.72997607],\n",
       "       [ 0.78500622],\n",
       "       [ 1.06349813],\n",
       "       [ 1.26867686],\n",
       "       [ 1.00992197],\n",
       "       [ 1.64272548],\n",
       "       [-0.39562866],\n",
       "       [ 1.68663008],\n",
       "       [-0.71749486],\n",
       "       [ 1.50745235],\n",
       "       [ 0.26888583],\n",
       "       [-1.70716059],\n",
       "       [-1.11979784],\n",
       "       [-1.28449532],\n",
       "       [-0.84005312],\n",
       "       [ 1.85684746],\n",
       "       [ 0.84294347],\n",
       "       [ 0.26888583],\n",
       "       [ 1.77278246],\n",
       "       [ 1.41407334],\n",
       "       [ 0.84294347],\n",
       "       [ 1.97931794],\n",
       "       [ 1.64272548],\n",
       "       [-0.84005312],\n",
       "       [ 1.89813923],\n",
       "       [ 0.84294347],\n",
       "       [-2.02223253],\n",
       "       [ 0.84294347],\n",
       "       [-0.97317433],\n",
       "       [-0.71749486],\n",
       "       [ 0.89970038],\n",
       "       [-0.49655514],\n",
       "       [-1.70716059],\n",
       "       [-0.71749486],\n",
       "       [ 1.31789249],\n",
       "       [ 0.26888583],\n",
       "       [-0.29986145],\n",
       "       [ 1.64272548],\n",
       "       [ 1.46109915],\n",
       "       [ 1.31789249],\n",
       "       [ 0.1209006 ],\n",
       "       [-0.12128092],\n",
       "       [-1.11979784],\n",
       "       [ 1.68663008],\n",
       "       [ 1.06349813],\n",
       "       [-1.11979784],\n",
       "       [ 0.89970038],\n",
       "       [-2.02223253],\n",
       "       [ 0.04312953],\n",
       "       [-0.71749486],\n",
       "       [-0.49655514],\n",
       "       [ 0.33951754],\n",
       "       [ 1.26867686],\n",
       "       [-0.84005312],\n",
       "       [-1.28449532],\n",
       "       [-0.49655514],\n",
       "       [ 1.72997607],\n",
       "       [ 0.1209006 ],\n",
       "       [ 0.04312953],\n",
       "       [ 0.60337981],\n",
       "       [-0.49655514],\n",
       "       [-0.29986145],\n",
       "       [ 0.04312953],\n",
       "       [ 1.06349813],\n",
       "       [-1.11979784],\n",
       "       [ 0.04312953],\n",
       "       [ 1.36634754],\n",
       "       [-0.39562866],\n",
       "       [ 0.60337981],\n",
       "       [-0.49655514],\n",
       "       [-0.39562866],\n",
       "       [ 0.33951754],\n",
       "       [-0.84005312],\n",
       "       [ 1.41407334],\n",
       "       [ 0.60337981],\n",
       "       [-0.2085903 ],\n",
       "       [ 0.72581897],\n",
       "       [ 0.04312953],\n",
       "       [-0.29986145],\n",
       "       [ 0.19607812],\n",
       "       [ 1.41407334],\n",
       "       [ 1.06349813],\n",
       "       [ 1.26867686],\n",
       "       [-0.39562866],\n",
       "       [ 0.84294347],\n",
       "       [ 1.16782711],\n",
       "       [-1.28449532],\n",
       "       [ 0.89970038],\n",
       "       [ 1.89813923],\n",
       "       [ 1.41407334],\n",
       "       [ 0.84294347],\n",
       "       [ 0.40814245],\n",
       "       [-1.70716059],\n",
       "       [ 0.47490923],\n",
       "       [ 1.50745235],\n",
       "       [ 1.26867686],\n",
       "       [-0.03749559],\n",
       "       [-1.11979784],\n",
       "       [-0.29986145],\n",
       "       [ 0.04312953],\n",
       "       [ 1.00992197],\n",
       "       [ 0.19607812],\n",
       "       [ 1.50745235],\n",
       "       [-0.39562866],\n",
       "       [-1.70716059],\n",
       "       [ 1.00992197],\n",
       "       [ 1.06349813],\n",
       "       [-0.60348074],\n",
       "       [ 0.40814245],\n",
       "       [-0.71749486],\n",
       "       [ 0.78500622],\n",
       "       [ 0.33951754],\n",
       "       [ 0.78500622],\n",
       "       [-1.70716059],\n",
       "       [-1.28449532],\n",
       "       [ 1.41407334],\n",
       "       [-0.60348074],\n",
       "       [-1.28449532],\n",
       "       [ 0.60337981],\n",
       "       [-0.97317433],\n",
       "       [ 1.68663008],\n",
       "       [ 0.47490923],\n",
       "       [-0.49655514],\n",
       "       [ 0.84294347],\n",
       "       [ 0.04312953],\n",
       "       [ 1.31789249],\n",
       "       [ 0.26888583],\n",
       "       [ 0.33951754],\n",
       "       [ 0.33951754],\n",
       "       [ 1.00992197],\n",
       "       [ 0.33951754],\n",
       "       [ 0.72581897],\n",
       "       [ 0.04312953],\n",
       "       [-1.11979784]])"
      ]
     },
     "execution_count": 42,
     "metadata": {},
     "output_type": "execute_result"
    }
   ],
   "source": [
    "scaler=StandardScaler()\n",
    "x=scaler.fit_transform(x)\n",
    "x"
   ]
  },
  {
   "cell_type": "markdown",
   "id": "8f3bf02d",
   "metadata": {},
   "source": [
    "# Creating Model"
   ]
  },
  {
   "cell_type": "code",
   "execution_count": 43,
   "id": "617accfe",
   "metadata": {},
   "outputs": [],
   "source": [
    "from sklearn.model_selection import train_test_split\n",
    "from sklearn.linear_model import LinearRegression\n",
    "from sklearn.metrics import mean_squared_error,r2_score"
   ]
  },
  {
   "cell_type": "markdown",
   "id": "c9176b56",
   "metadata": {},
   "source": [
    "# Linear Regression Model"
   ]
  },
  {
   "cell_type": "code",
   "execution_count": 45,
   "id": "1744dbf8",
   "metadata": {},
   "outputs": [],
   "source": [
    "lr=LinearRegression()"
   ]
  },
  {
   "cell_type": "markdown",
   "id": "86e81cdc",
   "metadata": {},
   "source": [
    "# Splitting the DataFrame into train-test-split"
   ]
  },
  {
   "cell_type": "code",
   "execution_count": 46,
   "id": "352319cf",
   "metadata": {},
   "outputs": [
    {
     "name": "stdout",
     "output_type": "stream",
     "text": [
      "Linear regression model Result are:-\n",
      "At random state {0} : the training accuracy is :  {0.1610479919279184}\n",
      "At random state {0} : the testing accuracy is :  {0.13396664058725594} \n",
      "\n",
      "Linear regression model Result are:-\n",
      "At random state {1} : the training accuracy is :  {0.12978231107357874}\n",
      "At random state {1} : the testing accuracy is :  {0.2394466797762541} \n",
      "\n",
      "Linear regression model Result are:-\n",
      "At random state {2} : the training accuracy is :  {0.1686536436733862}\n",
      "At random state {2} : the testing accuracy is :  {0.0752975491138882} \n",
      "\n",
      "Linear regression model Result are:-\n",
      "At random state {3} : the training accuracy is :  {0.16366002227604015}\n",
      "At random state {3} : the testing accuracy is :  {0.11576053042527867} \n",
      "\n",
      "Linear regression model Result are:-\n",
      "At random state {4} : the training accuracy is :  {0.15368033269201398}\n",
      "At random state {4} : the testing accuracy is :  {0.15793372009668039} \n",
      "\n",
      "Linear regression model Result are:-\n",
      "At random state {5} : the training accuracy is :  {0.137743286478463}\n",
      "At random state {5} : the testing accuracy is :  {0.21498770939797207} \n",
      "\n",
      "Linear regression model Result are:-\n",
      "At random state {6} : the training accuracy is :  {0.15741654317010245}\n",
      "At random state {6} : the testing accuracy is :  {0.12458503203410032} \n",
      "\n",
      "Linear regression model Result are:-\n",
      "At random state {7} : the training accuracy is :  {0.12562289663211423}\n",
      "At random state {7} : the testing accuracy is :  {0.28348492373263134} \n",
      "\n",
      "Linear regression model Result are:-\n",
      "At random state {8} : the training accuracy is :  {0.13111532156919192}\n",
      "At random state {8} : the testing accuracy is :  {0.24639088769759898} \n",
      "\n",
      "Linear regression model Result are:-\n",
      "At random state {9} : the training accuracy is :  {0.1685920325875374}\n",
      "At random state {9} : the testing accuracy is :  {0.10099770383539175} \n",
      "\n",
      "Linear regression model Result are:-\n",
      "At random state {10} : the training accuracy is :  {0.16252527266757177}\n",
      "At random state {10} : the testing accuracy is :  {0.12510231850536313} \n",
      "\n",
      "Linear regression model Result are:-\n",
      "At random state {11} : the training accuracy is :  {0.12668782056527417}\n",
      "At random state {11} : the testing accuracy is :  {0.2668132472236413} \n",
      "\n",
      "Linear regression model Result are:-\n",
      "At random state {12} : the training accuracy is :  {0.17607721617508632}\n",
      "At random state {12} : the testing accuracy is :  {0.0835103837850445} \n",
      "\n",
      "Linear regression model Result are:-\n",
      "At random state {13} : the training accuracy is :  {0.1144653979501633}\n",
      "At random state {13} : the testing accuracy is :  {0.2962495960468092} \n",
      "\n",
      "Linear regression model Result are:-\n",
      "At random state {14} : the training accuracy is :  {0.16892273913448175}\n",
      "At random state {14} : the testing accuracy is :  {0.09255241842587747} \n",
      "\n",
      "Linear regression model Result are:-\n",
      "At random state {15} : the training accuracy is :  {0.1531895626651838}\n",
      "At random state {15} : the testing accuracy is :  {0.15786489928551473} \n",
      "\n",
      "Linear regression model Result are:-\n",
      "At random state {16} : the training accuracy is :  {0.1868703025726981}\n",
      "At random state {16} : the testing accuracy is :  {0.02163648170348209} \n",
      "\n",
      "Linear regression model Result are:-\n",
      "At random state {17} : the training accuracy is :  {0.12852609404444815}\n",
      "At random state {17} : the testing accuracy is :  {0.27031028464603346} \n",
      "\n",
      "Linear regression model Result are:-\n",
      "At random state {18} : the training accuracy is :  {0.20766456090990093}\n",
      "At random state {18} : the testing accuracy is :  {-0.04291668006028315} \n",
      "\n",
      "Linear regression model Result are:-\n",
      "At random state {19} : the training accuracy is :  {0.13790337640043304}\n",
      "At random state {19} : the testing accuracy is :  {0.16025178420668007} \n",
      "\n",
      "Linear regression model Result are:-\n",
      "At random state {20} : the training accuracy is :  {0.12767834744863382}\n",
      "At random state {20} : the testing accuracy is :  {0.2544846362458242} \n",
      "\n",
      "Linear regression model Result are:-\n",
      "At random state {21} : the training accuracy is :  {0.15790906377943859}\n",
      "At random state {21} : the testing accuracy is :  {0.13838529969790403} \n",
      "\n",
      "Linear regression model Result are:-\n",
      "At random state {22} : the training accuracy is :  {0.16725999935575253}\n",
      "At random state {22} : the testing accuracy is :  {0.10527025801023915} \n",
      "\n",
      "Linear regression model Result are:-\n",
      "At random state {23} : the training accuracy is :  {0.16242671500089412}\n",
      "At random state {23} : the testing accuracy is :  {0.11449819600593303} \n",
      "\n",
      "Linear regression model Result are:-\n",
      "At random state {24} : the training accuracy is :  {0.13665052846975767}\n",
      "At random state {24} : the testing accuracy is :  {0.21944106986423084} \n",
      "\n",
      "Linear regression model Result are:-\n",
      "At random state {25} : the training accuracy is :  {0.1929987895493177}\n",
      "At random state {25} : the testing accuracy is :  {-0.11468373433711232} \n",
      "\n",
      "Linear regression model Result are:-\n",
      "At random state {26} : the training accuracy is :  {0.15529314275643047}\n",
      "At random state {26} : the testing accuracy is :  {0.1467427029955769} \n",
      "\n",
      "Linear regression model Result are:-\n",
      "At random state {27} : the training accuracy is :  {0.16595587886965968}\n",
      "At random state {27} : the testing accuracy is :  {0.05174034482603451} \n",
      "\n",
      "Linear regression model Result are:-\n",
      "At random state {28} : the training accuracy is :  {0.13478507524608208}\n",
      "At random state {28} : the testing accuracy is :  {0.2773322516629865} \n",
      "\n",
      "Linear regression model Result are:-\n",
      "At random state {29} : the training accuracy is :  {0.142480219755164}\n",
      "At random state {29} : the testing accuracy is :  {0.20571819823835757} \n",
      "\n",
      "Linear regression model Result are:-\n",
      "At random state {30} : the training accuracy is :  {0.14081940273631421}\n",
      "At random state {30} : the testing accuracy is :  {0.19610243959332974} \n",
      "\n",
      "Linear regression model Result are:-\n",
      "At random state {31} : the training accuracy is :  {0.14849790266446294}\n",
      "At random state {31} : the testing accuracy is :  {0.15959969521920503} \n",
      "\n",
      "Linear regression model Result are:-\n",
      "At random state {32} : the training accuracy is :  {0.15522369414393622}\n",
      "At random state {32} : the testing accuracy is :  {0.15285446043841866} \n",
      "\n",
      "Linear regression model Result are:-\n",
      "At random state {33} : the training accuracy is :  {0.19312851333982395}\n",
      "At random state {33} : the testing accuracy is :  {-0.011382635271054875} \n",
      "\n",
      "Linear regression model Result are:-\n",
      "At random state {34} : the training accuracy is :  {0.15954560047986677}\n",
      "At random state {34} : the testing accuracy is :  {0.1356133004192721} \n",
      "\n",
      "Linear regression model Result are:-\n",
      "At random state {35} : the training accuracy is :  {0.12299380568332963}\n",
      "At random state {35} : the testing accuracy is :  {0.27049714570132866} \n",
      "\n",
      "Linear regression model Result are:-\n",
      "At random state {36} : the training accuracy is :  {0.17843228319617577}\n",
      "At random state {36} : the testing accuracy is :  {0.059887412625932} \n",
      "\n",
      "Linear regression model Result are:-\n",
      "At random state {37} : the training accuracy is :  {0.14567070144656047}\n",
      "At random state {37} : the testing accuracy is :  {0.17952469848648034} \n",
      "\n",
      "Linear regression model Result are:-\n",
      "At random state {38} : the training accuracy is :  {0.17474741930858162}\n",
      "At random state {38} : the testing accuracy is :  {0.07588583592999909} \n",
      "\n",
      "Linear regression model Result are:-\n",
      "At random state {39} : the training accuracy is :  {0.15561926019190297}\n",
      "At random state {39} : the testing accuracy is :  {0.14499131211968463} \n",
      "\n",
      "Linear regression model Result are:-\n",
      "At random state {40} : the training accuracy is :  {0.15227617133216131}\n",
      "At random state {40} : the testing accuracy is :  {0.16405512637029918} \n",
      "\n",
      "Linear regression model Result are:-\n",
      "At random state {41} : the training accuracy is :  {0.12330152311976106}\n",
      "At random state {41} : the testing accuracy is :  {0.29805258418801983} \n",
      "\n",
      "Linear regression model Result are:-\n",
      "At random state {42} : the training accuracy is :  {0.17876953027426534}\n",
      "At random state {42} : the testing accuracy is :  {0.029108822907611187} \n",
      "\n",
      "Linear regression model Result are:-\n",
      "At random state {43} : the training accuracy is :  {0.16760363610030005}\n",
      "At random state {43} : the testing accuracy is :  {0.09870056558047868} \n",
      "\n",
      "Linear regression model Result are:-\n",
      "At random state {44} : the training accuracy is :  {0.14848535622593473}\n",
      "At random state {44} : the testing accuracy is :  {0.165975762301674} \n",
      "\n",
      "Linear regression model Result are:-\n",
      "At random state {45} : the training accuracy is :  {0.1634760886962484}\n",
      "At random state {45} : the testing accuracy is :  {0.11599044631152144} \n",
      "\n",
      "Linear regression model Result are:-\n",
      "At random state {46} : the training accuracy is :  {0.16219357419820146}\n",
      "At random state {46} : the testing accuracy is :  {0.11330169417517799} \n",
      "\n",
      "Linear regression model Result are:-\n",
      "At random state {47} : the training accuracy is :  {0.1858531436270061}\n",
      "At random state {47} : the testing accuracy is :  {-0.09891436565188005} \n",
      "\n",
      "Linear regression model Result are:-\n",
      "At random state {48} : the training accuracy is :  {0.16247731413256106}\n",
      "At random state {48} : the testing accuracy is :  {0.11351789938360923} \n",
      "\n",
      "Linear regression model Result are:-\n",
      "At random state {49} : the training accuracy is :  {0.17712121089901756}\n",
      "At random state {49} : the testing accuracy is :  {0.046765999072687525} \n",
      "\n",
      "Linear regression model Result are:-\n",
      "At random state {50} : the training accuracy is :  {0.15221838665649623}\n",
      "At random state {50} : the testing accuracy is :  {0.15566406136708644} \n",
      "\n",
      "Linear regression model Result are:-\n",
      "At random state {51} : the training accuracy is :  {0.14979688765514743}\n",
      "At random state {51} : the testing accuracy is :  {0.17424471866009328} \n",
      "\n",
      "Linear regression model Result are:-\n",
      "At random state {52} : the training accuracy is :  {0.13117695429105003}\n",
      "At random state {52} : the testing accuracy is :  {0.2302179252714206} \n",
      "\n",
      "Linear regression model Result are:-\n",
      "At random state {53} : the training accuracy is :  {0.13296854635023003}\n",
      "At random state {53} : the testing accuracy is :  {0.22590219241699305} \n",
      "\n",
      "Linear regression model Result are:-\n",
      "At random state {54} : the training accuracy is :  {0.15080273251626375}\n",
      "At random state {54} : the testing accuracy is :  {0.14457204384380984} \n",
      "\n",
      "Linear regression model Result are:-\n",
      "At random state {55} : the training accuracy is :  {0.15609115662523365}\n",
      "At random state {55} : the testing accuracy is :  {0.14572010474630237} \n",
      "\n",
      "Linear regression model Result are:-\n",
      "At random state {56} : the training accuracy is :  {0.13707920119572914}\n",
      "At random state {56} : the testing accuracy is :  {0.2141979126096949} \n",
      "\n",
      "Linear regression model Result are:-\n",
      "At random state {57} : the training accuracy is :  {0.15254480262230952}\n",
      "At random state {57} : the testing accuracy is :  {0.153138493857374} \n",
      "\n",
      "Linear regression model Result are:-\n",
      "At random state {58} : the training accuracy is :  {0.24351020376475419}\n",
      "At random state {58} : the testing accuracy is :  {-0.16696004122257513} \n",
      "\n",
      "Linear regression model Result are:-\n",
      "At random state {59} : the training accuracy is :  {0.1627072380327288}\n",
      "At random state {59} : the testing accuracy is :  {0.12554914119632354} \n",
      "\n",
      "Linear regression model Result are:-\n",
      "At random state {60} : the training accuracy is :  {0.19689822082573594}\n",
      "At random state {60} : the testing accuracy is :  {-0.054573527368728225} \n",
      "\n",
      "Linear regression model Result are:-\n",
      "At random state {61} : the training accuracy is :  {0.1356994403216557}\n",
      "At random state {61} : the testing accuracy is :  {0.22658691012136023} \n",
      "\n",
      "Linear regression model Result are:-\n",
      "At random state {62} : the training accuracy is :  {0.14473860009890993}\n",
      "At random state {62} : the testing accuracy is :  {0.200745132531722} \n",
      "\n",
      "Linear regression model Result are:-\n",
      "At random state {63} : the training accuracy is :  {0.1363506774201665}\n",
      "At random state {63} : the testing accuracy is :  {0.21426833911951126} \n",
      "\n",
      "Linear regression model Result are:-\n",
      "At random state {64} : the training accuracy is :  {0.14673117266048086}\n",
      "At random state {64} : the testing accuracy is :  {0.18177537429182478} \n",
      "\n",
      "Linear regression model Result are:-\n",
      "At random state {65} : the training accuracy is :  {0.14257854084828547}\n",
      "At random state {65} : the testing accuracy is :  {0.1992048146101324} \n",
      "\n",
      "Linear regression model Result are:-\n",
      "At random state {66} : the training accuracy is :  {0.10804922823492513}\n",
      "At random state {66} : the testing accuracy is :  {0.33133416296372964} \n",
      "\n",
      "Linear regression model Result are:-\n",
      "At random state {67} : the training accuracy is :  {0.18355833961556156}\n",
      "At random state {67} : the testing accuracy is :  {-0.0009426916711947619} \n",
      "\n",
      "Linear regression model Result are:-\n",
      "At random state {68} : the training accuracy is :  {0.17760197181974102}\n",
      "At random state {68} : the testing accuracy is :  {0.0705826833421993} \n",
      "\n",
      "Linear regression model Result are:-\n",
      "At random state {69} : the training accuracy is :  {0.16093334804352144}\n",
      "At random state {69} : the testing accuracy is :  {0.130306198621161} \n",
      "\n",
      "Linear regression model Result are:-\n",
      "At random state {70} : the training accuracy is :  {0.1458746583257703}\n",
      "At random state {70} : the testing accuracy is :  {0.18889556051799072} \n",
      "\n",
      "Linear regression model Result are:-\n",
      "At random state {71} : the training accuracy is :  {0.18925740024038518}\n",
      "At random state {71} : the testing accuracy is :  {0.042009278949594164} \n",
      "\n",
      "Linear regression model Result are:-\n",
      "At random state {72} : the training accuracy is :  {0.21385166072840645}\n",
      "At random state {72} : the testing accuracy is :  {-0.08378035604851619} \n",
      "\n",
      "Linear regression model Result are:-\n",
      "At random state {73} : the training accuracy is :  {0.14181484308020187}\n",
      "At random state {73} : the testing accuracy is :  {0.19580204521347888} \n",
      "\n",
      "Linear regression model Result are:-\n",
      "At random state {74} : the training accuracy is :  {0.15524364856433992}\n",
      "At random state {74} : the testing accuracy is :  {0.14174705075889404} \n",
      "\n",
      "Linear regression model Result are:-\n",
      "At random state {75} : the training accuracy is :  {0.15581521153634448}\n",
      "At random state {75} : the testing accuracy is :  {0.13709355754804975} \n",
      "\n",
      "Linear regression model Result are:-\n",
      "At random state {76} : the training accuracy is :  {0.1805172242326546}\n",
      "At random state {76} : the testing accuracy is :  {0.035491914005112646} \n",
      "\n",
      "Linear regression model Result are:-\n",
      "At random state {77} : the training accuracy is :  {0.15748084819427866}\n",
      "At random state {77} : the testing accuracy is :  {0.13453939475189347} \n",
      "\n",
      "Linear regression model Result are:-\n",
      "At random state {78} : the training accuracy is :  {0.15789012511817224}\n",
      "At random state {78} : the testing accuracy is :  {0.14211539644021975} \n",
      "\n",
      "Linear regression model Result are:-\n",
      "At random state {79} : the training accuracy is :  {0.16572830091130708}\n",
      "At random state {79} : the testing accuracy is :  {0.10379339397344634} \n",
      "\n",
      "Linear regression model Result are:-\n",
      "At random state {80} : the training accuracy is :  {0.15379649887905755}\n",
      "At random state {80} : the testing accuracy is :  {0.1574860180245271} \n",
      "\n",
      "Linear regression model Result are:-\n",
      "At random state {81} : the training accuracy is :  {0.1528759192364748}\n",
      "At random state {81} : the testing accuracy is :  {0.15034622086978155} \n",
      "\n",
      "Linear regression model Result are:-\n",
      "At random state {82} : the training accuracy is :  {0.174036311278581}\n",
      "At random state {82} : the testing accuracy is :  {0.06725523097265207} \n",
      "\n",
      "Linear regression model Result are:-\n",
      "At random state {83} : the training accuracy is :  {0.1708678912302476}\n",
      "At random state {83} : the testing accuracy is :  {0.10502607547615772} \n",
      "\n",
      "Linear regression model Result are:-\n",
      "At random state {84} : the training accuracy is :  {0.14598895346778562}\n",
      "At random state {84} : the testing accuracy is :  {0.17940044450716786} \n",
      "\n",
      "Linear regression model Result are:-\n",
      "At random state {85} : the training accuracy is :  {0.1397064549124527}\n",
      "At random state {85} : the testing accuracy is :  {0.20224211644016044} \n",
      "\n",
      "Linear regression model Result are:-\n",
      "At random state {86} : the training accuracy is :  {0.17800971615270955}\n",
      "At random state {86} : the testing accuracy is :  {0.06816857415812871} \n",
      "\n",
      "Linear regression model Result are:-\n",
      "At random state {87} : the training accuracy is :  {0.1538393364037849}\n",
      "At random state {87} : the testing accuracy is :  {0.1558313326580537} \n",
      "\n",
      "Linear regression model Result are:-\n",
      "At random state {88} : the training accuracy is :  {0.15273305774163926}\n",
      "At random state {88} : the testing accuracy is :  {0.15346906230503843} \n",
      "\n",
      "Linear regression model Result are:-\n",
      "At random state {89} : the training accuracy is :  {0.16147817790868213}\n",
      "At random state {89} : the testing accuracy is :  {0.12671805609844145} \n",
      "\n",
      "Linear regression model Result are:-\n",
      "At random state {90} : the training accuracy is :  {0.151621509493172}\n",
      "At random state {90} : the testing accuracy is :  {0.16524851836416043} \n",
      "\n",
      "Linear regression model Result are:-\n",
      "At random state {91} : the training accuracy is :  {0.15511746119046155}\n",
      "At random state {91} : the testing accuracy is :  {0.15194543864727672} \n",
      "\n",
      "Linear regression model Result are:-\n",
      "At random state {92} : the training accuracy is :  {0.16310059421152623}\n",
      "At random state {92} : the testing accuracy is :  {0.09255433453842787} \n",
      "\n",
      "Linear regression model Result are:-\n",
      "At random state {93} : the training accuracy is :  {0.18092664117185597}\n",
      "At random state {93} : the testing accuracy is :  {0.06599216022579024} \n",
      "\n",
      "Linear regression model Result are:-\n",
      "At random state {94} : the training accuracy is :  {0.15282350121630062}\n",
      "At random state {94} : the testing accuracy is :  {0.1644145984889135} \n",
      "\n",
      "Linear regression model Result are:-\n",
      "At random state {95} : the training accuracy is :  {0.13642173809837488}\n",
      "At random state {95} : the testing accuracy is :  {0.21222586369748808} \n",
      "\n",
      "Linear regression model Result are:-\n",
      "At random state {96} : the training accuracy is :  {0.1666081628059678}\n",
      "At random state {96} : the testing accuracy is :  {0.09911012494363913} \n",
      "\n",
      "Linear regression model Result are:-\n",
      "At random state {97} : the training accuracy is :  {0.15470512867263753}\n",
      "At random state {97} : the testing accuracy is :  {0.15485620441799142} \n",
      "\n",
      "Linear regression model Result are:-\n",
      "At random state {98} : the training accuracy is :  {0.14849211053392786}\n",
      "At random state {98} : the testing accuracy is :  {0.16605980161993827} \n",
      "\n",
      "Linear regression model Result are:-\n",
      "At random state {99} : the training accuracy is :  {0.11745006925856627}\n",
      "At random state {99} : the testing accuracy is :  {0.2646125156064788} \n",
      "\n"
     ]
    }
   ],
   "source": [
    "for i in range(0,100):\n",
    "    x_train,x_test,y_train,y_test=train_test_split(x,y, random_state=i, test_size=0.20)\n",
    "    lr.fit(x_train,y_train)\n",
    "    pred_train=lr.predict(x_train)\n",
    "    pred_test=lr.predict(x_test)\n",
    "    print('Linear regression model Result are:-' )\n",
    "    print('At random state' , {i} , ':' , 'the training accuracy is : ',{r2_score(y_train,pred_train)})\n",
    "    print('At random state' , {i} , ':' , 'the testing accuracy is : ',{r2_score(y_test,pred_test)},'\\n')"
   ]
  },
  {
   "cell_type": "code",
   "execution_count": 47,
   "id": "8ebf0ef9",
   "metadata": {},
   "outputs": [],
   "source": [
    "x_train,x_test,y_train,y_test=train_test_split(x,y, random_state=9, test_size=0.20)"
   ]
  },
  {
   "cell_type": "code",
   "execution_count": 48,
   "id": "19c7944b",
   "metadata": {},
   "outputs": [
    {
     "data": {
      "text/plain": [
       "LinearRegression()"
      ]
     },
     "execution_count": 48,
     "metadata": {},
     "output_type": "execute_result"
    }
   ],
   "source": [
    "lr.fit(x_train,y_train)"
   ]
  },
  {
   "cell_type": "code",
   "execution_count": 49,
   "id": "2504e690",
   "metadata": {},
   "outputs": [],
   "source": [
    "pred_test=lr.predict(x_test)"
   ]
  },
  {
   "cell_type": "code",
   "execution_count": 50,
   "id": "e3dcd848",
   "metadata": {},
   "outputs": [
    {
     "name": "stdout",
     "output_type": "stream",
     "text": [
      "{0.10099770383539175}\n"
     ]
    }
   ],
   "source": [
    "print({r2_score(y_test,pred_test)})"
   ]
  },
  {
   "cell_type": "code",
   "execution_count": 51,
   "id": "1e5ef6b4",
   "metadata": {},
   "outputs": [
    {
     "name": "stdout",
     "output_type": "stream",
     "text": [
      "Result  from Linear regression model\n",
      "R2 score is  -7.086377271667082\n",
      "mean_squared_error 966740453.8160942\n"
     ]
    }
   ],
   "source": [
    "print('Result  from Linear regression model')\n",
    "print('R2 score is ',r2_score(pred_test,y_test))\n",
    "print('mean_squared_error', mean_squared_error(pred_test,y_test))"
   ]
  },
  {
   "cell_type": "markdown",
   "id": "0aacd30c",
   "metadata": {},
   "source": [
    "# Cross Validation score for Linear Regression"
   ]
  },
  {
   "cell_type": "code",
   "execution_count": 52,
   "id": "1db1b571",
   "metadata": {},
   "outputs": [],
   "source": [
    "train_accuracy=r2_score(y_train,pred_train)\n",
    "test_accuracy=r2_score(y_test,pred_test)"
   ]
  },
  {
   "cell_type": "code",
   "execution_count": 53,
   "id": "75b03a12",
   "metadata": {},
   "outputs": [],
   "source": [
    "from sklearn.model_selection import cross_val_score"
   ]
  },
  {
   "cell_type": "code",
   "execution_count": 56,
   "id": "474a136e",
   "metadata": {},
   "outputs": [
    {
     "name": "stdout",
     "output_type": "stream",
     "text": [
      "At cross fold  {2} the cv score is  {0.12791664084316184} \n",
      " and accuracy score for training is  {-0.09365807827023387} \n",
      " and accuracy score for testing is {0.10099770383539175} \n",
      "\n",
      "At cross fold  {3} the cv score is  {0.134069755121102} \n",
      " and accuracy score for training is  {-0.09365807827023387} \n",
      " and accuracy score for testing is {0.10099770383539175} \n",
      "\n",
      "At cross fold  {4} the cv score is  {0.14503408040293578} \n",
      " and accuracy score for training is  {-0.09365807827023387} \n",
      " and accuracy score for testing is {0.10099770383539175} \n",
      "\n",
      "At cross fold  {5} the cv score is  {0.12528334205778283} \n",
      " and accuracy score for training is  {-0.09365807827023387} \n",
      " and accuracy score for testing is {0.10099770383539175} \n",
      "\n",
      "At cross fold  {6} the cv score is  {0.13373457201773156} \n",
      " and accuracy score for training is  {-0.09365807827023387} \n",
      " and accuracy score for testing is {0.10099770383539175} \n",
      "\n",
      "At cross fold  {7} the cv score is  {0.10458026450532798} \n",
      " and accuracy score for training is  {-0.09365807827023387} \n",
      " and accuracy score for testing is {0.10099770383539175} \n",
      "\n",
      "At cross fold  {8} the cv score is  {0.1387766379267223} \n",
      " and accuracy score for training is  {-0.09365807827023387} \n",
      " and accuracy score for testing is {0.10099770383539175} \n",
      "\n",
      "At cross fold  {9} the cv score is  {0.0816517076858883} \n",
      " and accuracy score for training is  {-0.09365807827023387} \n",
      " and accuracy score for testing is {0.10099770383539175} \n",
      "\n"
     ]
    }
   ],
   "source": [
    "for j in range(2,10):\n",
    "    cv_score=cross_val_score(lr,x,y,cv=j)\n",
    "    cv_mean=cv_score.mean()\n",
    "    print(\"At cross fold \",{j},\"the cv score is \", {cv_mean}, \"\\n and accuracy score for training is \",{train_accuracy},\"\\n and accuracy score for testing is\",{test_accuracy}, \"\\n\" )"
   ]
  },
  {
   "cell_type": "code",
   "execution_count": 57,
   "id": "9be3b43f",
   "metadata": {},
   "outputs": [],
   "source": [
    "from sklearn.model_selection import GridSearchCV\n",
    "from sklearn.model_selection import cross_val_score\n",
    "from sklearn.linear_model import Lasso"
   ]
  },
  {
   "cell_type": "code",
   "execution_count": 58,
   "id": "b71bb85c",
   "metadata": {},
   "outputs": [
    {
     "data": {
      "text/plain": [
       "0.10099719017099829"
      ]
     },
     "execution_count": 58,
     "metadata": {},
     "output_type": "execute_result"
    }
   ],
   "source": [
    "ls=Lasso(alpha=1,random_state=0)\n",
    "ls.fit(x_train,y_train)\n",
    "ls.score(x_train,y_train)\n",
    "pred_ls=ls.predict(x_test)\n",
    "\n",
    "ls_score=r2_score(y_test,pred_ls)\n",
    "ls_score"
   ]
  },
  {
   "cell_type": "code",
   "execution_count": 59,
   "id": "36c899b8",
   "metadata": {},
   "outputs": [
    {
     "data": {
      "text/plain": [
       "0.12528175832582533"
      ]
     },
     "execution_count": 59,
     "metadata": {},
     "output_type": "execute_result"
    }
   ],
   "source": [
    "cv_score=cross_val_score(ls,x,y,cv=5)\n",
    "cv_mean=cv_score.mean()\n",
    "cv_mean"
   ]
  },
  {
   "cell_type": "code",
   "execution_count": 60,
   "id": "a77f64c3",
   "metadata": {},
   "outputs": [
    {
     "data": {
      "text/plain": [
       "0.10099719017099829"
      ]
     },
     "execution_count": 60,
     "metadata": {},
     "output_type": "execute_result"
    }
   ],
   "source": [
    "ls.score(x_test,y_test)"
   ]
  },
  {
   "cell_type": "code",
   "execution_count": 61,
   "id": "3aa5126c",
   "metadata": {},
   "outputs": [],
   "source": [
    "from sklearn.ensemble import RandomForestRegressor\n",
    "from sklearn.ensemble import AdaBoostRegressor"
   ]
  },
  {
   "cell_type": "markdown",
   "id": "5d7fd512",
   "metadata": {},
   "source": [
    "# Random Forest Regressor Model"
   ]
  },
  {
   "cell_type": "code",
   "execution_count": 62,
   "id": "f1ce0606",
   "metadata": {},
   "outputs": [
    {
     "name": "stdout",
     "output_type": "stream",
     "text": [
      "Random_forestregressor result :-\n",
      "R2 score is : -2.3673528558176034\n",
      "mean_squared_error : 891207603.3530983\n"
     ]
    }
   ],
   "source": [
    "rf=RandomForestRegressor(n_estimators=10, bootstrap=True, random_state=2000)\n",
    "rf.fit(x_train,y_train)\n",
    "pred=rf.predict(x_test)\n",
    "print('Random_forestregressor result :-')\n",
    "print('R2 score is :',r2_score(pred,y_test))\n",
    "print('mean_squared_error :', mean_squared_error(pred,y_test))"
   ]
  },
  {
   "cell_type": "markdown",
   "id": "3ded3479",
   "metadata": {},
   "source": [
    "# SVM Regressor Model"
   ]
  },
  {
   "cell_type": "code",
   "execution_count": 63,
   "id": "49617240",
   "metadata": {},
   "outputs": [
    {
     "name": "stdout",
     "output_type": "stream",
     "text": [
      "SVM regrssor result :\n",
      "R2 score is : -2.3673528558176034\n",
      "mean_squared_error : 891207603.3530983\n"
     ]
    }
   ],
   "source": [
    "from sklearn.svm import SVR\n",
    "sv = SVR(kernel ='rbf', gamma=1, epsilon=3)\n",
    "sv.fit(x_train, y_train)\n",
    "pred_sv= sv.predict(x_test)\n",
    "print('SVM regrssor result :')\n",
    "print('R2 score is :',r2_score(pred,y_test))\n",
    "print('mean_squared_error :', mean_squared_error(pred,y_test))"
   ]
  },
  {
   "cell_type": "markdown",
   "id": "5edb41cc",
   "metadata": {},
   "source": [
    "# KNN Regressor Model"
   ]
  },
  {
   "cell_type": "code",
   "execution_count": 64,
   "id": "0a904f7c",
   "metadata": {},
   "outputs": [
    {
     "name": "stdout",
     "output_type": "stream",
     "text": [
      " KNN regressor result :-\n",
      "R2 score is  -2.3673528558176034\n",
      "mean_squared_error 891207603.3530983\n"
     ]
    }
   ],
   "source": [
    "from sklearn.neighbors  import KNeighborsRegressor\n",
    "kn =KNeighborsRegressor(n_neighbors=7, algorithm='kd_tree', weights='distance')\n",
    "kn.fit(x_train, y_train)\n",
    "pred_kn= kn.predict(x_test)\n",
    "print(' KNN regressor result :-')\n",
    "print('R2 score is ',r2_score(pred,y_test))\n",
    "print('mean_squared_error', mean_squared_error(pred,y_test))"
   ]
  },
  {
   "cell_type": "markdown",
   "id": "8c8af6a4",
   "metadata": {},
   "source": [
    "# Cross-Validation"
   ]
  },
  {
   "cell_type": "code",
   "execution_count": 65,
   "id": "d86da4a9",
   "metadata": {},
   "outputs": [
    {
     "name": "stdout",
     "output_type": "stream",
     "text": [
      "[ 0.26971103  0.27336854  0.13224895  0.29208181 -0.25622279 -0.2448996\n",
      " -0.05183403  0.10579446  0.214617  ] \n",
      "\n",
      "0.0816517076858883 \n",
      "\n",
      "0.20435225049732111\n"
     ]
    }
   ],
   "source": [
    "from sklearn.model_selection import  KFold\n",
    "from sklearn import linear_model\n",
    "Kfold= KFold(9)\n",
    "cv_mod= cross_val_score(lr,x,y,cv=Kfold)\n",
    "print(cv_mod,'\\n')\n",
    "print(cv_mod.mean(),'\\n')\n",
    "print(cv_mod.std())"
   ]
  },
  {
   "cell_type": "code",
   "execution_count": 66,
   "id": "8f5903e8",
   "metadata": {},
   "outputs": [],
   "source": [
    "import pickle\n",
    "filename='salary_prediction'\n",
    "pickle.dump(rf,open(filename,'wb'))"
   ]
  },
  {
   "cell_type": "code",
   "execution_count": 67,
   "id": "8300dd68",
   "metadata": {},
   "outputs": [
    {
     "data": {
      "text/html": [
       "<div>\n",
       "<style scoped>\n",
       "    .dataframe tbody tr th:only-of-type {\n",
       "        vertical-align: middle;\n",
       "    }\n",
       "\n",
       "    .dataframe tbody tr th {\n",
       "        vertical-align: top;\n",
       "    }\n",
       "\n",
       "    .dataframe thead th {\n",
       "        text-align: right;\n",
       "    }\n",
       "</style>\n",
       "<table border=\"1\" class=\"dataframe\">\n",
       "  <thead>\n",
       "    <tr style=\"text-align: right;\">\n",
       "      <th></th>\n",
       "      <th>Orginal</th>\n",
       "      <th>Predicted</th>\n",
       "    </tr>\n",
       "  </thead>\n",
       "  <tbody>\n",
       "    <tr>\n",
       "      <th>0</th>\n",
       "      <td>168500.0</td>\n",
       "      <td>121997.288299</td>\n",
       "    </tr>\n",
       "    <tr>\n",
       "      <th>1</th>\n",
       "      <td>57800.0</td>\n",
       "      <td>92332.950000</td>\n",
       "    </tr>\n",
       "    <tr>\n",
       "      <th>2</th>\n",
       "      <td>82099.0</td>\n",
       "      <td>94367.441503</td>\n",
       "    </tr>\n",
       "    <tr>\n",
       "      <th>3</th>\n",
       "      <td>79750.0</td>\n",
       "      <td>87350.986557</td>\n",
       "    </tr>\n",
       "    <tr>\n",
       "      <th>4</th>\n",
       "      <td>162221.0</td>\n",
       "      <td>118991.652778</td>\n",
       "    </tr>\n",
       "    <tr>\n",
       "      <th>...</th>\n",
       "      <td>...</td>\n",
       "      <td>...</td>\n",
       "    </tr>\n",
       "    <tr>\n",
       "      <th>74</th>\n",
       "      <td>82100.0</td>\n",
       "      <td>142284.429206</td>\n",
       "    </tr>\n",
       "    <tr>\n",
       "      <th>75</th>\n",
       "      <td>101738.0</td>\n",
       "      <td>138920.240108</td>\n",
       "    </tr>\n",
       "    <tr>\n",
       "      <th>76</th>\n",
       "      <td>170000.0</td>\n",
       "      <td>128821.415000</td>\n",
       "    </tr>\n",
       "    <tr>\n",
       "      <th>77</th>\n",
       "      <td>141136.0</td>\n",
       "      <td>125554.143810</td>\n",
       "    </tr>\n",
       "    <tr>\n",
       "      <th>78</th>\n",
       "      <td>103760.0</td>\n",
       "      <td>125151.381230</td>\n",
       "    </tr>\n",
       "  </tbody>\n",
       "</table>\n",
       "<p>79 rows × 2 columns</p>\n",
       "</div>"
      ],
      "text/plain": [
       "     Orginal      Predicted\n",
       "0   168500.0  121997.288299\n",
       "1    57800.0   92332.950000\n",
       "2    82099.0   94367.441503\n",
       "3    79750.0   87350.986557\n",
       "4   162221.0  118991.652778\n",
       "..       ...            ...\n",
       "74   82100.0  142284.429206\n",
       "75  101738.0  138920.240108\n",
       "76  170000.0  128821.415000\n",
       "77  141136.0  125554.143810\n",
       "78  103760.0  125151.381230\n",
       "\n",
       "[79 rows x 2 columns]"
      ]
     },
     "execution_count": 67,
     "metadata": {},
     "output_type": "execute_result"
    }
   ],
   "source": [
    "import numpy as np\n",
    "a =np.array(y_test)\n",
    "predicted=np.array(rf.predict(x_test))\n",
    "df_sal=pd.DataFrame({'Orginal':a,'Predicted':predicted}, index=range(len(a)))\n",
    "df_sal"
   ]
  },
  {
   "cell_type": "code",
   "execution_count": null,
   "id": "05863793",
   "metadata": {},
   "outputs": [],
   "source": []
  }
 ],
 "metadata": {
  "kernelspec": {
   "display_name": "Python 3 (ipykernel)",
   "language": "python",
   "name": "python3"
  },
  "language_info": {
   "codemirror_mode": {
    "name": "ipython",
    "version": 3
   },
   "file_extension": ".py",
   "mimetype": "text/x-python",
   "name": "python",
   "nbconvert_exporter": "python",
   "pygments_lexer": "ipython3",
   "version": "3.9.7"
  }
 },
 "nbformat": 4,
 "nbformat_minor": 5
}
